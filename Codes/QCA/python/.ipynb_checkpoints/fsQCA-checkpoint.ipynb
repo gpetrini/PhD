{
 "cells": [
  {
   "cell_type": "markdown",
   "metadata": {},
   "source": [
    "# Introduction\n",
    "\n",
    "python3 update for libfsqca in kirq package."
   ]
  },
  {
   "cell_type": "code",
   "execution_count": 1,
   "metadata": {
    "ExecuteTime": {
     "end_time": "2020-04-07T12:41:30.084344Z",
     "start_time": "2020-04-07T12:41:29.093428Z"
    }
   },
   "outputs": [],
   "source": [
    "from __future__ import division  # note that we use real division\n",
    "                                 # throughout; this is primarily for\n",
    "                                 # the consistency and coverage\n",
    "                                 # calculations\n",
    "import sys\n",
    "import re\n",
    "from math import *\n",
    "\n",
    "import pandas as pd\n",
    "import numpy as np\n",
    "import matplotlib.pyplot as plt\n",
    "import seaborn as sns"
   ]
  },
  {
   "cell_type": "markdown",
   "metadata": {},
   "source": [
    "# General proposes QCA usage"
   ]
  },
  {
   "cell_type": "markdown",
   "metadata": {},
   "source": [
    "## Errors"
   ]
  },
  {
   "cell_type": "code",
   "execution_count": 2,
   "metadata": {
    "ExecuteTime": {
     "end_time": "2020-04-07T12:42:12.783596Z",
     "start_time": "2020-04-07T12:42:12.760244Z"
    }
   },
   "outputs": [],
   "source": [
    "class BoundaryError(ValueError):\n",
    "    \"\"\"Exception raised when value is out of bounds.\"\"\"\n",
    "    pass\n",
    "\n",
    "class QcaError(Exception):\n",
    "    \"\"\"Base class for exceptions in libfsqca module.\"\"\"\n",
    "    pass\n",
    "\n",
    "class TruthTableReductionError(QcaError):\n",
    "    \"\"\"Exception raised when attempting to reduce a truth table that\n",
    "    cannot be reduced.\"\"\"\n",
    "    pass\n",
    "\n",
    "class ContradictionError(TruthTableReductionError):\n",
    "    \"\"\"Exception raised on attempt to reduce a truth table with a\n",
    "    contradiction.\"\"\"\n",
    "    pass\n",
    "\n",
    "class NoPositiveTTRowError(TruthTableReductionError):\n",
    "    \"\"\"Exception raised on attempt to reduce a truth table without any\n",
    "    positive rows.\"\"\"\n",
    "    pass\n",
    "\n",
    "class PrimeImplicantsNotFoundError(TruthTableReductionError):\n",
    "    \"\"\"Exception raised when unable to identify prime implicants.\"\"\"\n",
    "    pass\n",
    "\n",
    "class TruthTableConstructionError(QcaError):\n",
    "    \"\"\"Exception raised on attempt to construct an invalid truth\n",
    "    table.\"\"\"\n",
    "    pass"
   ]
  },
  {
   "cell_type": "markdown",
   "metadata": {},
   "source": [
    "## Outcome type"
   ]
  },
  {
   "cell_type": "code",
   "execution_count": 38,
   "metadata": {
    "ExecuteTime": {
     "end_time": "2020-04-07T13:52:54.709419Z",
     "start_time": "2020-04-07T13:52:54.695713Z"
    }
   },
   "outputs": [],
   "source": [
    "class Contradiction(object):\n",
    "    def __call__(self):\n",
    "        TypeError: print(\"'Contradiction' object is not callable\")\n",
    "        raise \n",
    "\n",
    "    def __repr__(self):\n",
    "        return 'Contradiction'\n",
    "\n",
    "class Remainder(object):\n",
    "    def __call__(self):\n",
    "        TypeError: print(\"'Remainder' object is not callable\")\n",
    "        raise\n",
    "\n",
    "    def __repr__(self):\n",
    "        return 'Remainder'\n",
    "\n",
    "class Impossible(object):\n",
    "    def __call__(self):\n",
    "        TypeError:print(\"'Impossible' object is not callable\")\n",
    "        raise\n",
    "        \n",
    "    def __repr__(self):\n",
    "        return 'Impossible'\n"
   ]
  },
  {
   "cell_type": "markdown",
   "metadata": {},
   "source": [
    "# Basic fuzzy operations\n",
    "\n",
    "Ragin, Charles C.  2000.  Fuzzy-Set Social Science.  University of Chicago Press: Chicago."
   ]
  },
  {
   "cell_type": "code",
   "execution_count": 3,
   "metadata": {
    "ExecuteTime": {
     "end_time": "2020-04-07T12:42:15.736528Z",
     "start_time": "2020-04-07T12:42:15.715764Z"
    }
   },
   "outputs": [],
   "source": [
    "def fznot(fzset): # fuzzy not\n",
    "    \"\"\"Boolean negation.\"\"\"\n",
    "    return [ 1 - x for x in fzset ]\n",
    "\n",
    "def fzand(fzset1,fzset2): # fuzzy and\n",
    "    \"\"\"Boolean multiplication.\"\"\"\n",
    "    return [ min(x,y) for x,y in zip(fzset1,fzset2) ]\n",
    "\n",
    "def fzor(fzset1,fzset2): # fuzzy or\n",
    "    \"\"\"Boolean addition.\"\"\"\n",
    "    return [ max(x,y) for x,y in zip(fzset1,fzset2) ]\n",
    "\n",
    "def fzconc(fzset): # concentration\n",
    "    \"\"\"Boolean concentration.\"\"\"\n",
    "    return [ pow(x,2) for x in fzset ]\n",
    "\n",
    "def fzdilate(fzset): # dilation\n",
    "    \"\"\"Boolean dilation.\"\"\"\n",
    "    return [ sqrt(x) for x in fzset ]\n"
   ]
  },
  {
   "cell_type": "markdown",
   "metadata": {},
   "source": [
    "# Consistency & Coverage\n",
    "\n",
    "Ragin, Charles C.  2006.  \"Set Relations in Social Research: Evaluating Their Consistency and Coverage.\"  Political Analysis 14(3):291--310."
   ]
  },
  {
   "cell_type": "markdown",
   "metadata": {},
   "source": [
    "Suficient Consistency = $\\frac{\\sum min (x,y)}{\\sum x}$\n",
    "\n",
    "Necessary Consistency = $\\frac{\\sum min (x,y)}{\\sum y}$"
   ]
  },
  {
   "cell_type": "code",
   "execution_count": 4,
   "metadata": {
    "ExecuteTime": {
     "end_time": "2020-04-03T13:38:48.469078Z",
     "start_time": "2020-04-03T13:38:48.458758Z"
    }
   },
   "outputs": [],
   "source": [
    "def consist_suf(fzset1,fzset2):\n",
    "    \n",
    "    sumxy = sum(fzand(fzset1, fzset2))\n",
    "    sumx = sum(fzset1)\n",
    "\n",
    "    if (sumxy == 0) and (sumx == 0):  # if both terms are zero,\n",
    "        return 0                      # consistency is zero; avoid\n",
    "                                      # ZeroDivision error\n",
    "    else:\n",
    "        return (sumxy/sumx)\n",
    "\n",
    "def consist_nec(fzset1,fzset2):\n",
    "    \n",
    "    sumxy = sum(fzand(fzset1, fzset2))\n",
    "    sumy = sum(fzset2)\n",
    "\n",
    "    if (sumxy == 0) and (sumy == 0):  # if both terms are zero,\n",
    "        return 0                      # consistency is zero; avoid\n",
    "                                      # ZeroDivision error\n",
    "    else:\n",
    "        return (sumxy/sumy)"
   ]
  },
  {
   "cell_type": "code",
   "execution_count": 4,
   "metadata": {
    "ExecuteTime": {
     "end_time": "2020-04-07T12:42:19.642396Z",
     "start_time": "2020-04-07T12:42:19.616490Z"
    }
   },
   "outputs": [],
   "source": [
    "def is_subset(subset, superset):\n",
    "    \"\"\"Is one set a (proper) subset of another?\n",
    "\n",
    "    This function is not for general use but for truth tables rows in\n",
    "    which elements are True, False, or Don't Care (i.e., None).  Don't\n",
    "    Cares match anything so (True,None,True) is a subset of both\n",
    "    (True,True,True) or (True,False,True).\"\"\"\n",
    "\n",
    "    for el1, el2 in zip(subset, superset):\n",
    "        if (el1 is not None) and (el1 != el2):\n",
    "            out = False\n",
    "            break\n",
    "        else:\n",
    "            out = True\n",
    "    return out"
   ]
  },
  {
   "cell_type": "code",
   "execution_count": 36,
   "metadata": {
    "ExecuteTime": {
     "end_time": "2020-04-07T13:48:13.617845Z",
     "start_time": "2020-04-07T13:48:13.569435Z"
    }
   },
   "outputs": [],
   "source": [
    "class QcaDataset(pd.DataFrame):\n",
    "    \"\"\"QCA dataset constructor and API.\n",
    "\n",
    "    A QcaDataset is a dataset that is suitable for QCA analysis.  \n",
    "    Convert a QcaDataset instance into a truth table by passing it to\n",
    "    the .from_dataset() method of a TruthTableFactory instance.\"\"\"\n",
    "\n",
    "    def __init__(self, df, outcome_col=[], include=[], exclude=[]):\n",
    "        # df is a pandas DataFrame object. Must be fuzzyfied!\n",
    "        try:\n",
    "            if outcome_col is not None:\n",
    "                outcome = df[outcome_col]\n",
    "        except QcaError: \n",
    "            print(f'Outcome column does not exist: {outcome_col}')\n",
    "            raise\n",
    "        \n",
    "        try: # drop any excluded conditions\n",
    "            dataset = df[include + outcome_col]\n",
    "            \n",
    "            for condition in dataset.columns[:-1]: # Sanity check\n",
    "                if condition == outcome_col:\n",
    "                    QcaError: print(\"Included condition '{condition}' is the outcome\")\n",
    "                    raise\n",
    "            for exclusion in exclude:\n",
    "                if exclusion is dataset.columns:\n",
    "                    QcaError: (f\"Excluded condition '{exclusion}' is not a causal condition\")\n",
    "                    raise\n",
    "        except:\n",
    "            print(\"Sanity check finished\")\n",
    "            pass\n",
    "        \n",
    "        for element in dataset: # validate that all data is fuzzy\n",
    "            if (dataset[element] < 0.0).all() or (df[element] > 1.0).all():\n",
    "                BoundaryError: print(f'Data values must be between 0.0 and 1.0. {element} contains non-Fuzzy values')\n",
    "                raise\n",
    "                        \n",
    "        self.dataset = dataset.copy()\n",
    "        self.outcome_name = outcome_col\n",
    "        self.outcome_memberships = dataset[outcome_col].values\n",
    "        self.causal_conds = dataset[include].columns # Return names of causal conditions as a list\n",
    "        self.causal_memberships = dataset[include].values # Return causal membership scores\n",
    "\n",
    "\n",
    "    def isnec(self, causal_conds, consist_thresh):\n",
    "        \"\"\"\n",
    "        Test if causal condition is consistent with necessity.\n",
    "        ::causal_cond:: list of conditions to test\n",
    "        ::consist_thresh:: float\n",
    "        \"\"\"\n",
    "        results = []\n",
    "        for condition in causal_conds:\n",
    "            result = consist_nec(dataset[outcome], dataset[condition]) >= float(consist_thresh)\n",
    "            results.append(result)\n",
    "        return results"
   ]
  },
  {
   "cell_type": "markdown",
   "metadata": {},
   "source": [
    "# Fuzzification"
   ]
  },
  {
   "cell_type": "markdown",
   "metadata": {},
   "source": [
    "## Direct Method"
   ]
  },
  {
   "cell_type": "code",
   "execution_count": 6,
   "metadata": {
    "ExecuteTime": {
     "end_time": "2020-04-03T13:46:45.863199Z",
     "start_time": "2020-04-03T13:46:45.855568Z"
    }
   },
   "outputs": [],
   "source": [
    "def direct_fuzzy(inlist, lower_thresh, crossover, upper_thresh):\n",
    "    \"\"\"Convert an interval or ratio-level variable into a fuzzy set by\n",
    "    specifying the lower threshold, crossover point, and upper\n",
    "    threshold.\n",
    "\n",
    "    Ragin, Charles C. \"Fuzzy Sets: Calibration Versus Measurement.\"\n",
    "    Forthcoming in David Collier, Henry Brady, and Janet\n",
    "    Box-Steffensmeir (eds.), Methodology volume of _Oxford Handbooks\n",
    "    of Political Science_\"\"\"\n",
    "\n",
    "    try:\n",
    "        deviations   = [ x - crossover for x in inlist ]\n",
    "        scalar_above = 3.0/(upper_thresh - crossover)\n",
    "        scalar_below = -3.0/(lower_thresh - crossover)\n",
    "        scalar_at    = 0\n",
    "\n",
    "        log_odds = []\n",
    "        for deviation in deviations:\n",
    "            if deviation < 0:\n",
    "                log_odds.append(deviation * scalar_below)\n",
    "            elif deviation == 0: \n",
    "                log_odds.append(deviation * scalar_at)\n",
    "            elif deviation > 0:\n",
    "                log_odds.append(deviation * scalar_above)\n",
    "            \n",
    "        degree_membership = [ exp(x)/(1+exp(x)) for x in log_odds ]\n",
    "        return degree_membership\n",
    "\n",
    "    except: \n",
    "        TypeError: print(\"non-numeric input\")\n",
    "        raise\n",
    "\n"
   ]
  },
  {
   "cell_type": "markdown",
   "metadata": {},
   "source": [
    "# Real data example"
   ]
  },
  {
   "cell_type": "code",
   "execution_count": 31,
   "metadata": {
    "ExecuteTime": {
     "end_time": "2020-04-07T13:45:45.652838Z",
     "start_time": "2020-04-07T13:45:45.627001Z"
    }
   },
   "outputs": [],
   "source": [
    "df = pd.read_csv(\n",
    "    '../data/International-Studies-Review-Replication-Data.csv',\n",
    "    index_col=\"Country\"\n",
    ")"
   ]
  },
  {
   "cell_type": "code",
   "execution_count": 37,
   "metadata": {
    "ExecuteTime": {
     "end_time": "2020-04-07T13:48:15.748788Z",
     "start_time": "2020-04-07T13:48:15.673993Z"
    }
   },
   "outputs": [
    {
     "ename": "RecursionError",
     "evalue": "maximum recursion depth exceeded while calling a Python object",
     "output_type": "error",
     "traceback": [
      "\u001b[0;31m---------------------------------------------------------------------------\u001b[0m",
      "\u001b[0;31mRecursionError\u001b[0m                            Traceback (most recent call last)",
      "\u001b[0;32m<ipython-input-37-9435bae908a0>\u001b[0m in \u001b[0;36m<module>\u001b[0;34m\u001b[0m\n\u001b[1;32m      3\u001b[0m     \u001b[0moutcome_col\u001b[0m\u001b[0;34m=\u001b[0m\u001b[0;34m[\u001b[0m\u001b[0;34m'success'\u001b[0m\u001b[0;34m]\u001b[0m\u001b[0;34m,\u001b[0m\u001b[0;34m\u001b[0m\u001b[0;34m\u001b[0m\u001b[0m\n\u001b[1;32m      4\u001b[0m     \u001b[0minclude\u001b[0m\u001b[0;34m=\u001b[0m\u001b[0;34m[\u001b[0m\u001b[0;34m'gdppc'\u001b[0m\u001b[0;34m,\u001b[0m \u001b[0;34m'gini'\u001b[0m\u001b[0;34m,\u001b[0m \u001b[0;34m'unemp'\u001b[0m\u001b[0;34m]\u001b[0m\u001b[0;34m,\u001b[0m\u001b[0;34m\u001b[0m\u001b[0;34m\u001b[0m\u001b[0m\n\u001b[0;32m----> 5\u001b[0;31m     \u001b[0mexclude\u001b[0m\u001b[0;34m=\u001b[0m\u001b[0;34m[\u001b[0m\u001b[0;34m'fuel'\u001b[0m\u001b[0;34m]\u001b[0m\u001b[0;34m\u001b[0m\u001b[0;34m\u001b[0m\u001b[0m\n\u001b[0m\u001b[1;32m      6\u001b[0m )\n",
      "\u001b[0;32m<ipython-input-36-d6ad815fc233>\u001b[0m in \u001b[0;36m__init__\u001b[0;34m(self, df, outcome_col, include, exclude)\u001b[0m\n\u001b[1;32m     35\u001b[0m                 \u001b[0;32mraise\u001b[0m\u001b[0;34m\u001b[0m\u001b[0;34m\u001b[0m\u001b[0m\n\u001b[1;32m     36\u001b[0m \u001b[0;34m\u001b[0m\u001b[0m\n\u001b[0;32m---> 37\u001b[0;31m         \u001b[0mself\u001b[0m\u001b[0;34m.\u001b[0m\u001b[0mdataset\u001b[0m \u001b[0;34m=\u001b[0m \u001b[0mdataset\u001b[0m\u001b[0;34m.\u001b[0m\u001b[0mcopy\u001b[0m\u001b[0;34m(\u001b[0m\u001b[0;34m)\u001b[0m\u001b[0;34m\u001b[0m\u001b[0;34m\u001b[0m\u001b[0m\n\u001b[0m\u001b[1;32m     38\u001b[0m         \u001b[0mself\u001b[0m\u001b[0;34m.\u001b[0m\u001b[0moutcome_name\u001b[0m \u001b[0;34m=\u001b[0m \u001b[0moutcome_col\u001b[0m\u001b[0;34m\u001b[0m\u001b[0;34m\u001b[0m\u001b[0m\n\u001b[1;32m     39\u001b[0m         \u001b[0mself\u001b[0m\u001b[0;34m.\u001b[0m\u001b[0moutcome_memberships\u001b[0m \u001b[0;34m=\u001b[0m \u001b[0mdataset\u001b[0m\u001b[0;34m[\u001b[0m\u001b[0moutcome_col\u001b[0m\u001b[0;34m]\u001b[0m\u001b[0;34m.\u001b[0m\u001b[0mvalues\u001b[0m\u001b[0;34m\u001b[0m\u001b[0;34m\u001b[0m\u001b[0m\n",
      "\u001b[0;32m~/.local/lib/python3.6/site-packages/pandas/core/generic.py\u001b[0m in \u001b[0;36m__setattr__\u001b[0;34m(self, name, value)\u001b[0m\n\u001b[1;32m   5297\u001b[0m         \u001b[0;32melse\u001b[0m\u001b[0;34m:\u001b[0m\u001b[0;34m\u001b[0m\u001b[0;34m\u001b[0m\u001b[0m\n\u001b[1;32m   5298\u001b[0m             \u001b[0;32mtry\u001b[0m\u001b[0;34m:\u001b[0m\u001b[0;34m\u001b[0m\u001b[0;34m\u001b[0m\u001b[0m\n\u001b[0;32m-> 5299\u001b[0;31m                 \u001b[0mexisting\u001b[0m \u001b[0;34m=\u001b[0m \u001b[0mgetattr\u001b[0m\u001b[0;34m(\u001b[0m\u001b[0mself\u001b[0m\u001b[0;34m,\u001b[0m \u001b[0mname\u001b[0m\u001b[0;34m)\u001b[0m\u001b[0;34m\u001b[0m\u001b[0;34m\u001b[0m\u001b[0m\n\u001b[0m\u001b[1;32m   5300\u001b[0m                 \u001b[0;32mif\u001b[0m \u001b[0misinstance\u001b[0m\u001b[0;34m(\u001b[0m\u001b[0mexisting\u001b[0m\u001b[0;34m,\u001b[0m \u001b[0mIndex\u001b[0m\u001b[0;34m)\u001b[0m\u001b[0;34m:\u001b[0m\u001b[0;34m\u001b[0m\u001b[0;34m\u001b[0m\u001b[0m\n\u001b[1;32m   5301\u001b[0m                     \u001b[0mobject\u001b[0m\u001b[0;34m.\u001b[0m\u001b[0m__setattr__\u001b[0m\u001b[0;34m(\u001b[0m\u001b[0mself\u001b[0m\u001b[0;34m,\u001b[0m \u001b[0mname\u001b[0m\u001b[0;34m,\u001b[0m \u001b[0mvalue\u001b[0m\u001b[0;34m)\u001b[0m\u001b[0;34m\u001b[0m\u001b[0;34m\u001b[0m\u001b[0m\n",
      "\u001b[0;32m~/.local/lib/python3.6/site-packages/pandas/core/generic.py\u001b[0m in \u001b[0;36m__getattr__\u001b[0;34m(self, name)\u001b[0m\n\u001b[1;32m   5270\u001b[0m             \u001b[0;32mreturn\u001b[0m \u001b[0mobject\u001b[0m\u001b[0;34m.\u001b[0m\u001b[0m__getattribute__\u001b[0m\u001b[0;34m(\u001b[0m\u001b[0mself\u001b[0m\u001b[0;34m,\u001b[0m \u001b[0mname\u001b[0m\u001b[0;34m)\u001b[0m\u001b[0;34m\u001b[0m\u001b[0;34m\u001b[0m\u001b[0m\n\u001b[1;32m   5271\u001b[0m         \u001b[0;32melse\u001b[0m\u001b[0;34m:\u001b[0m\u001b[0;34m\u001b[0m\u001b[0;34m\u001b[0m\u001b[0m\n\u001b[0;32m-> 5272\u001b[0;31m             \u001b[0;32mif\u001b[0m \u001b[0mself\u001b[0m\u001b[0;34m.\u001b[0m\u001b[0m_info_axis\u001b[0m\u001b[0;34m.\u001b[0m\u001b[0m_can_hold_identifiers_and_holds_name\u001b[0m\u001b[0;34m(\u001b[0m\u001b[0mname\u001b[0m\u001b[0;34m)\u001b[0m\u001b[0;34m:\u001b[0m\u001b[0;34m\u001b[0m\u001b[0;34m\u001b[0m\u001b[0m\n\u001b[0m\u001b[1;32m   5273\u001b[0m                 \u001b[0;32mreturn\u001b[0m \u001b[0mself\u001b[0m\u001b[0;34m[\u001b[0m\u001b[0mname\u001b[0m\u001b[0;34m]\u001b[0m\u001b[0;34m\u001b[0m\u001b[0;34m\u001b[0m\u001b[0m\n\u001b[1;32m   5274\u001b[0m             \u001b[0;32mreturn\u001b[0m \u001b[0mobject\u001b[0m\u001b[0;34m.\u001b[0m\u001b[0m__getattribute__\u001b[0m\u001b[0;34m(\u001b[0m\u001b[0mself\u001b[0m\u001b[0;34m,\u001b[0m \u001b[0mname\u001b[0m\u001b[0;34m)\u001b[0m\u001b[0;34m\u001b[0m\u001b[0;34m\u001b[0m\u001b[0m\n",
      "\u001b[0;32m~/.local/lib/python3.6/site-packages/pandas/core/generic.py\u001b[0m in \u001b[0;36m__getattr__\u001b[0;34m(self, name)\u001b[0m\n\u001b[1;32m   5270\u001b[0m             \u001b[0;32mreturn\u001b[0m \u001b[0mobject\u001b[0m\u001b[0;34m.\u001b[0m\u001b[0m__getattribute__\u001b[0m\u001b[0;34m(\u001b[0m\u001b[0mself\u001b[0m\u001b[0;34m,\u001b[0m \u001b[0mname\u001b[0m\u001b[0;34m)\u001b[0m\u001b[0;34m\u001b[0m\u001b[0;34m\u001b[0m\u001b[0m\n\u001b[1;32m   5271\u001b[0m         \u001b[0;32melse\u001b[0m\u001b[0;34m:\u001b[0m\u001b[0;34m\u001b[0m\u001b[0;34m\u001b[0m\u001b[0m\n\u001b[0;32m-> 5272\u001b[0;31m             \u001b[0;32mif\u001b[0m \u001b[0mself\u001b[0m\u001b[0;34m.\u001b[0m\u001b[0m_info_axis\u001b[0m\u001b[0;34m.\u001b[0m\u001b[0m_can_hold_identifiers_and_holds_name\u001b[0m\u001b[0;34m(\u001b[0m\u001b[0mname\u001b[0m\u001b[0;34m)\u001b[0m\u001b[0;34m:\u001b[0m\u001b[0;34m\u001b[0m\u001b[0;34m\u001b[0m\u001b[0m\n\u001b[0m\u001b[1;32m   5273\u001b[0m                 \u001b[0;32mreturn\u001b[0m \u001b[0mself\u001b[0m\u001b[0;34m[\u001b[0m\u001b[0mname\u001b[0m\u001b[0;34m]\u001b[0m\u001b[0;34m\u001b[0m\u001b[0;34m\u001b[0m\u001b[0m\n\u001b[1;32m   5274\u001b[0m             \u001b[0;32mreturn\u001b[0m \u001b[0mobject\u001b[0m\u001b[0;34m.\u001b[0m\u001b[0m__getattribute__\u001b[0m\u001b[0;34m(\u001b[0m\u001b[0mself\u001b[0m\u001b[0;34m,\u001b[0m \u001b[0mname\u001b[0m\u001b[0;34m)\u001b[0m\u001b[0;34m\u001b[0m\u001b[0;34m\u001b[0m\u001b[0m\n",
      "... last 2 frames repeated, from the frame below ...\n",
      "\u001b[0;32m~/.local/lib/python3.6/site-packages/pandas/core/generic.py\u001b[0m in \u001b[0;36m__getattr__\u001b[0;34m(self, name)\u001b[0m\n\u001b[1;32m   5270\u001b[0m             \u001b[0;32mreturn\u001b[0m \u001b[0mobject\u001b[0m\u001b[0;34m.\u001b[0m\u001b[0m__getattribute__\u001b[0m\u001b[0;34m(\u001b[0m\u001b[0mself\u001b[0m\u001b[0;34m,\u001b[0m \u001b[0mname\u001b[0m\u001b[0;34m)\u001b[0m\u001b[0;34m\u001b[0m\u001b[0;34m\u001b[0m\u001b[0m\n\u001b[1;32m   5271\u001b[0m         \u001b[0;32melse\u001b[0m\u001b[0;34m:\u001b[0m\u001b[0;34m\u001b[0m\u001b[0;34m\u001b[0m\u001b[0m\n\u001b[0;32m-> 5272\u001b[0;31m             \u001b[0;32mif\u001b[0m \u001b[0mself\u001b[0m\u001b[0;34m.\u001b[0m\u001b[0m_info_axis\u001b[0m\u001b[0;34m.\u001b[0m\u001b[0m_can_hold_identifiers_and_holds_name\u001b[0m\u001b[0;34m(\u001b[0m\u001b[0mname\u001b[0m\u001b[0;34m)\u001b[0m\u001b[0;34m:\u001b[0m\u001b[0;34m\u001b[0m\u001b[0;34m\u001b[0m\u001b[0m\n\u001b[0m\u001b[1;32m   5273\u001b[0m                 \u001b[0;32mreturn\u001b[0m \u001b[0mself\u001b[0m\u001b[0;34m[\u001b[0m\u001b[0mname\u001b[0m\u001b[0;34m]\u001b[0m\u001b[0;34m\u001b[0m\u001b[0;34m\u001b[0m\u001b[0m\n\u001b[1;32m   5274\u001b[0m             \u001b[0;32mreturn\u001b[0m \u001b[0mobject\u001b[0m\u001b[0;34m.\u001b[0m\u001b[0m__getattribute__\u001b[0m\u001b[0;34m(\u001b[0m\u001b[0mself\u001b[0m\u001b[0;34m,\u001b[0m \u001b[0mname\u001b[0m\u001b[0;34m)\u001b[0m\u001b[0;34m\u001b[0m\u001b[0;34m\u001b[0m\u001b[0m\n",
      "\u001b[0;31mRecursionError\u001b[0m: maximum recursion depth exceeded while calling a Python object"
     ]
    }
   ],
   "source": [
    "QCAData = QcaDataset(\n",
    "    df=df, \n",
    "    outcome_col=['success'],\n",
    "    include=['gdppc', 'gini', 'unemp'], \n",
    "    exclude=['fuel']\n",
    ")"
   ]
  },
  {
   "cell_type": "code",
   "execution_count": null,
   "metadata": {},
   "outputs": [],
   "source": []
  }
 ],
 "metadata": {
  "hide_input": false,
  "kernelspec": {
   "display_name": "Python 3",
   "language": "python",
   "name": "python3"
  },
  "language_info": {
   "codemirror_mode": {
    "name": "ipython",
    "version": 3
   },
   "file_extension": ".py",
   "mimetype": "text/x-python",
   "name": "python",
   "nbconvert_exporter": "python",
   "pygments_lexer": "ipython3",
   "version": "3.6.9"
  },
  "latex_envs": {
   "LaTeX_envs_menu_present": true,
   "autoclose": false,
   "autocomplete": true,
   "bibliofile": "biblio.bib",
   "cite_by": "apalike",
   "current_citInitial": 1,
   "eqLabelWithNumbers": true,
   "eqNumInitial": 1,
   "hotkeys": {
    "equation": "Ctrl-E",
    "itemize": "Ctrl-I"
   },
   "labels_anchors": false,
   "latex_user_defs": false,
   "report_style_numbering": false,
   "user_envs_cfg": false
  }
 },
 "nbformat": 4,
 "nbformat_minor": 2
}
