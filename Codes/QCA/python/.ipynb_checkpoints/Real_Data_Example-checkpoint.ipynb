{
 "cells": [
  {
   "cell_type": "markdown",
   "metadata": {},
   "source": [
    "# Loading packages"
   ]
  },
  {
   "cell_type": "code",
   "execution_count": 1,
   "metadata": {
    "ExecuteTime": {
     "end_time": "2020-04-06T15:05:06.870866Z",
     "start_time": "2020-04-06T15:05:05.551281Z"
    }
   },
   "outputs": [
    {
     "name": "stderr",
     "output_type": "stream",
     "text": [
      "/home/gpetrini/.local/lib/python3.6/site-packages/statsmodels/tools/_testing.py:19: FutureWarning: pandas.util.testing is deprecated. Use the functions in the public API at pandas.testing instead.\n",
      "  import pandas.util.testing as tm\n"
     ]
    }
   ],
   "source": [
    "import pandas as pd\n",
    "import numpy as np\n",
    "import matplotlib.pyplot as plt\n",
    "import seaborn as sns"
   ]
  },
  {
   "cell_type": "markdown",
   "metadata": {},
   "source": [
    "# Data description"
   ]
  },
  {
   "cell_type": "code",
   "execution_count": null,
   "metadata": {},
   "outputs": [],
   "source": []
  },
  {
   "cell_type": "markdown",
   "metadata": {},
   "source": [
    "# Loading data"
   ]
  },
  {
   "cell_type": "code",
   "execution_count": 2,
   "metadata": {
    "ExecuteTime": {
     "end_time": "2020-04-06T15:05:06.902253Z",
     "start_time": "2020-04-06T15:05:06.873789Z"
    }
   },
   "outputs": [
    {
     "name": "stdout",
     "output_type": "stream",
     "text": [
      "<class 'pandas.core.frame.DataFrame'>\n",
      "Index: 20 entries, Bahrain to Yemen\n",
      "Data columns (total 10 columns):\n",
      " #   Column    Non-Null Count  Dtype  \n",
      "---  ------    --------------  -----  \n",
      " 0   gdppc     20 non-null     float64\n",
      " 1   gini      20 non-null     float64\n",
      " 2   unemp     20 non-null     float64\n",
      " 3   urban     20 non-null     float64\n",
      " 4   youth     20 non-null     float64\n",
      " 5   mobile    20 non-null     float64\n",
      " 6   internet  20 non-null     float64\n",
      " 7   fuel      20 non-null     float64\n",
      " 8   pol       20 non-null     float64\n",
      " 9   success   20 non-null     float64\n",
      "dtypes: float64(10)\n",
      "memory usage: 1.7+ KB\n"
     ]
    }
   ],
   "source": [
    "df = pd.read_csv(\n",
    "    '../data/International-Studies-Review-Replication-Data.csv',\n",
    "    index_col=\"Country\"\n",
    ")\n",
    "df.info()"
   ]
  },
  {
   "cell_type": "code",
   "execution_count": 3,
   "metadata": {
    "ExecuteTime": {
     "end_time": "2020-04-06T15:05:07.163882Z",
     "start_time": "2020-04-06T15:05:06.904149Z"
    }
   },
   "outputs": [
    {
     "data": {
      "image/png": "[encoded data removed]",
      "text/plain": [
       "<Figure size 432x288 with 1 Axes>"
      ]
     },
     "metadata": {
      "needs_background": "light"
     },
     "output_type": "display_data"
    }
   ],
   "source": [
    "df[['success']].plot(kind='bar')\n",
    "sns.despine()"
   ]
  },
  {
   "cell_type": "code",
   "execution_count": 4,
   "metadata": {
    "ExecuteTime": {
     "end_time": "2020-04-06T15:05:07.173076Z",
     "start_time": "2020-04-06T15:05:07.165725Z"
    }
   },
   "outputs": [],
   "source": [
    "def fuzzy_and(columns, df, nots=None):\n",
    "    \"\"\"\n",
    "    columns:: list of columns names\n",
    "    df:: Pandas DataFrame\n",
    "    returns:: numpy array\n",
    "    \"\"\"\n",
    "    name = [column+'*' for column in columns] # Add a * at the end\n",
    "    name = ''.join(name)\n",
    "    name = name[:-1] # Discart the last *\n",
    "    data = df[columns] # subset the dataframe\n",
    "    data = np.matrix(data) # Turn in to a matrix\n",
    "    result = np.minimum.reduce(data, axis=1) # Calculate the minimum values\n",
    "    result = np.array(result)\n",
    "    result = np.squeeze(result) # Reduce to 1 dimension\n",
    "    df[name] = result\n",
    "    return df"
   ]
  }
 ],
 "metadata": {
  "hide_input": false,
  "kernelspec": {
   "display_name": "Python 3",
   "language": "python",
   "name": "python3"
  },
  "language_info": {
   "codemirror_mode": {
    "name": "ipython",
    "version": 3
   },
   "file_extension": ".py",
   "mimetype": "text/x-python",
   "name": "python",
   "nbconvert_exporter": "python",
   "pygments_lexer": "ipython3",
   "version": "3.6.9"
  },
  "latex_envs": {
   "LaTeX_envs_menu_present": true,
   "autoclose": false,
   "autocomplete": true,
   "bibliofile": "biblio.bib",
   "cite_by": "apalike",
   "current_citInitial": 1,
   "eqLabelWithNumbers": true,
   "eqNumInitial": 1,
   "hotkeys": {
    "equation": "Ctrl-E",
    "itemize": "Ctrl-I"
   },
   "labels_anchors": false,
   "latex_user_defs": false,
   "report_style_numbering": false,
   "user_envs_cfg": false
  }
 },
 "nbformat": 4,
 "nbformat_minor": 2
}
