{
 "cells": [
  {
   "cell_type": "markdown",
   "metadata": {},
   "source": [
    "# Introduction\n",
    "\n",
    "python3 update for libfsqca in kirq package."
   ]
  },
  {
   "cell_type": "code",
   "execution_count": 1,
   "metadata": {
    "ExecuteTime": {
     "end_time": "2020-04-08T00:52:55.254383Z",
     "start_time": "2020-04-08T00:52:53.984501Z"
    }
   },
   "outputs": [
    {
     "name": "stderr",
     "output_type": "stream",
     "text": [
      "/home/gpetrini/.local/lib/python3.6/site-packages/statsmodels/tools/_testing.py:19: FutureWarning: pandas.util.testing is deprecated. Use the functions in the public API at pandas.testing instead.\n",
      "  import pandas.util.testing as tm\n"
     ]
    }
   ],
   "source": [
    "from __future__ import division  # note that we use real division\n",
    "                                 # throughout; this is primarily for\n",
    "                                 # the consistency and coverage\n",
    "                                 # calculations\n",
    "import sys\n",
    "import re\n",
    "from math import *\n",
    "\n",
    "import pandas as pd\n",
    "import numpy as np\n",
    "import matplotlib.pyplot as plt\n",
    "import seaborn as sns"
   ]
  },
  {
   "cell_type": "markdown",
   "metadata": {},
   "source": [
    "# General proposes QCA usage"
   ]
  },
  {
   "cell_type": "markdown",
   "metadata": {},
   "source": [
    "## Errors"
   ]
  },
  {
   "cell_type": "code",
   "execution_count": 2,
   "metadata": {
    "ExecuteTime": {
     "end_time": "2020-04-08T00:52:55.261723Z",
     "start_time": "2020-04-08T00:52:55.256461Z"
    }
   },
   "outputs": [],
   "source": [
    "class BoundaryError(ValueError):\n",
    "    \"\"\"Exception raised when value is out of bounds.\"\"\"\n",
    "    pass\n",
    "\n",
    "class QcaError(Exception):\n",
    "    \"\"\"Base class for exceptions in libfsqca module.\"\"\"\n",
    "    pass\n",
    "\n",
    "class TruthTableReductionError(QcaError):\n",
    "    \"\"\"Exception raised when attempting to reduce a truth table that\n",
    "    cannot be reduced.\"\"\"\n",
    "    pass\n",
    "\n",
    "class ContradictionError(TruthTableReductionError):\n",
    "    \"\"\"Exception raised on attempt to reduce a truth table with a\n",
    "    contradiction.\"\"\"\n",
    "    pass\n",
    "\n",
    "class NoPositiveTTRowError(TruthTableReductionError):\n",
    "    \"\"\"Exception raised on attempt to reduce a truth table without any\n",
    "    positive rows.\"\"\"\n",
    "    pass\n",
    "\n",
    "class PrimeImplicantsNotFoundError(TruthTableReductionError):\n",
    "    \"\"\"Exception raised when unable to identify prime implicants.\"\"\"\n",
    "    pass\n",
    "\n",
    "class TruthTableConstructionError(QcaError):\n",
    "    \"\"\"Exception raised on attempt to construct an invalid truth\n",
    "    table.\"\"\"\n",
    "    pass"
   ]
  },
  {
   "cell_type": "markdown",
   "metadata": {},
   "source": [
    "## Outcome type"
   ]
  },
  {
   "cell_type": "code",
   "execution_count": 3,
   "metadata": {
    "ExecuteTime": {
     "end_time": "2020-04-08T00:52:55.269233Z",
     "start_time": "2020-04-08T00:52:55.263997Z"
    }
   },
   "outputs": [],
   "source": [
    "class Contradiction(object):\n",
    "    def __call__(self):\n",
    "        TypeError: print(\"'Contradiction' object is not callable\")\n",
    "        raise \n",
    "\n",
    "    def __repr__(self):\n",
    "        return 'Contradiction'\n",
    "\n",
    "class Remainder(object):\n",
    "    def __call__(self):\n",
    "        TypeError: print(\"'Remainder' object is not callable\")\n",
    "        raise\n",
    "\n",
    "    def __repr__(self):\n",
    "        return 'Remainder'\n",
    "\n",
    "class Impossible(object):\n",
    "    def __call__(self):\n",
    "        TypeError:print(\"'Impossible' object is not callable\")\n",
    "        raise\n",
    "        \n",
    "    def __repr__(self):\n",
    "        return 'Impossible'\n"
   ]
  },
  {
   "cell_type": "markdown",
   "metadata": {},
   "source": [
    "# Basic fuzzy operations\n",
    "\n",
    "Ragin, Charles C.  2000.  Fuzzy-Set Social Science.  University of Chicago Press: Chicago."
   ]
  },
  {
   "cell_type": "code",
   "execution_count": 4,
   "metadata": {
    "ExecuteTime": {
     "end_time": "2020-04-08T00:52:55.280470Z",
     "start_time": "2020-04-08T00:52:55.272028Z"
    }
   },
   "outputs": [],
   "source": [
    "def fznot(fzset): # fuzzy not\n",
    "    \"\"\"Boolean negation.\"\"\"\n",
    "    return [ 1 - x for x in fzset ]\n",
    "\n",
    "def fzand(fzset1,fzset2): # fuzzy and\n",
    "    \"\"\"Boolean multiplication.\"\"\"\n",
    "    return [ min(x,y) for x,y in zip(fzset1,fzset2) ]\n",
    "\n",
    "def fzor(fzset1,fzset2): # fuzzy or\n",
    "    \"\"\"Boolean addition.\"\"\"\n",
    "    return [ max(x,y) for x,y in zip(fzset1,fzset2) ]\n",
    "\n",
    "def fzconc(fzset): # concentration\n",
    "    \"\"\"Boolean concentration.\"\"\"\n",
    "    return [ pow(x,2) for x in fzset ]\n",
    "\n",
    "def fzdilate(fzset): # dilation\n",
    "    \"\"\"Boolean dilation.\"\"\"\n",
    "    return [ sqrt(x) for x in fzset ]\n"
   ]
  },
  {
   "cell_type": "markdown",
   "metadata": {},
   "source": [
    "# Consistency & Coverage\n",
    "\n",
    "Ragin, Charles C.  2006.  \"Set Relations in Social Research: Evaluating Their Consistency and Coverage.\"  Political Analysis 14(3):291--310."
   ]
  },
  {
   "cell_type": "markdown",
   "metadata": {},
   "source": [
    "Suficient Consistency = $\\frac{\\sum min (x,y)}{\\sum x}$\n",
    "\n",
    "Necessary Consistency = $\\frac{\\sum min (x,y)}{\\sum y}$"
   ]
  },
  {
   "cell_type": "code",
   "execution_count": 5,
   "metadata": {
    "ExecuteTime": {
     "end_time": "2020-04-08T00:52:55.287953Z",
     "start_time": "2020-04-08T00:52:55.283143Z"
    }
   },
   "outputs": [],
   "source": [
    "def consist_suf(fzset1,fzset2):\n",
    "    \n",
    "    sumxy = sum(fzand(fzset1, fzset2))\n",
    "    sumx = sum(fzset1)\n",
    "\n",
    "    if (sumxy == 0) and (sumx == 0):  # if both terms are zero,\n",
    "        return 0                      # consistency is zero; avoid\n",
    "                                      # ZeroDivision error\n",
    "    else:\n",
    "        return (sumxy/sumx)\n",
    "\n",
    "def consist_nec(fzset1,fzset2):\n",
    "    \n",
    "    sumxy = sum(fzand(fzset1, fzset2))\n",
    "    sumy = sum(fzset2)\n",
    "\n",
    "    if (sumxy == 0) and (sumy == 0):  # if both terms are zero,\n",
    "        return 0                      # consistency is zero; avoid\n",
    "                                      # ZeroDivision error\n",
    "    else:\n",
    "        return (sumxy/sumy)"
   ]
  },
  {
   "cell_type": "code",
   "execution_count": 6,
   "metadata": {
    "ExecuteTime": {
     "end_time": "2020-04-08T00:52:55.295892Z",
     "start_time": "2020-04-08T00:52:55.289727Z"
    }
   },
   "outputs": [],
   "source": [
    "def is_subset(subset, superset):\n",
    "    \"\"\"Is one set a (proper) subset of another?\n",
    "\n",
    "    This function is not for general use but for truth tables rows in\n",
    "    which elements are True, False, or Don't Care (i.e., None).  Don't\n",
    "    Cares match anything so (True,None,True) is a subset of both\n",
    "    (True,True,True) or (True,False,True).\"\"\"\n",
    "\n",
    "    for el1, el2 in zip(subset, superset):\n",
    "        if (el1 is not None) and (el1 != el2):\n",
    "            out = False\n",
    "            break\n",
    "        else:\n",
    "            out = True\n",
    "    return out"
   ]
  },
  {
   "cell_type": "code",
   "execution_count": 59,
   "metadata": {
    "ExecuteTime": {
     "end_time": "2020-04-08T01:01:30.430789Z",
     "start_time": "2020-04-08T01:01:30.414525Z"
    }
   },
   "outputs": [],
   "source": [
    "class QcaDataset:\n",
    "    \"\"\"QCA dataset constructor and API.\n",
    "\n",
    "    A QcaDataset is a dataset that is suitable for QCA analysis.  \n",
    "    Convert a QcaDataset instance into a truth table by passing it to\n",
    "    the .from_dataset() method of a TruthTableFactory instance.\"\"\"\n",
    "\n",
    "    def __init__(self, df, outcome=[], include=[], exclude=[]):\n",
    "        # df is a pandas DataFrame object. Must be fuzzyfied!\n",
    "        self.outcome = outcome\n",
    "        self.causal_conds = include\n",
    "        self.excluded = exclude\n",
    "        self.dataset = df[self.causal_conds + self.outcome] # Outcome will be the last column\n",
    "        self.outcome_membership = self.dataset[self.outcome].values\n",
    "        self.causal_membership = self.dataset[self.causal_conds].values\n",
    "        \n",
    "        for condition in self.causal_conds: # Sanity check\n",
    "            if condition == self.outcome:\n",
    "                QcaError: print(f\"Included condition '{condition}' is the outcome\")\n",
    "                raise\n",
    "        for exclusion in self.excluded:\n",
    "            if exclusion is outcome + include:\n",
    "                QcaError: (f\"Excluded condition '{exclusion}' is not a causal condition\")\n",
    "                raise\n",
    "\n",
    "        \n",
    "        for cc in self.dataset: # validate that all data is fuzzy\n",
    "            if (self.dataset[cc] < 0.0).any() or (self.dataset[cc] > 1.0).any():\n",
    "                BoundaryError: print(f'Data values must be between 0.0 and 1.0. {cc} contains non-Fuzzy values')\n",
    "                raise\n",
    "\n",
    "    \n",
    "    def isnec(self, causal_conds, consist_thresh):\n",
    "        \"\"\"\n",
    "        Test if causal condition is consistent with necessity.\n",
    "        ::causal_cond:: list of conditions to test\n",
    "        ::consist_thresh:: float\n",
    "        \"\"\"\n",
    "        results = []\n",
    "        for condition in causal_conds:\n",
    "            result = consist_nec(\n",
    "                self.dataset[self.outcome].values, \n",
    "                self.dataset[condition].values) >= float(consist_thresh)\n",
    "            print(f\"Condition {str(condition).upper()} consistent with necessity: {result[0]}\")\n",
    "            results.append(result[0])\n",
    "        return results"
   ]
  },
  {
   "cell_type": "markdown",
   "metadata": {},
   "source": [
    "# Fuzzification"
   ]
  },
  {
   "cell_type": "markdown",
   "metadata": {},
   "source": [
    "## Direct Method"
   ]
  },
  {
   "cell_type": "code",
   "execution_count": 8,
   "metadata": {
    "ExecuteTime": {
     "end_time": "2020-04-08T00:52:55.331281Z",
     "start_time": "2020-04-08T00:52:55.316020Z"
    }
   },
   "outputs": [],
   "source": [
    "def direct_fuzzy(inlist, lower_thresh, crossover, upper_thresh):\n",
    "    \"\"\"Convert an interval or ratio-level variable into a fuzzy set by\n",
    "    specifying the lower threshold, crossover point, and upper\n",
    "    threshold.\n",
    "\n",
    "    Ragin, Charles C. \"Fuzzy Sets: Calibration Versus Measurement.\"\n",
    "    Forthcoming in David Collier, Henry Brady, and Janet\n",
    "    Box-Steffensmeir (eds.), Methodology volume of _Oxford Handbooks\n",
    "    of Political Science_\"\"\"\n",
    "\n",
    "    try:\n",
    "        deviations   = [ x - crossover for x in inlist ]\n",
    "        scalar_above = 3.0/(upper_thresh - crossover)\n",
    "        scalar_below = -3.0/(lower_thresh - crossover)\n",
    "        scalar_at    = 0\n",
    "\n",
    "        log_odds = []\n",
    "        for deviation in deviations:\n",
    "            if deviation < 0:\n",
    "                log_odds.append(deviation * scalar_below)\n",
    "            elif deviation == 0: \n",
    "                log_odds.append(deviation * scalar_at)\n",
    "            elif deviation > 0:\n",
    "                log_odds.append(deviation * scalar_above)\n",
    "            \n",
    "        degree_membership = [ exp(x)/(1+exp(x)) for x in log_odds ]\n",
    "        return degree_membership\n",
    "\n",
    "    except: \n",
    "        TypeError: print(\"non-numeric input\")\n",
    "        raise\n",
    "\n"
   ]
  },
  {
   "cell_type": "markdown",
   "metadata": {},
   "source": [
    "# Real data example"
   ]
  },
  {
   "cell_type": "code",
   "execution_count": 56,
   "metadata": {
    "ExecuteTime": {
     "end_time": "2020-04-08T01:01:00.960794Z",
     "start_time": "2020-04-08T01:01:00.911329Z"
    }
   },
   "outputs": [
    {
     "data": {
      "text/html": [
       "<div>\n",
       "<style scoped>\n",
       "    .dataframe tbody tr th:only-of-type {\n",
       "        vertical-align: middle;\n",
       "    }\n",
       "\n",
       "    .dataframe tbody tr th {\n",
       "        vertical-align: top;\n",
       "    }\n",
       "\n",
       "    .dataframe thead th {\n",
       "        text-align: right;\n",
       "    }\n",
       "</style>\n",
       "<table border=\"1\" class=\"dataframe\">\n",
       "  <thead>\n",
       "    <tr style=\"text-align: right;\">\n",
       "      <th></th>\n",
       "      <th>gdppc</th>\n",
       "      <th>gini</th>\n",
       "      <th>unemp</th>\n",
       "      <th>urban</th>\n",
       "      <th>youth</th>\n",
       "      <th>mobile</th>\n",
       "      <th>internet</th>\n",
       "      <th>fuel</th>\n",
       "      <th>pol</th>\n",
       "      <th>success</th>\n",
       "    </tr>\n",
       "    <tr>\n",
       "      <th>Country</th>\n",
       "      <th></th>\n",
       "      <th></th>\n",
       "      <th></th>\n",
       "      <th></th>\n",
       "      <th></th>\n",
       "      <th></th>\n",
       "      <th></th>\n",
       "      <th></th>\n",
       "      <th></th>\n",
       "      <th></th>\n",
       "    </tr>\n",
       "  </thead>\n",
       "  <tbody>\n",
       "    <tr>\n",
       "      <th>Bahrain</th>\n",
       "      <td>0.84</td>\n",
       "      <td>0.42</td>\n",
       "      <td>0.58</td>\n",
       "      <td>0.89</td>\n",
       "      <td>0.26</td>\n",
       "      <td>0.68</td>\n",
       "      <td>0.89</td>\n",
       "      <td>0.58</td>\n",
       "      <td>0.11</td>\n",
       "      <td>0.0</td>\n",
       "    </tr>\n",
       "    <tr>\n",
       "      <th>Djibouti</th>\n",
       "      <td>0.16</td>\n",
       "      <td>0.74</td>\n",
       "      <td>1.00</td>\n",
       "      <td>0.63</td>\n",
       "      <td>0.74</td>\n",
       "      <td>0.05</td>\n",
       "      <td>0.16</td>\n",
       "      <td>0.01</td>\n",
       "      <td>0.83</td>\n",
       "      <td>0.2</td>\n",
       "    </tr>\n",
       "    <tr>\n",
       "      <th>Iraq</th>\n",
       "      <td>0.05</td>\n",
       "      <td>0.11</td>\n",
       "      <td>0.74</td>\n",
       "      <td>0.42</td>\n",
       "      <td>0.89</td>\n",
       "      <td>0.42</td>\n",
       "      <td>0.79</td>\n",
       "      <td>0.37</td>\n",
       "      <td>0.94</td>\n",
       "      <td>0.3</td>\n",
       "    </tr>\n",
       "    <tr>\n",
       "      <th>Mauritania</th>\n",
       "      <td>0.11</td>\n",
       "      <td>0.68</td>\n",
       "      <td>0.84</td>\n",
       "      <td>0.21</td>\n",
       "      <td>0.84</td>\n",
       "      <td>0.32</td>\n",
       "      <td>0.05</td>\n",
       "      <td>0.26</td>\n",
       "      <td>0.67</td>\n",
       "      <td>0.4</td>\n",
       "    </tr>\n",
       "    <tr>\n",
       "      <th>UAE</th>\n",
       "      <td>0.95</td>\n",
       "      <td>0.11</td>\n",
       "      <td>0.11</td>\n",
       "      <td>0.79</td>\n",
       "      <td>0.05</td>\n",
       "      <td>0.79</td>\n",
       "      <td>1.00</td>\n",
       "      <td>0.53</td>\n",
       "      <td>0.11</td>\n",
       "      <td>0.4</td>\n",
       "    </tr>\n",
       "  </tbody>\n",
       "</table>\n",
       "</div>"
      ],
      "text/plain": [
       "            gdppc  gini  unemp  urban  youth  mobile  internet  fuel   pol  \\\n",
       "Country                                                                      \n",
       "Bahrain      0.84  0.42   0.58   0.89   0.26    0.68      0.89  0.58  0.11   \n",
       "Djibouti     0.16  0.74   1.00   0.63   0.74    0.05      0.16  0.01  0.83   \n",
       "Iraq         0.05  0.11   0.74   0.42   0.89    0.42      0.79  0.37  0.94   \n",
       "Mauritania   0.11  0.68   0.84   0.21   0.84    0.32      0.05  0.26  0.67   \n",
       "UAE          0.95  0.11   0.11   0.79   0.05    0.79      1.00  0.53  0.11   \n",
       "\n",
       "            success  \n",
       "Country              \n",
       "Bahrain         0.0  \n",
       "Djibouti        0.2  \n",
       "Iraq            0.3  \n",
       "Mauritania      0.4  \n",
       "UAE             0.4  "
      ]
     },
     "execution_count": 56,
     "metadata": {},
     "output_type": "execute_result"
    }
   ],
   "source": [
    "df = pd.read_csv(\n",
    "    '../data/International-Studies-Review-Replication-Data.csv',\n",
    "    index_col=\"Country\"\n",
    ")\n",
    "df.head()"
   ]
  },
  {
   "cell_type": "code",
   "execution_count": 60,
   "metadata": {
    "ExecuteTime": {
     "end_time": "2020-04-08T01:01:33.505166Z",
     "start_time": "2020-04-08T01:01:33.476288Z"
    }
   },
   "outputs": [],
   "source": [
    "Data = QcaDataset(df=df, \n",
    "    outcome=['pol'],\n",
    "    include=['gdppc', 'gini', 'unemp'], \n",
    "    exclude=['fuel'])"
   ]
  },
  {
   "cell_type": "code",
   "execution_count": 61,
   "metadata": {
    "ExecuteTime": {
     "end_time": "2020-04-08T01:01:34.262195Z",
     "start_time": "2020-04-08T01:01:34.221381Z"
    }
   },
   "outputs": [
    {
     "name": "stdout",
     "output_type": "stream",
     "text": [
      "Condition GINI consistent with necessity: False\n",
      "Condition UNEMP consistent with necessity: True\n"
     ]
    },
    {
     "data": {
      "text/plain": [
       "[False, True]"
      ]
     },
     "execution_count": 61,
     "metadata": {},
     "output_type": "execute_result"
    }
   ],
   "source": [
    "Data.isnec(causal_conds=['gini', 'unemp'], consist_thresh=0.73)"
   ]
  },
  {
   "cell_type": "markdown",
   "metadata": {},
   "source": [
    "TODO: \n",
    "\n",
    "- ["
   ]
  }
 ],
 "metadata": {
  "hide_input": false,
  "kernelspec": {
   "display_name": "Python 3",
   "language": "python",
   "name": "python3"
  },
  "language_info": {
   "codemirror_mode": {
    "name": "ipython",
    "version": 3
   },
   "file_extension": ".py",
   "mimetype": "text/x-python",
   "name": "python",
   "nbconvert_exporter": "python",
   "pygments_lexer": "ipython3",
   "version": "3.6.9"
  },
  "latex_envs": {
   "LaTeX_envs_menu_present": true,
   "autoclose": false,
   "autocomplete": true,
   "bibliofile": "biblio.bib",
   "cite_by": "apalike",
   "current_citInitial": 1,
   "eqLabelWithNumbers": true,
   "eqNumInitial": 1,
   "hotkeys": {
    "equation": "Ctrl-E",
    "itemize": "Ctrl-I"
   },
   "labels_anchors": false,
   "latex_user_defs": false,
   "report_style_numbering": false,
   "user_envs_cfg": false
  }
 },
 "nbformat": 4,
 "nbformat_minor": 2
}
