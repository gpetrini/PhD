{
 "cells": [
  {
   "cell_type": "markdown",
   "metadata": {},
   "source": [
    "# Pooled\tand\tPanel\tData\tAnalysis"
   ]
  },
  {
   "cell_type": "markdown",
   "metadata": {},
   "source": [
    "## Pooled analysis"
   ]
  },
  {
   "cell_type": "markdown",
   "metadata": {},
   "source": [
    "## Panel Analysis"
   ]
  },
  {
   "cell_type": "markdown",
   "metadata": {},
   "source": [
    "### Exercise\n",
    "\n",
    "1) The dataset Data_AgricultureClimate.csv contains information on agricultural production and climate change in São Paulo, Brazil"
   ]
  },
  {
   "cell_type": "code",
   "execution_count": 4,
   "metadata": {
    "ExecuteTime": {
     "end_time": "2020-04-13T23:52:58.602076Z",
     "start_time": "2020-04-13T23:52:57.944709Z"
    }
   },
   "outputs": [
    {
     "data": {
      "text/html": [
       "<div>\n",
       "<style scoped>\n",
       "    .dataframe tbody tr th:only-of-type {\n",
       "        vertical-align: middle;\n",
       "    }\n",
       "\n",
       "    .dataframe tbody tr th {\n",
       "        vertical-align: top;\n",
       "    }\n",
       "\n",
       "    .dataframe thead th {\n",
       "        text-align: right;\n",
       "    }\n",
       "</style>\n",
       "<table border=\"1\" class=\"dataframe\">\n",
       "  <thead>\n",
       "    <tr style=\"text-align: right;\">\n",
       "      <th></th>\n",
       "      <th></th>\n",
       "      <th>vtotal</th>\n",
       "      <th>areatotal</th>\n",
       "      <th>tempano</th>\n",
       "      <th>precano</th>\n",
       "      <th>munic</th>\n",
       "    </tr>\n",
       "    <tr>\n",
       "      <th>periodo</th>\n",
       "      <th>ano</th>\n",
       "      <th></th>\n",
       "      <th></th>\n",
       "      <th></th>\n",
       "      <th></th>\n",
       "      <th></th>\n",
       "    </tr>\n",
       "  </thead>\n",
       "  <tbody>\n",
       "    <tr>\n",
       "      <th rowspan=\"5\" valign=\"top\">0</th>\n",
       "      <th>1990</th>\n",
       "      <td>1.264259e+06</td>\n",
       "      <td>1388970.0</td>\n",
       "      <td>22.862649</td>\n",
       "      <td>1316.340737</td>\n",
       "      <td>3500105</td>\n",
       "    </tr>\n",
       "    <tr>\n",
       "      <th>1991</th>\n",
       "      <td>7.372399e+05</td>\n",
       "      <td>1235817.0</td>\n",
       "      <td>23.218141</td>\n",
       "      <td>1414.517344</td>\n",
       "      <td>3500105</td>\n",
       "    </tr>\n",
       "    <tr>\n",
       "      <th>1992</th>\n",
       "      <td>1.381728e+06</td>\n",
       "      <td>1059597.0</td>\n",
       "      <td>22.731517</td>\n",
       "      <td>1389.987868</td>\n",
       "      <td>3500105</td>\n",
       "    </tr>\n",
       "    <tr>\n",
       "      <th>1993</th>\n",
       "      <td>1.547279e+06</td>\n",
       "      <td>941193.0</td>\n",
       "      <td>23.196724</td>\n",
       "      <td>1319.847774</td>\n",
       "      <td>3500105</td>\n",
       "    </tr>\n",
       "    <tr>\n",
       "      <th>1994</th>\n",
       "      <td>1.383900e+06</td>\n",
       "      <td>991584.0</td>\n",
       "      <td>23.603014</td>\n",
       "      <td>1160.328301</td>\n",
       "      <td>3500105</td>\n",
       "    </tr>\n",
       "  </tbody>\n",
       "</table>\n",
       "</div>"
      ],
      "text/plain": [
       "                    vtotal  areatotal    tempano      precano    munic\n",
       "periodo ano                                                           \n",
       "0       1990  1.264259e+06  1388970.0  22.862649  1316.340737  3500105\n",
       "        1991  7.372399e+05  1235817.0  23.218141  1414.517344  3500105\n",
       "        1992  1.381728e+06  1059597.0  22.731517  1389.987868  3500105\n",
       "        1993  1.547279e+06   941193.0  23.196724  1319.847774  3500105\n",
       "        1994  1.383900e+06   991584.0  23.603014  1160.328301  3500105"
      ]
     },
     "execution_count": 4,
     "metadata": {},
     "output_type": "execute_result"
    }
   ],
   "source": [
    "import pandas as pd\n",
    "from linearmodels import PanelOLS\n",
    "\n",
    "df = pd.read_csv(\n",
    "    'http://www4.eco.unicamp.br/docentes/gori/images/arquivos/PanelData/Data_AgricultureClimate.csv',\n",
    "    index_col = [\"periodo\", \"ano\", ]\n",
    ")\n",
    "df.head()"
   ]
  }
 ],
 "metadata": {
  "hide_input": false,
  "kernelspec": {
   "display_name": "Python 3",
   "language": "python",
   "name": "python3"
  },
  "language_info": {
   "codemirror_mode": {
    "name": "ipython",
    "version": 3
   },
   "file_extension": ".py",
   "mimetype": "text/x-python",
   "name": "python",
   "nbconvert_exporter": "python",
   "pygments_lexer": "ipython3",
   "version": "3.6.9"
  },
  "latex_envs": {
   "LaTeX_envs_menu_present": true,
   "autoclose": false,
   "autocomplete": true,
   "bibliofile": "biblio.bib",
   "cite_by": "apalike",
   "current_citInitial": 1,
   "eqLabelWithNumbers": true,
   "eqNumInitial": 1,
   "hotkeys": {
    "equation": "Ctrl-E",
    "itemize": "Ctrl-I"
   },
   "labels_anchors": false,
   "latex_user_defs": false,
   "report_style_numbering": false,
   "user_envs_cfg": false
  }
 },
 "nbformat": 4,
 "nbformat_minor": 2
}
