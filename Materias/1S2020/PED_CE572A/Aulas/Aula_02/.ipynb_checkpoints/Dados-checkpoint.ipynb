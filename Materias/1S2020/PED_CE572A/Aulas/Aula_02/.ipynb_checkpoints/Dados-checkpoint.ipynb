{
 "cells": [
  {
   "cell_type": "markdown",
   "metadata": {
    "colab_type": "text",
    "id": "CHsxfPPRRUWA"
   },
   "source": [
    "Este notebook contém alguns dos dados atualizados do capítulo 10 do Blanchard. O código foi baseado em https://macroeconomics.github.io/Economic Data Analysis.html#.XmA5yXWYXP8"
   ]
  },
  {
   "cell_type": "markdown",
   "metadata": {
    "colab_type": "text",
    "id": "X6ps-W6Dadu_"
   },
   "source": [
    "# Importando pacotes"
   ]
  },
  {
   "cell_type": "code",
   "execution_count": 1,
   "metadata": {
    "ExecuteTime": {
     "end_time": "2020-03-05T22:12:05.552120Z",
     "start_time": "2020-03-05T22:12:04.701670Z"
    },
    "colab": {},
    "colab_type": "code",
    "id": "jQ_TWBWjaXsQ"
   },
   "outputs": [
    {
     "name": "stderr",
     "output_type": "stream",
     "text": [
      "/home/gpetrini/.local/lib/python3.6/site-packages/statsmodels/tools/_testing.py:19: FutureWarning: pandas.util.testing is deprecated. Use the functions in the public API at pandas.testing instead.\n",
      "  import pandas.util.testing as tm\n",
      "/usr/local/lib/python3.6/dist-packages/ipykernel_launcher.py:14: FutureWarning: Passing a negative integer is deprecated in version 1.0 and will not be supported in future version. Instead, use None to not limit the column width.\n",
      "  \n"
     ]
    }
   ],
   "source": [
    "%config InlineBackend.figure_format='retina'\n",
    "\n",
    "import os\n",
    "import pandas as pd\n",
    "import numpy as np\n",
    "import matplotlib.pyplot as plt\n",
    "import seaborn as sns\n",
    "import pandas_datareader.data as web\n",
    "from datetime import datetime as dt\n",
    "\n",
    "pd.set_option(\"display.max_columns\", 20)\n",
    "pd.set_option('display.max_rows', 50)\n",
    "pd.set_option('display.width', 1000)\n",
    "pd.set_option('display.max_colwidth', -1)\n",
    "\n",
    "sns.set_context(\"talk\")"
   ]
  },
  {
   "cell_type": "code",
   "execution_count": 2,
   "metadata": {
    "ExecuteTime": {
     "end_time": "2020-03-05T22:12:05.571633Z",
     "start_time": "2020-03-05T22:12:05.554946Z"
    }
   },
   "outputs": [],
   "source": [
    "start = dt(1960, 1, 1)\n",
    "end = dt(2020, 1, 1)\n",
    "\n",
    "pathout = './data/'\n",
    "\n",
    "if not os.path.exists(pathout):\n",
    "    os.mkdir(pathout)\n",
    "    \n",
    "pathgraphs = './graphs/'\n",
    "if not os.path.exists(pathgraphs):\n",
    "    os.mkdir(pathgraphs)\n",
    "    \n",
    "ocde = [\n",
    "    'AUS', # Australia\n",
    "    'AUT', # Austria\n",
    "    'BEL', # Belgium\n",
    "    'CAN', # Canada\n",
    "    'CHE', # Switzerland\n",
    "    'DEU', # Germany\n",
    "    'DNK', # Denmark\n",
    "    'ESP', # Spain\n",
    "    'FIN', # Finland\n",
    "    'FRA', # France\n",
    "    'GBR', # Great Britain\n",
    "    'GRC', # Greece\n",
    "    'IRL', # Ireland\n",
    "    'ISL', # Iceland\n",
    "    'ITA', # Italy\n",
    "    'JPN', # Japan\n",
    "    'KOR', # South Korea\n",
    "    'LUX', # Luxemburg\n",
    "    'MEX', # Mexico\n",
    "    'NLD', # Netherlands\n",
    "    'NOR', # Norway\n",
    "    'NZL', # New Zealand,\n",
    "    'PRT', # Portugal\n",
    "    'SWE', # Sweden\n",
    "    'TUR', # Turkey\n",
    "    'USA', # United States\n",
    "]\n",
    "\n",
    "asia = [\n",
    "    'IRN', 'CHN', 'IND', 'HKG', 'VNM', 'IRQ', 'JPN', 'SGP', 'ISR', 'KOR', 'PAK', 'THA',\n",
    "    'PHL', 'MDV', 'PRK', 'BGD', 'SYR', 'SAU', 'LBN', 'LKA', 'IDN', 'QAT', 'MYS', 'MMR',\n",
    "    'OWN', 'TWN', 'AFG', 'ARE', 'NPL', 'KHM', 'YEM', 'ARM', 'MAC', 'JOR', 'KWT', 'UZB',\n",
    "    'BHR', 'MNG', 'BHU', 'BTN', 'PSE', 'LAO', 'KGZ', 'BRN', 'TKM', 'TJK', 'CXR', 'TLS',\n",
    "]\n",
    "\n",
    "asia = [i for i in asia if i not in ocde]\n",
    "\n",
    "\n",
    "africa = [\n",
    "    'DZA', 'MAR', 'LBY', 'MUS', 'ZAF', 'CPV', 'TUN', 'ETH', 'NGA', 'SYC', 'MDG', 'KEN',\n",
    "    'COD', 'SDN', 'MLI', 'GHA', 'TZA', 'SOM', 'SEN', 'CIV', 'UGA', 'ZWE', 'BFA', 'CMR',\n",
    "    'AGO', 'RWA', 'REU', 'ERI', 'GMB', 'NER', 'NAM', 'MOZ', 'SWZ', 'TCD', 'MRT', 'GAB',\n",
    "    'GIN', 'DJI', 'BWA', 'LBR', 'BEN', 'ZMB', 'SLE', 'MWI', 'TGO', 'BDI', 'LSO', 'SSD',\n",
    "    'COG', 'COM', 'GNQ'\n",
    "]\n",
    "\n",
    "afria = [i for i in africa if i not in ocde]"
   ]
  },
  {
   "cell_type": "markdown",
   "metadata": {
    "colab_type": "text",
    "id": "PvwnevVpcCGG"
   },
   "source": [
    "# Funções"
   ]
  },
  {
   "cell_type": "code",
   "execution_count": 3,
   "metadata": {
    "ExecuteTime": {
     "end_time": "2020-03-05T22:12:05.578531Z",
     "start_time": "2020-03-05T22:12:05.572994Z"
    },
    "colab": {},
    "colab_type": "code",
    "id": "-YvIMJgJcEt4"
   },
   "outputs": [],
   "source": [
    "def crise_subprime(axes, alpha=0.4):\n",
    "    axes.axvspan(\n",
    "    xmin='2007-12-01', \n",
    "    xmax='2009-06-01',\n",
    "    color='gray', \n",
    "    label='Crise subprime',\n",
    "    zorder=0,\n",
    "    alpha=alpha\n",
    ")"
   ]
  },
  {
   "cell_type": "code",
   "execution_count": 4,
   "metadata": {
    "ExecuteTime": {
     "end_time": "2020-03-05T22:12:05.586570Z",
     "start_time": "2020-03-05T22:12:05.580860Z"
    },
    "colab": {},
    "colab_type": "code",
    "id": "NKWQuLEjcHuC"
   },
   "outputs": [],
   "source": [
    "def crises(axes, color='lightgray', alpha=0.4):\n",
    "    axes.axvspan(xmin = \"1953-07\", xmax='1954-04', color = color, alpha=alpha, label = 'Recessão')\n",
    "    axes.axvspan(xmin = \"1957-08\", xmax='1958-05', color = color, alpha=alpha, label = '')\n",
    "    axes.axvspan(xmin = \"1960-05\", xmax='1961-02', color = color, alpha=alpha, label = '')\n",
    "    axes.axvspan(xmin = \"1969-12\", xmax='1970-11', color = color, alpha=alpha, label = '')\n",
    "    axes.axvspan(xmin = \"1973-11\", xmax='1975-03', color = color, alpha=alpha, label = '')\n",
    "    axes.axvspan(xmin = \"1980-01\", xmax='1980-07', color = color, alpha=alpha, label = '')\n",
    "    axes.axvspan(xmin = \"1981-07\", xmax='1982-01', color = color, alpha=alpha, label = '')\n",
    "    axes.axvspan(xmin = \"1990-07\", xmax='1991-03', color = color, alpha=alpha, label = '')\n",
    "    axes.axvspan(xmin = \"2001-03\", xmax='2001-11', color = color, alpha=alpha, label = '')"
   ]
  },
  {
   "cell_type": "code",
   "execution_count": 5,
   "metadata": {
    "ExecuteTime": {
     "end_time": "2020-03-05T22:12:05.596139Z",
     "start_time": "2020-03-05T22:12:05.588826Z"
    },
    "colab": {},
    "colab_type": "code",
    "id": "deluTSHtXSVy"
   },
   "outputs": [],
   "source": [
    "def PersistencePlot(\n",
    "    dfin, \n",
    "    var0='y1960', \n",
    "    var1='y2010', \n",
    "    labelvar='countrycode', \n",
    "    dx=0.006125, dy=0.006125, \n",
    "    ):\n",
    "    '''\n",
    "    Plot the association between var0 and var in dataframe using labelvar for labels. \n",
    "    '''\n",
    "    sns.set(rc={'figure.figsize':(11.7,8.27)})\n",
    "    df = dfin.copy()\n",
    "    df = df.dropna(subset=[var0, var1]).reset_index(drop=True)\n",
    "\n",
    "    xlabel=f'Log[Renda per capita {var0[1:]}] em relação aos EUA'\n",
    "    ylabel=f'Log[Renda per capita {var1[1:]}] em relação aos EUA' \n",
    "    linelabel=f'{var0[1:]}-{var1[1:]}'\n",
    "    filename=f'{var0[1:]}_versus_{var1[1:]}_drop.pdf'\n",
    "\n",
    "\n",
    "    # Plot\n",
    "    k = 0\n",
    "    fig, ax = plt.subplots()\n",
    "    ax.plot([df[var0].min()*.99, df[var0].max()*1.01], [df[var0].min()*.99, df[var0].max()*1.01], c='r', label='45 degree')\n",
    "    sns.regplot(x=var0, y=var1, data=df, ax=ax, label=linelabel)\n",
    "    movex = df[var0].mean() * dx\n",
    "    movey = df[var1].mean() * dy\n",
    "    for line in range(0,df.shape[0]):\n",
    "        ax.text(df[var0][line]+movex, df[var1][line]+movey, df[labelvar][line], horizontalalignment='left', fontsize=12, color='black')\n",
    "    ax.set_xlabel(xlabel)\n",
    "    ax.set_ylabel(ylabel)\n",
    "    ax.legend()\n",
    "    plt.savefig(pathgraphs + filename, dpi=300, bbox_inches='tight')"
   ]
  },
  {
   "cell_type": "markdown",
   "metadata": {
    "colab_type": "text",
    "id": "N9cWaHErcFPU"
   },
   "source": [
    "# Importando dados"
   ]
  },
  {
   "cell_type": "markdown",
   "metadata": {},
   "source": [
    "## Figura 10.1"
   ]
  },
  {
   "cell_type": "code",
   "execution_count": 6,
   "metadata": {
    "ExecuteTime": {
     "end_time": "2020-03-05T22:12:06.535208Z",
     "start_time": "2020-03-05T22:12:05.597490Z"
    }
   },
   "outputs": [
    {
     "data": {
      "text/html": [
       "<div>\n",
       "<style scoped>\n",
       "    .dataframe tbody tr th:only-of-type {\n",
       "        vertical-align: middle;\n",
       "    }\n",
       "\n",
       "    .dataframe tbody tr th {\n",
       "        vertical-align: top;\n",
       "    }\n",
       "\n",
       "    .dataframe thead th {\n",
       "        text-align: right;\n",
       "    }\n",
       "</style>\n",
       "<table border=\"1\" class=\"dataframe\">\n",
       "  <thead>\n",
       "    <tr style=\"text-align: right;\">\n",
       "      <th></th>\n",
       "      <th>PIB</th>\n",
       "    </tr>\n",
       "    <tr>\n",
       "      <th></th>\n",
       "      <th></th>\n",
       "    </tr>\n",
       "  </thead>\n",
       "  <tbody>\n",
       "    <tr>\n",
       "      <th>1960-01-01</th>\n",
       "      <td>3275.757</td>\n",
       "    </tr>\n",
       "    <tr>\n",
       "      <th>1960-04-01</th>\n",
       "      <td>3258.088</td>\n",
       "    </tr>\n",
       "    <tr>\n",
       "      <th>1960-07-01</th>\n",
       "      <td>3274.029</td>\n",
       "    </tr>\n",
       "    <tr>\n",
       "      <th>1960-10-01</th>\n",
       "      <td>3232.009</td>\n",
       "    </tr>\n",
       "    <tr>\n",
       "      <th>1961-01-01</th>\n",
       "      <td>3253.826</td>\n",
       "    </tr>\n",
       "  </tbody>\n",
       "</table>\n",
       "</div>"
      ],
      "text/plain": [
       "                 PIB\n",
       "                    \n",
       "1960-01-01  3275.757\n",
       "1960-04-01  3258.088\n",
       "1960-07-01  3274.029\n",
       "1960-10-01  3232.009\n",
       "1961-01-01  3253.826"
      ]
     },
     "execution_count": 6,
     "metadata": {},
     "output_type": "execute_result"
    }
   ],
   "source": [
    "df = web.DataReader(\n",
    "    [\n",
    "        'GDPC1', # home mortgages and consumer credit; liability, Level \n",
    "    ], \n",
    "    'fred', \n",
    "    start, \n",
    "    end\n",
    ")\n",
    "\n",
    "df.columns = [\n",
    "    'PIB',\n",
    "]\n",
    "\n",
    "df.index.name = ''\n",
    "df = df.dropna()\n",
    "df.head()"
   ]
  },
  {
   "cell_type": "code",
   "execution_count": 7,
   "metadata": {
    "ExecuteTime": {
     "end_time": "2020-03-05T22:12:07.624958Z",
     "start_time": "2020-03-05T22:12:06.537320Z"
    }
   },
   "outputs": [
    {
     "data": {
      "image/png": "[encoded data removed]",
      "text/plain": [
       "<Figure size 1152x720 with 1 Axes>"
      ]
     },
     "metadata": {
      "image/png": {
       "height": 606,
       "width": 1002
      },
      "needs_background": "light"
     },
     "output_type": "display_data"
    }
   ],
   "source": [
    "fig, ax = plt.subplots(figsize=(16, 10))\n",
    "\n",
    "df.plot(\n",
    "    ax=ax,\n",
    "    linewidth=2.5,\n",
    "    color=('black')\n",
    ")\n",
    "\n",
    "crise_subprime(ax)\n",
    "crises(ax)\n",
    "ax.legend()\n",
    "sns.despine()\n",
    "ax.set_title('PIB dos EUA desde 1960')\n",
    "ax.set_ylabel('PIB em dólares de 2012')\n",
    "plt.savefig(pathgraphs + 'figura_10.1.pdf', dpi=300, bbox_inches='tight')\n",
    "plt.show()"
   ]
  },
  {
   "cell_type": "markdown",
   "metadata": {
    "colab_type": "text",
    "id": "7-uLo5DXSwFJ"
   },
   "source": [
    "## Penn World Table"
   ]
  },
  {
   "cell_type": "code",
   "execution_count": null,
   "metadata": {
    "ExecuteTime": {
     "start_time": "2020-03-05T22:12:04.729Z"
    },
    "colab": {
     "base_uri": "https://localhost:8080/",
     "height": 344
    },
    "colab_type": "code",
    "executionInfo": {
     "elapsed": 8902,
     "status": "ok",
     "timestamp": 1583373819407,
     "user": {
      "displayName": "Gabriel Petrini da Silveira",
      "photoUrl": "",
      "userId": "15162624427749057586"
     },
     "user_tz": 180
    },
    "id": "6Fahwcgva7c8",
    "outputId": "a05f5ae1-7a9f-412f-b3b9-7d0978778aec"
   },
   "outputs": [],
   "source": [
    "base = pd.read_stata('https://www.rug.nl/ggdc/docs/pwt91.dta') # Baixando dados\n",
    "\n",
    "df = base.copy()\n",
    "df['rgdpe_pc'] = df['rgdpe']/df['pop'] # Calculando PIB per capita\n",
    "df['lrgdpe_pc'] = df['rgdpe_pc'].apply(lambda x: np.log(x)) # Calculando em termos de log\n",
    "\n",
    "df.describe() # Describe the data"
   ]
  },
  {
   "cell_type": "markdown",
   "metadata": {
    "colab_type": "text",
    "id": "imzLvQzqcQep"
   },
   "source": [
    "# Plotando"
   ]
  },
  {
   "cell_type": "markdown",
   "metadata": {
    "colab_type": "text",
    "id": "sltEy8sLTOU4"
   },
   "source": [
    "## Convergência Pós-1960?"
   ]
  },
  {
   "cell_type": "code",
   "execution_count": null,
   "metadata": {
    "ExecuteTime": {
     "start_time": "2020-03-05T22:12:04.756Z"
    },
    "colab": {
     "base_uri": "https://localhost:8080/",
     "height": 295
    },
    "colab_type": "code",
    "id": "4UGYoXKVTNUI",
    "outputId": "8fb076e9-f055-4fc6-82ad-d796cd4d8585"
   },
   "outputs": [],
   "source": [
    "period = list(range(1950, 2020, 10)) + [2019]\n",
    "mycolors = sns.cubehelix_palette(len(period), start=.5, rot=-.75)\n",
    "\n",
    "fig, ax = plt.subplots(figsize=(12,8))\n",
    "k = 0\n",
    "for t in period:\n",
    "    sns.kdeplot(df.loc[df.year==t].lrgdpe_pc, ax=ax, shade=True, label=str(t), linewidth=2, c=mycolors[k])\n",
    "    k += 1\n",
    "ax.set_xlabel('Log[Renda per capita]')\n",
    "ax.set_ylabel('Densidade de Países')\n",
    "plt.savefig(pathgraphs + 'y1950-2010-density.pdf', dpi=300, bbox_inches='tight')"
   ]
  },
  {
   "cell_type": "code",
   "execution_count": null,
   "metadata": {
    "ExecuteTime": {
     "start_time": "2020-03-05T22:12:04.759Z"
    },
    "colab": {},
    "colab_type": "code",
    "id": "zbv39KdZUe7y"
   },
   "outputs": [],
   "source": [
    "df.set_index('year', inplace=True)\n",
    "df['lrgdpe_pc_US'] = df.loc[df.countrycode=='USA', 'lrgdpe_pc']\n",
    "df['lrgdpe_pc_rel'] = df.lrgdpe_pc / df.lrgdpe_pc_US\n",
    "df.reset_index(inplace=True)\n",
    "df = df[['countrycode', 'year', 'lrgdpe_pc_rel']].pivot(index='countrycode', columns='year', values='lrgdpe_pc_rel')\n",
    "df.columns = ['y' + str(col) for col in df.columns]\n",
    "df.reset_index(inplace=True)"
   ]
  },
  {
   "cell_type": "code",
   "execution_count": null,
   "metadata": {
    "ExecuteTime": {
     "start_time": "2020-03-05T22:12:04.761Z"
    },
    "colab": {},
    "colab_type": "code",
    "id": "fncayk-QZ4-7"
   },
   "outputs": [],
   "source": [
    "PersistencePlot(dfin=df, var0='y1980', var1='y1990')"
   ]
  },
  {
   "cell_type": "code",
   "execution_count": null,
   "metadata": {
    "ExecuteTime": {
     "start_time": "2020-03-05T22:12:04.766Z"
    },
    "colab": {},
    "colab_type": "code",
    "id": "ovSyAByaZpnK"
   },
   "outputs": [],
   "source": [
    "PersistencePlot(dfin=df, var0='y1980', var1='y2000')"
   ]
  },
  {
   "cell_type": "code",
   "execution_count": null,
   "metadata": {
    "ExecuteTime": {
     "start_time": "2020-03-05T22:12:04.769Z"
    },
    "colab": {},
    "colab_type": "code",
    "id": "s1JeNud8YSoP"
   },
   "outputs": [],
   "source": [
    "PersistencePlot(dfin=df, var0='y1980', var1='y2010')"
   ]
  },
  {
   "cell_type": "code",
   "execution_count": null,
   "metadata": {
    "ExecuteTime": {
     "start_time": "2020-03-05T22:12:04.774Z"
    },
    "colab": {},
    "colab_type": "code",
    "id": "WWKUlZHGaZPJ"
   },
   "outputs": [],
   "source": [
    "period = list(range(1980, 2020, 20)) + [2015]\n",
    "mycolors = sns.cubehelix_palette(len(period), start=.5, rot=-.75)\n",
    "\n",
    "k = 0\n",
    "fig, ax = plt.subplots(figsize=(11.7,8.27))\n",
    "for t in period:\n",
    "    sns.regplot(x='y1960', y='y'+str(t), data=df, ax=ax, label='1960-'+str(t))\n",
    "    k += 1\n",
    "ax.set_xlabel('Log[Renda per capita 1960] em relação aos EUA')\n",
    "ax.set_ylabel('Log[Renda per capita em outro período] em relação aos EUA')\n",
    "ax.legend()\n",
    "plt.savefig(pathgraphs + '1980_versus_All_drop.pdf', dpi=300, bbox_inches='tight')\n",
    "plt.show()"
   ]
  },
  {
   "cell_type": "markdown",
   "metadata": {},
   "source": [
    "## Figura 10.2"
   ]
  },
  {
   "cell_type": "code",
   "execution_count": null,
   "metadata": {
    "ExecuteTime": {
     "start_time": "2020-03-05T22:12:04.785Z"
    }
   },
   "outputs": [],
   "source": [
    "df = base.copy()\n",
    "df['rgdpe_pc'] = df['rgdpe']/df['pop'] # Calculando PIB per capita\n",
    "df['lrgdpe_pc'] = df['rgdpe_pc'].apply(lambda x: np.log(x)) # Calculando em termos de log\n",
    "df = df[['countrycode', 'year', 'rgdpe_pc']].pivot(index='countrycode', columns='year', values='rgdpe_pc')\n",
    "df.columns = ['y' + str(col) for col in df.columns]\n",
    "df.reset_index(inplace=True)"
   ]
  },
  {
   "cell_type": "code",
   "execution_count": null,
   "metadata": {
    "ExecuteTime": {
     "start_time": "2020-03-05T22:12:04.792Z"
    },
    "scrolled": false
   },
   "outputs": [],
   "source": [
    "ano_inicial = 'y1950'\n",
    "ano_final = 'y2017'\n",
    "paises = ocde + ['BRA']\n",
    "labelvar='countrycode'\n",
    "dx=0.006125 \n",
    "dy=0.006125\n",
    "\n",
    "df = df[df['countrycode'].isin(paises)].copy()\n",
    "df['Comparacao'] = (df[ano_final] - df[ano_inicial])/df[ano_inicial]\n",
    "df = df.dropna()\n",
    "\n",
    "fig, ax = plt.subplots(figsize=(11.7,8.27))\n",
    "sns.regplot(x=ano_inicial, y='Comparacao', data=df, ax=ax, label='Países da OCDE + Brasil', color='darkred')\n",
    "\n",
    "ax.set_xlabel(f'PIB per capital em {ano_inicial[1:]}')\n",
    "ax.set_ylabel(f'Taxa de crescimento anual do PIB per capita\\n entre {ano_inicial[1:]}-{ano_final[1:]} (percentual)')\n",
    "ax.legend()\n",
    "\n",
    "movex = df[ano_inicial].mean() * dx\n",
    "movey = df['Comparacao'].mean() * dy\n",
    "for line in range(0,df.shape[0]):\n",
    "    ax.text(\n",
    "        x=df[ano_inicial].iloc[line]+movex, \n",
    "        y=df['Comparacao'].iloc[line]+movey, \n",
    "        s=df[labelvar].iloc[line], \n",
    "        horizontalalignment='left', fontsize=12, color='black')\n",
    "plt.savefig(pathgraphs + 'figura_10.2.pdf', dpi=300, bbox_inches='tight')\n",
    "plt.show()"
   ]
  },
  {
   "cell_type": "markdown",
   "metadata": {},
   "source": [
    "## Figura 10.3"
   ]
  },
  {
   "cell_type": "code",
   "execution_count": null,
   "metadata": {
    "ExecuteTime": {
     "start_time": "2020-03-05T22:12:04.804Z"
    }
   },
   "outputs": [],
   "source": [
    "df = base.copy()\n",
    "df['rgdpe_pc'] = df['rgdpe']/df['pop'] # Calculando PIB per capita\n",
    "df['lrgdpe_pc'] = df['rgdpe_pc'].apply(lambda x: np.log(x)) # Calculando em termos de log\n",
    "df = df[['countrycode', 'year', 'rgdpe_pc']].pivot(index='countrycode', columns='year', values='rgdpe_pc')\n",
    "df.columns = ['y' + str(col) for col in df.columns]\n",
    "df.reset_index(inplace=True)"
   ]
  },
  {
   "cell_type": "code",
   "execution_count": null,
   "metadata": {
    "ExecuteTime": {
     "start_time": "2020-03-05T22:12:04.809Z"
    }
   },
   "outputs": [],
   "source": [
    "ano_inicial = 'y1950'\n",
    "ano_final = 'y2017'\n",
    "fig, ax = plt.subplots(figsize=(11.7,8.27))\n",
    "\n",
    "df_ocde = df[df['countrycode'].isin(ocde)].copy()\n",
    "df_ocde['Comparacao'] = (df_ocde[ano_final] - df_ocde[ano_inicial])/df_ocde[ano_inicial]\n",
    "df_ocde = df_ocde.dropna()\n",
    "sns.scatterplot(x=ano_inicial, y='Comparacao', data=df_ocde, ax=ax, label='OCDE', \n",
    "                markers='D', s=50)\n",
    "\n",
    "\n",
    "\n",
    "df_asia = df[df['countrycode'].isin(asia)].copy()\n",
    "df_asia['Comparacao'] = (df_asia[ano_final] - df_asia[ano_inicial])/df_asia[ano_inicial]\n",
    "df_asia = df_asia.dropna()\n",
    "sns.scatterplot(x=ano_inicial, y='Comparacao', data=df_asia, ax=ax, label='Ásia', \n",
    "                marker='^', s=70)\n",
    "\n",
    "\n",
    "df_africa = df[df['countrycode'].isin(africa)].copy()\n",
    "df_africa['Comparacao'] = (df_africa[ano_final] - df_africa[ano_inicial])/df_africa[ano_inicial]\n",
    "df_africa = df_africa.dropna()\n",
    "sns.scatterplot(x=ano_inicial, y='Comparacao', data=df_africa, ax=ax, label='África', \n",
    "                marker=\"s\", s=50)\n",
    "\n",
    "\n",
    "ax.set_xlabel(f'PIB per capital em {ano_inicial[1:]}')\n",
    "ax.set_ylabel(f'Taxa de crescimento anual do PIB per capita\\n entre {ano_inicial[1:]}-{ano_final[1:]} (percentual)')\n",
    "ax.legend()\n",
    "\n",
    "plt.savefig(pathgraphs + 'figura_10.3.pdf', dpi=300, bbox_inches='tight')\n",
    "plt.show()"
   ]
  },
  {
   "cell_type": "code",
   "execution_count": null,
   "metadata": {},
   "outputs": [],
   "source": []
  }
 ],
 "metadata": {
  "colab": {
   "authorship_tag": "ABX9TyO7ZIM6iGqii6mH7zF53Fh6",
   "name": "Dados.ipynb",
   "provenance": []
  },
  "hide_input": false,
  "kernelspec": {
   "display_name": "Python 3",
   "language": "python",
   "name": "python3"
  },
  "language_info": {
   "codemirror_mode": {
    "name": "ipython",
    "version": 3
   },
   "file_extension": ".py",
   "mimetype": "text/x-python",
   "name": "python",
   "nbconvert_exporter": "python",
   "pygments_lexer": "ipython3",
   "version": "3.6.9"
  },
  "latex_envs": {
   "LaTeX_envs_menu_present": true,
   "autoclose": false,
   "autocomplete": true,
   "bibliofile": "biblio.bib",
   "cite_by": "apalike",
   "current_citInitial": 1,
   "eqLabelWithNumbers": true,
   "eqNumInitial": 1,
   "hotkeys": {
    "equation": "Ctrl-E",
    "itemize": "Ctrl-I"
   },
   "labels_anchors": false,
   "latex_user_defs": false,
   "report_style_numbering": false,
   "user_envs_cfg": false
  }
 },
 "nbformat": 4,
 "nbformat_minor": 1
}
