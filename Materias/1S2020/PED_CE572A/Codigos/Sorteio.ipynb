{
 "cells": [
  {
   "cell_type": "code",
   "execution_count": 14,
   "metadata": {
    "ExecuteTime": {
     "end_time": "2020-05-06T14:00:49.544181Z",
     "start_time": "2020-05-06T14:00:49.540104Z"
    }
   },
   "outputs": [],
   "source": [
    "import pandas as pd\n",
    "import numpy as np\n",
    "from random import shuffle\n",
    "import random"
   ]
  },
  {
   "cell_type": "code",
   "execution_count": 24,
   "metadata": {
    "ExecuteTime": {
     "end_time": "2020-05-06T14:04:00.960545Z",
     "start_time": "2020-05-06T14:04:00.918572Z"
    }
   },
   "outputs": [
    {
     "data": {
      "text/html": [
       "<div>\n",
       "<style scoped>\n",
       "    .dataframe tbody tr th:only-of-type {\n",
       "        vertical-align: middle;\n",
       "    }\n",
       "\n",
       "    .dataframe tbody tr th {\n",
       "        vertical-align: top;\n",
       "    }\n",
       "\n",
       "    .dataframe thead th {\n",
       "        text-align: right;\n",
       "    }\n",
       "</style>\n",
       "<table border=\"1\" class=\"dataframe\">\n",
       "  <thead>\n",
       "    <tr style=\"text-align: right;\">\n",
       "      <th></th>\n",
       "      <th>Número de integrantes</th>\n",
       "    </tr>\n",
       "  </thead>\n",
       "  <tbody>\n",
       "    <tr>\n",
       "      <th>Grupo 1</th>\n",
       "      <td>4</td>\n",
       "    </tr>\n",
       "    <tr>\n",
       "      <th>Grupo 2</th>\n",
       "      <td>4</td>\n",
       "    </tr>\n",
       "    <tr>\n",
       "      <th>Grupo 3</th>\n",
       "      <td>4</td>\n",
       "    </tr>\n",
       "    <tr>\n",
       "      <th>Grupo 4</th>\n",
       "      <td>4</td>\n",
       "    </tr>\n",
       "    <tr>\n",
       "      <th>Grupo 5</th>\n",
       "      <td>3</td>\n",
       "    </tr>\n",
       "    <tr>\n",
       "      <th>Grupo 6</th>\n",
       "      <td>4</td>\n",
       "    </tr>\n",
       "    <tr>\n",
       "      <th>Grupo 7</th>\n",
       "      <td>2</td>\n",
       "    </tr>\n",
       "    <tr>\n",
       "      <th>Grupo 8</th>\n",
       "      <td>4</td>\n",
       "    </tr>\n",
       "    <tr>\n",
       "      <th>Grupo 9</th>\n",
       "      <td>4</td>\n",
       "    </tr>\n",
       "  </tbody>\n",
       "</table>\n",
       "</div>"
      ],
      "text/plain": [
       "         Número de integrantes\n",
       "Grupo 1                      4\n",
       "Grupo 2                      4\n",
       "Grupo 3                      4\n",
       "Grupo 4                      4\n",
       "Grupo 5                      3\n",
       "Grupo 6                      4\n",
       "Grupo 7                      2\n",
       "Grupo 8                      4\n",
       "Grupo 9                      4"
      ]
     },
     "execution_count": 24,
     "metadata": {},
     "output_type": "execute_result"
    }
   ],
   "source": [
    "df = pd.DataFrame(\n",
    "    {\"Número de integrantes\" : [4,4,4,4,3,4,2,4,4]}\n",
    ")\n",
    "df.index = [f\"Grupo {(i+1)}\" for i in df.index]\n",
    "df"
   ]
  },
  {
   "cell_type": "code",
   "execution_count": 25,
   "metadata": {
    "ExecuteTime": {
     "end_time": "2020-05-06T14:04:01.893745Z",
     "start_time": "2020-05-06T14:04:01.876086Z"
    }
   },
   "outputs": [],
   "source": [
    "modelos = [\n",
    "    \"Solow\",\n",
    "    \"AK\",\n",
    "    \"Lucas\",\n",
    "    \"Romer\",\n",
    "    \"Harrod\",\n",
    "    \"Multiplicador/Acelerador\",\n",
    "    \"Supermultiplicador sraffiano\",\n",
    "    \"Kaleckiano\",\n",
    "    \"Thirlwall\",\n",
    "    \"Lavoie & Stockhammer\",\n",
    "    \"Cimoli et. all\"\n",
    "]"
   ]
  },
  {
   "cell_type": "code",
   "execution_count": 27,
   "metadata": {
    "ExecuteTime": {
     "end_time": "2020-05-06T14:04:07.709805Z",
     "start_time": "2020-05-06T14:04:07.699638Z"
    }
   },
   "outputs": [
    {
     "data": {
      "text/html": [
       "<div>\n",
       "<style scoped>\n",
       "    .dataframe tbody tr th:only-of-type {\n",
       "        vertical-align: middle;\n",
       "    }\n",
       "\n",
       "    .dataframe tbody tr th {\n",
       "        vertical-align: top;\n",
       "    }\n",
       "\n",
       "    .dataframe thead th {\n",
       "        text-align: right;\n",
       "    }\n",
       "</style>\n",
       "<table border=\"1\" class=\"dataframe\">\n",
       "  <thead>\n",
       "    <tr style=\"text-align: right;\">\n",
       "      <th></th>\n",
       "      <th>Número de integrantes</th>\n",
       "      <th>Temas</th>\n",
       "    </tr>\n",
       "  </thead>\n",
       "  <tbody>\n",
       "    <tr>\n",
       "      <th>Grupo 1</th>\n",
       "      <td>4</td>\n",
       "      <td>Lucas</td>\n",
       "    </tr>\n",
       "    <tr>\n",
       "      <th>Grupo 2</th>\n",
       "      <td>4</td>\n",
       "      <td>Harrod</td>\n",
       "    </tr>\n",
       "    <tr>\n",
       "      <th>Grupo 3</th>\n",
       "      <td>4</td>\n",
       "      <td>Thirlwall</td>\n",
       "    </tr>\n",
       "    <tr>\n",
       "      <th>Grupo 4</th>\n",
       "      <td>4</td>\n",
       "      <td>Supermultiplicador sraffiano</td>\n",
       "    </tr>\n",
       "    <tr>\n",
       "      <th>Grupo 5</th>\n",
       "      <td>3</td>\n",
       "      <td>Multiplicador/Acelerador</td>\n",
       "    </tr>\n",
       "    <tr>\n",
       "      <th>Grupo 6</th>\n",
       "      <td>4</td>\n",
       "      <td>AK</td>\n",
       "    </tr>\n",
       "    <tr>\n",
       "      <th>Grupo 7</th>\n",
       "      <td>2</td>\n",
       "      <td>Solow</td>\n",
       "    </tr>\n",
       "    <tr>\n",
       "      <th>Grupo 8</th>\n",
       "      <td>4</td>\n",
       "      <td>Kaleckiano</td>\n",
       "    </tr>\n",
       "    <tr>\n",
       "      <th>Grupo 9</th>\n",
       "      <td>4</td>\n",
       "      <td>Romer</td>\n",
       "    </tr>\n",
       "  </tbody>\n",
       "</table>\n",
       "</div>"
      ],
      "text/plain": [
       "         Número de integrantes                         Temas\n",
       "Grupo 1                      4                         Lucas\n",
       "Grupo 2                      4                        Harrod\n",
       "Grupo 3                      4                     Thirlwall\n",
       "Grupo 4                      4  Supermultiplicador sraffiano\n",
       "Grupo 5                      3      Multiplicador/Acelerador\n",
       "Grupo 6                      4                            AK\n",
       "Grupo 7                      2                         Solow\n",
       "Grupo 8                      4                    Kaleckiano\n",
       "Grupo 9                      4                         Romer"
      ]
     },
     "execution_count": 27,
     "metadata": {},
     "output_type": "execute_result"
    }
   ],
   "source": [
    "numbers = [i for i in range(len(modelos[:-2]))]\n",
    "shuffle(numbers)\n",
    "df['Temas'] = [modelos[i] for i in numbers]\n",
    "df"
   ]
  },
  {
   "cell_type": "code",
   "execution_count": 28,
   "metadata": {
    "ExecuteTime": {
     "end_time": "2020-05-06T14:06:42.066983Z",
     "start_time": "2020-05-06T14:06:42.015146Z"
    }
   },
   "outputs": [],
   "source": [
    "df.to_latex(\"../Trabalhos/Sorteio.tex\")"
   ]
  }
 ],
 "metadata": {
  "hide_input": false,
  "kernelspec": {
   "display_name": "Python 3",
   "language": "python",
   "name": "python3"
  },
  "language_info": {
   "codemirror_mode": {
    "name": "ipython",
    "version": 3
   },
   "file_extension": ".py",
   "mimetype": "text/x-python",
   "name": "python",
   "nbconvert_exporter": "python",
   "pygments_lexer": "ipython3",
   "version": "3.6.9"
  },
  "latex_envs": {
   "LaTeX_envs_menu_present": true,
   "autoclose": false,
   "autocomplete": true,
   "bibliofile": "biblio.bib",
   "cite_by": "apalike",
   "current_citInitial": 1,
   "eqLabelWithNumbers": true,
   "eqNumInitial": 1,
   "hotkeys": {
    "equation": "Ctrl-E",
    "itemize": "Ctrl-I"
   },
   "labels_anchors": false,
   "latex_user_defs": false,
   "report_style_numbering": false,
   "user_envs_cfg": false
  }
 },
 "nbformat": 4,
 "nbformat_minor": 2
}
