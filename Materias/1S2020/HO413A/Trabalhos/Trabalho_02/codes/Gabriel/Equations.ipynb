{
 "cells": [
  {
   "cell_type": "markdown",
   "metadata": {},
   "source": [
    "# Packages"
   ]
  },
  {
   "cell_type": "code",
   "execution_count": 1,
   "metadata": {
    "ExecuteTime": {
     "end_time": "2020-06-05T18:39:45.025518Z",
     "start_time": "2020-06-05T18:39:42.020534Z"
    }
   },
   "outputs": [],
   "source": [
    "import sympy as sp\n",
    "from sympy import Eq, Symbol, symbols, Function, solve, pprint, simplify\n",
    "t = Symbol('t') # time"
   ]
  },
  {
   "cell_type": "markdown",
   "metadata": {},
   "source": [
    "# General Equations"
   ]
  },
  {
   "cell_type": "code",
   "execution_count": null,
   "metadata": {},
   "outputs": [],
   "source": []
  },
  {
   "cell_type": "markdown",
   "metadata": {},
   "source": [
    "# Firms"
   ]
  },
  {
   "cell_type": "code",
   "execution_count": 2,
   "metadata": {
    "ExecuteTime": {
     "end_time": "2020-06-05T18:39:49.498816Z",
     "start_time": "2020-06-05T18:39:49.475614Z"
    }
   },
   "outputs": [],
   "source": [
    "alpha, beta, gamma, delta = symbols('alpha beta gamma delta', positive=True) # Firms parameters>0\n",
    "mu, xi, psi = symbols('mu xi psi', positive=True) # Distribution>0\n",
    "epsilon = symbols('epsilon') # ???\n",
    "\n",
    "If = Function('I_f') # Firms investment\n",
    "u = Function('u') # Capacity utilization ratio\n",
    "ud = Function('u^d') # Desired capacity utilization ratio\n",
    "r = Function('r') # Profit rate\n",
    "h = Function('h') # Valuation ration\n",
    "Pe = Function('Pe') # Stock Price\n",
    "p = Function('p') # final good price\n",
    "Eq = Function('Eq') # Equities\n",
    "K = Function('K') # Capital stock\n",
    "Pi = Function('Pi') # Profit share\n",
    "Q = Function('Q') # Product\n",
    "Qf = Function('Qf') # Full capacity product\n",
    "w = Function('w') # Average wage\n",
    "\n",
    "\n",
    "gI = Function('gI') # Investment growth"
   ]
  },
  {
   "cell_type": "code",
   "execution_count": 3,
   "metadata": {
    "ExecuteTime": {
     "end_time": "2020-06-05T18:39:52.775771Z",
     "start_time": "2020-06-05T18:39:51.734819Z"
    }
   },
   "outputs": [
    {
     "name": "stdout",
     "output_type": "stream",
     "text": [
      "Eq(I_f(t), α⋅(u(t - 1) - u__d(t)) + β⋅r(t - 1) + ε⋅h(t - 1))\n",
      "  ⎛      Eq(t - 1)⋅Pe(t - 1)⎞\n",
      "Eq⎜h(t), ───────────────────⎟\n",
      "  ⎝       K(t - 1)⋅p(t - 1) ⎠\n",
      "  ⎛      Π(t - 1)⋅Q(t - 1)⎞\n",
      "Eq⎜r(t), ─────────────────⎟\n",
      "  ⎝           K(t - 1)    ⎠\n",
      "  ⎛       K(t - 1)⎞\n",
      "Eq⎜Qf(t), ────────⎟\n",
      "  ⎝          γ    ⎠\n",
      "  ⎛       Q(t - 1)⎞\n",
      "Eq⎜u(t), ─────────⎟\n",
      "  ⎝      Qf(t - 1)⎠\n",
      "Eq(K(t), -(1 - δ)⋅K(t - 1) + I_f(t))\n",
      "  ⎛      (μ + 1)⋅w(t)⎞\n",
      "Eq⎜p(t), ────────────⎟\n",
      "  ⎝           ξ      ⎠\n",
      "  ⎛        μ  ⎞\n",
      "Eq⎜Π(t), ─────⎟\n",
      "  ⎝      μ + 1⎠\n",
      "Replacing\n",
      "  ⎛        α⋅(μ + 1)⋅(γ⋅Q(t - 1) - K(t - 1)⋅u__d(t))⋅w(t) + β⋅μ⋅Q(t - 1)⋅w(t) \n",
      "Eq⎜I_f(t), ───────────────────────────────────────────────────────────────────\n",
      "  ⎝                                           (μ + 1)⋅K(t - 1)⋅w(t)           \n",
      "\n",
      "+ ε⋅ξ⋅Eq(t - 1)⋅Pe(t - 1)⎞\n",
      "─────────────────────────⎟\n",
      "                         ⎠\n",
      "  ⎛       α⋅(μ + 1)⋅(γ⋅Q(t - 1) - K(t - 1)⋅u__d(t))⋅w(t) + β⋅μ⋅Q(t - 1)⋅w(t) +\n",
      "Eq⎜gI(t), ────────────────────────────────────────────────────────────────────\n",
      "  ⎜                                                   2                       \n",
      "  ⎝                                          (μ + 1)⋅K (t - 1)⋅w(t)           \n",
      "\n",
      " ε⋅ξ⋅Eq(t - 1)⋅Pe(t - 1)⎞\n",
      "────────────────────────⎟\n",
      "                        ⎟\n",
      "                        ⎠\n"
     ]
    }
   ],
   "source": [
    "If_ = alpha*(u(t-1) - ud(t)) + beta*r(t-1) + epsilon*h(t-1) # Eq 1\n",
    "pprint(Eq(If(t),If_))\n",
    "h_ = (Pe(t-1)*Eq(t-1))/(p(t-1)*K(t-1)) # Eq 2\n",
    "pprint(Eq(h(t), h_))\n",
    "r_ = (Pi(t-1)*Q(t-1))/(K(t-1)) # Eq3\n",
    "pprint(Eq(r(t), r_))\n",
    "Qf_ = (K(t-1))/gamma # Eq 5\n",
    "pprint(Eq(Qf(t),Qf_))\n",
    "u_ = Q(t-1)/Qf(t-1)\n",
    "pprint(Eq(u(t),u_)) # Eq 6\n",
    "K_ = If(t) - (1-delta)*K(t-1)\n",
    "pprint(Eq(K(t), K_)) # Eq 8\n",
    "p_ = (1+mu)*(w(t)/xi)\n",
    "pprint(Eq(p(t), p_))\n",
    "Pi_ = mu/(1+mu)\n",
    "pprint(Eq(Pi(t), Pi_))\n",
    "\n",
    "print('Replacing')\n",
    "If_ = If_.subs(u(t-1), u_).subs(r(t-1), r_).subs(h(t-1), h_).subs(Qf(t-1), Qf_)\n",
    "If_ = If_.subs(Pi(t-1), Pi_).subs(p(t-1), p_)\n",
    "If_ = If_.simplify()\n",
    "pprint(Eq(If(t),If_))\n",
    "gI_ = (If_/K(t-1)).simplify()\n",
    "pprint(Eq(gI(t),gI_))"
   ]
  },
  {
   "cell_type": "code",
   "execution_count": null,
   "metadata": {},
   "outputs": [],
   "source": []
  }
 ],
 "metadata": {
  "hide_input": false,
  "kernelspec": {
   "display_name": "Python 3",
   "language": "python",
   "name": "python3"
  },
  "language_info": {
   "codemirror_mode": {
    "name": "ipython",
    "version": 3
   },
   "file_extension": ".py",
   "mimetype": "text/x-python",
   "name": "python",
   "nbconvert_exporter": "python",
   "pygments_lexer": "ipython3",
   "version": "3.8.2"
  },
  "latex_envs": {
   "LaTeX_envs_menu_present": true,
   "autoclose": false,
   "autocomplete": true,
   "bibliofile": "biblio.bib",
   "cite_by": "apalike",
   "current_citInitial": 1,
   "eqLabelWithNumbers": true,
   "eqNumInitial": 1,
   "hotkeys": {
    "equation": "Ctrl-E",
    "itemize": "Ctrl-I"
   },
   "labels_anchors": false,
   "latex_user_defs": false,
   "report_style_numbering": false,
   "user_envs_cfg": false
  }
 },
 "nbformat": 4,
 "nbformat_minor": 4
}
