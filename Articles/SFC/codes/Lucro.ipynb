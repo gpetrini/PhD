{
 "cells": [
  {
   "cell_type": "markdown",
   "metadata": {},
   "source": [
    "# Introduction\n",
    "\n",
    "Jupyter notebook for the simplest model scratch. By convention, all exogenous variables are presented with a overline line (*e.g.* $\\overline a$) and the parameters are represented by greek letters (*e.g.* $\\alpha$). The code in this document is executable and is strongly recommend to do the follow to ensure that the output is corrected and updated:\n",
    "\n",
    "Run time > Restart and run all..."
   ]
  },
  {
   "cell_type": "markdown",
   "metadata": {},
   "source": [
    "## Loading libraries"
   ]
  },
  {
   "cell_type": "code",
   "execution_count": 1,
   "metadata": {
    "ExecuteTime": {
     "end_time": "2021-03-04T19:30:25.499710Z",
     "start_time": "2021-03-04T19:30:10.940148Z"
    }
   },
   "outputs": [],
   "source": [
    "#!pip install pysolve3\n",
    "\n",
    "%config InlineBackend.figure_format = 'retina'\n",
    "\n",
    "from SFC_Setup import *"
   ]
  },
  {
   "cell_type": "markdown",
   "metadata": {},
   "source": [
    "# Analytical solution"
   ]
  },
  {
   "cell_type": "code",
   "execution_count": 2,
   "metadata": {
    "ExecuteTime": {
     "end_time": "2021-03-04T19:30:38.537687Z",
     "start_time": "2021-03-04T19:30:35.393084Z"
    }
   },
   "outputs": [],
   "source": [
    "base = model()\n",
    "df = SolveSFC(base, time=1000)"
   ]
  },
  {
   "cell_type": "code",
   "execution_count": 3,
   "metadata": {
    "ExecuteTime": {
     "end_time": "2021-03-04T19:30:51.183562Z",
     "start_time": "2021-03-04T19:30:50.480553Z"
    }
   },
   "outputs": [],
   "source": [
    "base_eq = model()\n",
    "SolveSFC(base_eq, time=1, table = False)\n",
    "t = sp.Symbol('t')\n",
    "initials = {\n",
    "    key: base_eq.evaluate(key) for key in base_eq.parameters\n",
    "}\n",
    "initials.update({key: base_eq.evaluate(key) for key in base_eq.variables})\n",
    "\n",
    "for i in base_eq.variables:\n",
    "  globals()[\"_\" + i] = sp.Function(i)\n",
    "  \n",
    "for i in base_eq.parameters:\n",
    "  globals()[i] = sp.symbols(i, positive=True)\n",
    "  globals()['infla'] = sp.symbols('infla')"
   ]
  },
  {
   "cell_type": "code",
   "execution_count": 68,
   "metadata": {
    "ExecuteTime": {
     "end_time": "2021-03-04T20:19:11.155691Z",
     "start_time": "2021-03-04T20:19:11.133488Z"
    }
   },
   "outputs": [],
   "source": [
    "# Adjustment for r\n",
    "\n",
    "rn = sp.Symbol('rn', positive=True) # Normal profit rate\n",
    "_r = sp.Function('r') # Effective profit rate"
   ]
  },
  {
   "cell_type": "markdown",
   "metadata": {},
   "source": [
    "## General equations"
   ]
  },
  {
   "cell_type": "code",
   "execution_count": 5,
   "metadata": {
    "ExecuteTime": {
     "end_time": "2021-03-04T19:32:34.871224Z",
     "start_time": "2021-03-04T19:32:34.307294Z"
    }
   },
   "outputs": [
    {
     "name": "stdout",
     "output_type": "stream",
     "text": [
      "Y(t) = C(t) + Iₜ(t)\n",
      "C(t) = Ck(t) + Cw(t)\n",
      "Iₜ(t) = I_f(t) + Iₕ(t)\n",
      "        K_f(t)\n",
      "Yk(t) = ──────\n",
      "          v   \n",
      "        Y(t)\n",
      "u(t) = ─────\n",
      "       Yk(t)\n",
      "Z(t) = Iₕ(t)\n",
      "W(t) = ω⋅Y(t)\n",
      "K(t) = K_HD(t) + K_f(t)\n",
      "Z(t) = Ck(t) + Iₕ(t)\n"
     ]
    }
   ],
   "source": [
    "Y = _C(t) + _I_t(t)\n",
    "pprint(sp.Eq(_Y(t), Y))\n",
    "C = _Cw(t) + _Ck(t)\n",
    "pprint(sp.Eq(_C(t), C))\n",
    "I = _I_f(t) + _I_h(t)\n",
    "pprint(sp.Eq(_I_t(t), I))\n",
    "Yk = _K_f(t)/v\n",
    "pprint(sp.Eq(_Yk(t), Yk))\n",
    "u = _Y(t)/_Yk(t)\n",
    "pprint(sp.Eq(_u(t), u))\n",
    "Z = _I_h(t)\n",
    "pprint(sp.Eq(_Z(t), Z))\n",
    "W = omega*_Y(t)\n",
    "pprint(sp.Eq(_W(t), W))\n",
    "K = _K_HD(t) + _K_f(t)\n",
    "pprint(sp.Eq(_K(t), K))\n",
    "Z = _Ck(t) + _I_h(t)\n",
    "pprint(sp.Eq(_Z(t), Z))"
   ]
  },
  {
   "cell_type": "markdown",
   "metadata": {},
   "source": [
    "## Workers"
   ]
  },
  {
   "cell_type": "code",
   "execution_count": 6,
   "metadata": {
    "ExecuteTime": {
     "end_time": "2021-03-04T19:32:37.556059Z",
     "start_time": "2021-03-04T19:32:37.507126Z"
    }
   },
   "outputs": [
    {
     "name": "stdout",
     "output_type": "stream",
     "text": [
      "Cw(t) = α⋅W(t)\n",
      "YDw(t) = W(t)\n",
      "S_hw(t) = -Cw(t) + YDk(t)\n",
      "NFW_hw(t) = S_hw(t)\n"
     ]
    }
   ],
   "source": [
    "Cw = alpha*_W(t)\n",
    "pprint(sp.Eq(_Cw(t), Cw))\n",
    "YDw = _W(t)\n",
    "pprint(sp.Eq(_YDw(t), YDw))\n",
    "S_hw = _YDk(t) - _Cw(t)\n",
    "pprint(sp.Eq(_S_hw(t), S_hw))\n",
    "NFW_hw = _S_hw(t)\n",
    "pprint(sp.Eq(_NFW_hw(t), NFW_hw))"
   ]
  },
  {
   "cell_type": "markdown",
   "metadata": {},
   "source": [
    "## Capitalists"
   ]
  },
  {
   "cell_type": "code",
   "execution_count": 8,
   "metadata": {
    "ExecuteTime": {
     "end_time": "2021-03-04T19:33:41.921720Z",
     "start_time": "2021-03-04T19:33:41.834310Z"
    }
   },
   "outputs": [
    {
     "name": "stdout",
     "output_type": "stream",
     "text": [
      "Ck(t) = R⋅Z(t)\n",
      "Lk(t) - Lk(t - 1) = Ck(t)\n",
      "YDk(t) = rm⋅Mₕ(t - 1) + FD(t) - Lk(t - 1)⋅rl(t) - MO(t - 1)⋅rmo(t)\n",
      "Sₕₖ(t) = -Ck(t) + YDk(t)\n",
      "MO(t) - MO(t - 1) = Iₕ(t)\n",
      "Mₕ(t) - Mₕ(t - 1) = Lk(t) - Lk(t - 1) + Sₕₖ(t)\n",
      "Vₕ(t) = K_HD(t)⋅ph(t) - Lk(t) - MO(t) + Mₕ(t)\n",
      "Vₕᵣ(t) = K_HD(t) - Lk(t) - MO(t) + Mₕ(t)\n",
      "NFWₕ(t) = -Iₕ(t) + Sₕₖ(t)\n",
      "Mₕ(t) = Lk(t) - Lk(t - 1) + Sₕₖ(t)\n"
     ]
    }
   ],
   "source": [
    "Ck = R*_Z(t)\n",
    "pprint(sp.Eq(_Ck(t), Ck))\n",
    "dLk = _Ck(t)\n",
    "pprint(sp.Eq(_Lk(t) - _Lk(t-1), dLk))\n",
    "YDk = _FD(t) + rm*_M_h(t-1) - _rmo(t)*_MO(t-1) - _rl(t)*_Lk(t-1)\n",
    "pprint(sp.Eq(_YDk(t), YDk))\n",
    "S_hk = _YDk(t) - _Ck(t)\n",
    "pprint(sp.Eq(_S_hk(t), S_hk))\n",
    "dMO = _I_h(t)\n",
    "pprint(sp.Eq(_MO(t) - _MO(t-1), dMO))\n",
    "dM_h = _S_hk(t) + (_Lk(t) - _Lk(t-1))\n",
    "pprint(sp.Eq((_M_h(t) - _M_h(t-1)), dM_h))\n",
    "V_h = _M_h(t) + _K_HD(t)*_ph(t) - _MO(t) - _Lk(t)\n",
    "pprint(sp.Eq(_V_h(t), V_h))\n",
    "V_hr = _M_h(t) + _K_HD(t) - _MO(t) - _Lk(t)\n",
    "pprint(sp.Eq(_V_hr(t), V_hr))\n",
    "NFW_h = _S_hk(t) - _I_h(t)\n",
    "pprint(sp.Eq(_NFW_h(t), NFW_h))\n",
    "M_h = _S_hk(t) + (_Lk(t) - _Lk(t-1))\n",
    "pprint(sp.Eq(_M_h(t), M_h))"
   ]
  },
  {
   "cell_type": "markdown",
   "metadata": {},
   "source": [
    "## Firms"
   ]
  },
  {
   "cell_type": "code",
   "execution_count": 18,
   "metadata": {
    "ExecuteTime": {
     "end_time": "2021-03-04T19:44:09.504849Z",
     "start_time": "2021-03-04T19:44:09.415346Z"
    }
   },
   "outputs": [
    {
     "name": "stdout",
     "output_type": "stream",
     "text": [
      "I_f(t) = Y(t)⋅h(t)\n",
      "K_f(t) - K_f(t - 1) = I_f(t)\n",
      "Lf(t) = -FU(t) + I_f(t) + Lf(t - 1)\n",
      "FT(t) = FD(t) + FU(t)\n",
      "FU(t) = γ_F⋅(FT(t) - Lf(t - 1)⋅rl(t))\n",
      "FD(t) = (1 - γ_F)⋅(FT(t) - Lf(t - 1)⋅rl(t))\n",
      "h(t) = γᵤ⋅(-rn + r(t))⋅h(t - 1) + h(t - 1)\n",
      "       (1 - ω)⋅u(t)\n",
      "r(t) = ────────────\n",
      "            v      \n",
      "NFW_f(t) = FU(t) - I_f(t)\n",
      "V_f(t) = K_f(t) - Lf(t)\n"
     ]
    }
   ],
   "source": [
    "I_f = _h(t)*_Y(t)\n",
    "pprint(sp.Eq(_I_f(t), I_f))\n",
    "dK_f = _I_f(t)\n",
    "pprint(sp.Eq(_K_f(t) - _K_f(t-1), dK_f))\n",
    "Lf = _I_f(t) - _FU(t) + _Lf(t-1)\n",
    "pprint(sp.Eq(_Lf(t), Lf))\n",
    "FT = _FU(t) + _FD(t)\n",
    "pprint(sp.Eq(_FT(t), FT))\n",
    "FU = gamma_F*(_FT(t) - _rl(t)*_Lf(t-1))\n",
    "pprint(sp.Eq(_FU(t), FU))\n",
    "FD = (1 - gamma_F)*(_FT(t) - _rl(t)*_Lf(t-1))\n",
    "pprint(sp.Eq(_FD(t), FD))\n",
    "h = _h(t-1)*gamma_u*(_r(t)-rn) + _h(t-1)\n",
    "pprint(sp.Eq(_h(t), h))\n",
    "r = (1-omega)*_u(t)/v\n",
    "pprint(sp.Eq(_r(t), r))\n",
    "NFW_f = _FU(t) - _I_f(t)\n",
    "pprint(sp.Eq(_NFW_f(t), NFW_f))\n",
    "V_f = _K_f(t) - _Lf(t)\n",
    "pprint(sp.Eq(_V_f(t), V_f))"
   ]
  },
  {
   "cell_type": "markdown",
   "metadata": {},
   "source": [
    "## Banks"
   ]
  },
  {
   "cell_type": "code",
   "execution_count": 19,
   "metadata": {
    "ExecuteTime": {
     "end_time": "2021-03-04T19:44:13.907663Z",
     "start_time": "2021-03-04T19:44:13.826969Z"
    }
   },
   "outputs": [
    {
     "name": "stdout",
     "output_type": "stream",
     "text": [
      "L(t) = Lf(t) + Lk(t)\n",
      "M(t) = L(t) - L(t - 1) + M(t - 1) + MO(t) - MO(t - 1)\n",
      "rmo(t) = rm⋅(spreadₘₒ + 1)\n",
      "rl(t) = rm⋅(spreadₗ + 1)\n",
      "V_b(t) = L(t) - M(t) + MO(t)\n",
      "NFW_b(t) = -rm⋅M(t - 1) + L(t - 1)⋅rl(t) + MO(t - 1)⋅rmo(t)\n"
     ]
    }
   ],
   "source": [
    "L = _Lf(t) + _Lk(t)\n",
    "pprint(sp.Eq(_L(t), L))\n",
    "M = (_L(t) - _L(t-1)) + (_MO(t) - _MO(t-1)) + _M(t-1)\n",
    "pprint(sp.Eq(_M(t), M))\n",
    "rmo = (1+ spread_mo)*rm\n",
    "pprint(sp.Eq(_rmo(t), rmo))\n",
    "rl = (1+ spread_l)*rm\n",
    "pprint(sp.Eq(_rl(t), rl))\n",
    "V_b = _L(t) + _MO(t) - _M(t)\n",
    "pprint(sp.Eq(_V_b(t), V_b))\n",
    "NFW_b = _rl(t)*_L(t-1) + _rmo(t)*_MO(t-1) - rm*_M(t-1)\n",
    "pprint(sp.Eq(_NFW_b(t), NFW_b))"
   ]
  },
  {
   "cell_type": "markdown",
   "metadata": {},
   "source": [
    "## Residential Investment"
   ]
  },
  {
   "cell_type": "code",
   "execution_count": 12,
   "metadata": {
    "ExecuteTime": {
     "end_time": "2021-03-04T19:34:29.013064Z",
     "start_time": "2021-03-04T19:34:28.910184Z"
    }
   },
   "outputs": [
    {
     "name": "stdout",
     "output_type": "stream",
     "text": [
      "K_HS(t) = K_HD(t)\n",
      "Is(t) = Iₕ(t)\n",
      "K_HD(t) - K_HD(t - 1) = Iₕ(t)\n",
      "Iₕ(t) = (g_Z(t) + 1)⋅Iₕ(t - 1)\n",
      "        K_HD(t)\n",
      "Kₖ(t) = ───────\n",
      "          K(t) \n",
      "ph(t) = (infla + 1)⋅ph(t - 1)\n",
      "              rmo(t) + 1\n",
      "own(t) = -1 + ──────────\n",
      "              infla + 1 \n",
      "g_Z(t) = φ₀ - φ₁⋅own(t)\n"
     ]
    }
   ],
   "source": [
    "_own = sp.Function('own')\n",
    "\n",
    "K_HS = _K_HD(t)\n",
    "pprint(sp.Eq(_K_HS(t), K_HS))\n",
    "Is = _I_h(t)\n",
    "pprint(sp.Eq(_Is(t), Is))\n",
    "dK_HD = _I_h(t)\n",
    "pprint(sp.Eq(_K_HD(t) - _K_HD(t-1), dK_HD))\n",
    "I_h = (1+_g_Z(t))*_I_h(t-1)\n",
    "pprint(sp.Eq(_I_h(t), I_h))\n",
    "K_k = _K_HD(t)/(_K(t))\n",
    "pprint(sp.Eq(_K_k(t), K_k))\n",
    "ph = (1+infla)*_ph(t-1)\n",
    "pprint(sp.Eq(_ph(t), ph))\n",
    "own = ((1+_rmo(t))/(1+infla))-1\n",
    "pprint(sp.Eq(_own(t), own))\n",
    "g_Z = phi_0 - phi_1*_own(t)\n",
    "pprint(sp.Eq(_g_Z(t), g_Z))"
   ]
  },
  {
   "cell_type": "markdown",
   "metadata": {},
   "source": [
    "### Stability condition"
   ]
  },
  {
   "cell_type": "code",
   "execution_count": 14,
   "metadata": {
    "ExecuteTime": {
     "end_time": "2021-03-04T19:35:18.051305Z",
     "start_time": "2021-03-04T19:35:18.039323Z"
    }
   },
   "outputs": [],
   "source": [
    "g = sp.Function('g')\n",
    "gK = sp.Function('g_K')\n",
    "\n",
    "\n",
    "def replacer(express):\n",
    "    #print(\"\\nReplacing the initial values.....\")\n",
    "    df = SolveSFC(model(), time=1)\n",
    "    df = df.iloc[1, :]\n",
    "\n",
    "    express = express.subs(alpha, df['alpha']).subs(\n",
    "        omega, df['omega'])\n",
    "    express = express.subs(un, df['un']).subs(\n",
    "        gamma_u, df['gamma_u']).subs(rn, df['rm'])\n",
    "    express = express.subs(\n",
    "        infla, df['infla'])\n",
    "    express = express.subs(phi_0, df['phi_0']).subs(\n",
    "        phi_1,\n",
    "        df['phi_1']).subs(rm, df['rm']).subs(\n",
    "            spread_mo, df['spread_mo'])\n",
    "    express = express.subs(rm, df['rm']).subs(\n",
    "            spread_mo, df['spread_mo']).subs(v, df['v']).subs(R, df['R'])\n",
    "    return express"
   ]
  },
  {
   "cell_type": "code",
   "execution_count": 43,
   "metadata": {
    "ExecuteTime": {
     "end_time": "2021-03-04T19:58:51.144722Z",
     "start_time": "2021-03-04T19:58:50.899530Z"
    }
   },
   "outputs": [
    {
     "name": "stdout",
     "output_type": "stream",
     "text": [
      "⎡   -Z(t)    ⎤\n",
      "⎢────────────⎥\n",
      "⎣ω + h(t) - 1⎦\n",
      "dY/d alpha =  omega*Z(t)/(alpha*omega + h(t) - 1)**2\n",
      "dY/d omega =  alpha*Z(t)/(alpha*omega + h(t) - 1)**2\n",
      "\n",
      "Gowth rate.....\n",
      "⎡gZ⋅x₀ + rn⋅x₁ - x₁⋅r(t)⎤\n",
      "⎢───────────────────────⎥\n",
      "⎣           x₀          ⎦\n",
      "\n",
      "d gY/ d omega\n",
      "\n",
      "     gZ        gZ⋅(ω + h(t) - 1) + γᵤ⋅rn⋅h(t - 1) - γᵤ⋅h(t - 1)⋅r(t)\n",
      "──────────── - ─────────────────────────────────────────────────────\n",
      "ω + h(t) - 1                                    2                   \n",
      "                                  (ω + h(t) - 1)                    \n",
      "For u = un\n",
      "     gZ⋅(ω + h(t) - 1) + γᵤ⋅rn⋅h(t - 1) - γᵤ⋅h(t - 1)⋅r(t)\n",
      "gY = ─────────────────────────────────────────────────────\n",
      "                          ω + h(t) - 1                    \n"
     ]
    }
   ],
   "source": [
    "EqY = Y - _Y(t)\n",
    "EqY = EqY.subs(_C(t), C).subs(_Ck(t), Ck).subs(_Cw(t), Cw)\n",
    "EqY = EqY.subs(_I_t(t), I).subs(_I_f(t), I_f)\n",
    "EqY = EqY.subs(_W(t), W)\n",
    "EqY = EqY.subs(_I_h(t), (1-R)*_Z(t))\n",
    "\n",
    "EqY = sp.solve(EqY, _Y(t))[0].collect(alpha).collect(omega)\n",
    "solY = EqY.subs(alpha,1)\n",
    "pprint(cse(solY, optimizations='basic')[1], use_unicode=True)\n",
    "print('dY/d alpha = ', EqY.diff(alpha))\n",
    "print('dY/d omega = ', EqY.diff(omega))\n",
    "\n",
    "print(\"\\nGowth rate.....\")\n",
    "gY, h_, gz_ = sp.symbols('gY h gZ')\n",
    "gY_ = alpha*omega * gY + R*(_Z(t) / _Y(t)) * _g_Z(t) + _h(t) * gY + _h(t) - _h(\n",
    "    t - 1) + (1-R)*(_Z(t) / _Y(t)) * _g_Z(t) - gY\n",
    "gY_ = gY_.subs(_g_Z(t), gz_).subs(_Y(t), solY).subs(_g_Z(t), gz_).subs(alpha,1)\n",
    "gY_ = gY_.subs(_h(t) - _h(t - 1), h - _h(t - 1))\n",
    "gY_ = gY_.subs(_r(t), r)\n",
    "gY_ = u_r(gY_)\n",
    "gY_ = sp.solve(gY_, gY)[0].collect(gz_)\n",
    "pprint(cse(gY_, optimizations='basic')[1], use_unicode=True)\n",
    "\n",
    "print('\\nd gY/ d omega\\n')\n",
    "pprint(gY_.diff(omega))\n",
    "\n",
    "print(\"For u = un\")\n",
    "pprint(sp.Eq(gY, gY_.subs(_u(t), un)))"
   ]
  },
  {
   "cell_type": "markdown",
   "metadata": {},
   "source": [
    "### Stability conditon (I)"
   ]
  },
  {
   "cell_type": "code",
   "execution_count": 79,
   "metadata": {
    "ExecuteTime": {
     "end_time": "2021-03-04T20:22:50.295462Z",
     "start_time": "2021-03-04T20:22:50.112059Z"
    }
   },
   "outputs": [
    {
     "name": "stdout",
     "output_type": "stream",
     "text": [
      "g(t) = gY\n",
      "       v⋅(g(t) - g_K(t))⋅r(t)           \n",
      "u(t) = ────────────────────── + u(t - 1)\n",
      "               1 - ω                    \n",
      "         h(t)⋅r(t)\n",
      "g_K(t) = ─────────\n",
      "           1 - ω  \n",
      "         ⎛     h(t)⋅r(t)⎞     \n",
      "       v⋅⎜gZ - ─────────⎟⋅r(t)\n",
      "         ⎝       1 - ω  ⎠     \n",
      "u(t) = ───────────────────────\n",
      "                1 - ω         \n",
      "          ⎛   rn⋅v   v⋅r(t)⎞     \n",
      "h(t) = γᵤ⋅⎜- ───── + ──────⎟⋅h(t)\n",
      "          ⎝  1 - ω   1 - ω ⎠     \n",
      "\n",
      "Building Jacobian matrix and evaluating at u = un\n",
      "\n",
      "⎡                 gY⋅γᵤ⋅v        ⎤\n",
      "⎢   0             ───────        ⎥\n",
      "⎢                    rn          ⎥\n",
      "⎢                                ⎥\n",
      "⎢   2                            ⎥\n",
      "⎢-rn ⋅v       gY⋅v   v⋅(-gY + gZ)⎥\n",
      "⎢────────  - ───── + ────────────⎥\n",
      "⎢       2    1 - ω      1 - ω    ⎥\n",
      "⎣(1 - ω)                         ⎦\n",
      "\n",
      "Determinant:\n",
      "\n",
      "            2    \n",
      "g__*⋅γᵤ⋅rn⋅v     \n",
      "───────────── > 0\n",
      "          2      \n",
      "   (ω - 1)       \n",
      "\n",
      "Stability condition\n",
      "\n",
      "⎧              ⎛            2    ⎞⎫\n",
      "⎪              ⎜g__*⋅γᵤ⋅rn⋅v     ⎟⎪\n",
      "⎨γᵤ | γᵤ ∊ ℝ ∧ ⎜───────────── > 0⎟⎬\n",
      "⎪              ⎜          2      ⎟⎪\n",
      "⎩              ⎝   (ω - 1)       ⎠⎭\n",
      "\n",
      "Trace:\n",
      "\n",
      "g__*⋅v    \n",
      "────── < 0\n",
      "ω - 1     \n",
      "\n",
      "Stability condition\n",
      "\n",
      "⎧            ⎛g__*⋅v    ⎞⎫\n",
      "⎨ω | ω ∊ ℝ ∧ ⎜────── < 0⎟⎬\n",
      "⎩            ⎝ω - 1     ⎠⎭\n"
     ]
    }
   ],
   "source": [
    "def u_r(express):\n",
    "    express = express.subs(_u(t), _r(t)*v/(1-omega)).subs(un, rn*v/(1-omega))\n",
    "    return express\n",
    "\n",
    "own_ = sp.Symbol('own')\n",
    "g_LR = u_r(gY)\n",
    "pprint(sp.Eq(g(t), g_LR))\n",
    "\n",
    "Equ = _u(t)*(g(t) - gK(t)) + _u(t-1)\n",
    "Equ = u_r(Equ)\n",
    "\n",
    "pprint(sp.Eq(_u(t), Equ))\n",
    "g_K = u_r((_h(t)*_u(t))/v)\n",
    "pprint(sp.Eq(gK(t), g_K))\n",
    "Equ = _u(t)*(g(t) - g_K)\n",
    "Equ = Equ.subs(g(t), gz_)\n",
    "Equ = u_r(Equ)\n",
    "pprint(sp.Eq(_u(t), Equ))\n",
    "\n",
    "Eqh = _h(t)*gamma_u*(_u(t) - un)\n",
    "Eqh = u_r(Eqh)\n",
    "pprint(sp.Eq(_h(t), Eqh))\n",
    "\n",
    "print('\\nBuilding Jacobian matrix and evaluating at u = un\\n')\n",
    "J = sp.Matrix([\n",
    "        [\n",
    "            Eqh.diff(_h(t)).subs(_u(t), un).subs(_h(t-1), _h(t)).subs(_h(t), g_LR*v/un).subs(_r(t), rn).subs(un, rn*v/(1-omega)), \n",
    "            Eqh.diff(_r(t)).subs(_u(t), un).subs(_h(t-1), _h(t)).subs(_h(t), g_LR*v/un).subs(_r(t), rn).subs(un, rn*v/(1-omega))\n",
    "        ], \n",
    "        [\n",
    "            Equ.diff(_h(t)).subs(_u(t), un).subs(_h(t-1), _h(t)).subs(_h(t), g_LR*v/un).subs(_r(t), rn).subs(un, rn*v/(1-omega)), \n",
    "            Equ.diff(_r(t)).subs(_u(t), un).subs(_h(t-1), _h(t)).subs(_h(t), g_LR*v/un).subs(_r(t), rn).subs(un, rn*v/(1-omega))\n",
    "        ]])\n",
    "pprint(J)\n",
    "print('\\nDeterminant:\\n')\n",
    "det = J.det().simplify().factor().subs(gz_, sp.Symbol('g^*', positive=True)).subs(g_LR, sp.Symbol('g^*', positive=True))\n",
    "pprint(det>0)\n",
    "estability = sp.solveset(det>0, gamma_u, domain=sp.S.Reals)\n",
    "print(\"\\nStability condition\\n\")\n",
    "pprint(estability)\n",
    "\n",
    "print('\\nTrace:\\n')\n",
    "tr = J.trace().simplify().factor().subs(gz_, sp.Symbol('g^*', positive=True)).subs(g_LR, sp.Symbol('g^*', positive=True))\n",
    "pprint(tr<0)\n",
    "# estability = sp.solve(tr)\n",
    "estability = sp.solveset(tr<0, omega, domain=sp.S.Reals)\n",
    "print(\"\\nStability condition\\n\")\n",
    "pprint(estability)"
   ]
  },
  {
   "cell_type": "code",
   "execution_count": null,
   "metadata": {
    "ExecuteTime": {
     "end_time": "2021-03-04T20:26:32.386817Z",
     "start_time": "2021-03-04T20:26:31.952432Z"
    }
   },
   "outputs": [],
   "source": []
  },
  {
   "cell_type": "code",
   "execution_count": 95,
   "metadata": {
    "ExecuteTime": {
     "end_time": "2021-03-04T20:35:14.003931Z",
     "start_time": "2021-03-04T20:35:13.982718Z"
    }
   },
   "outputs": [
    {
     "data": {
      "text/latex": [
       "$\\displaystyle 0$"
      ],
      "text/plain": [
       "0"
      ]
     },
     "execution_count": 95,
     "metadata": {},
     "output_type": "execute_result"
    }
   ],
   "source": [
    "Eqh.diff(omega).subs(_r(t), rn)"
   ]
  },
  {
   "cell_type": "code",
   "execution_count": 125,
   "metadata": {
    "ExecuteTime": {
     "end_time": "2021-03-04T20:44:22.032394Z",
     "start_time": "2021-03-04T20:44:22.010507Z"
    }
   },
   "outputs": [
    {
     "data": {
      "text/latex": [
       "$\\displaystyle \\frac{gY}{rn}$"
      ],
      "text/plain": [
       "gY/rn"
      ]
     },
     "execution_count": 125,
     "metadata": {},
     "output_type": "execute_result"
    }
   ],
   "source": [
    "EqhLR = g_LR*v/un\n",
    "EqhLR = u_r(EqhLR)\n",
    "EqhLR = EqhLR.simplify()\n",
    "f = EqhLR/(1-omega)\n",
    "f.simplify()"
   ]
  },
  {
   "cell_type": "code",
   "execution_count": null,
   "metadata": {},
   "outputs": [],
   "source": []
  }
 ],
 "metadata": {
  "hide_input": false,
  "kernelspec": {
   "display_name": "Python 3",
   "language": "python",
   "name": "python3"
  },
  "language_info": {
   "codemirror_mode": {
    "name": "ipython",
    "version": 3
   },
   "file_extension": ".py",
   "mimetype": "text/x-python",
   "name": "python",
   "nbconvert_exporter": "python",
   "pygments_lexer": "ipython3",
   "version": "3.8.6"
  },
  "latex_envs": {
   "LaTeX_envs_menu_present": true,
   "autoclose": false,
   "autocomplete": true,
   "bibliofile": "biblio.bib",
   "cite_by": "apalike",
   "current_citInitial": 1,
   "eqLabelWithNumbers": true,
   "eqNumInitial": 1,
   "hotkeys": {
    "equation": "Ctrl-E",
    "itemize": "Ctrl-I"
   },
   "labels_anchors": false,
   "latex_user_defs": false,
   "report_style_numbering": false,
   "user_envs_cfg": false
  }
 },
 "nbformat": 4,
 "nbformat_minor": 2
}
