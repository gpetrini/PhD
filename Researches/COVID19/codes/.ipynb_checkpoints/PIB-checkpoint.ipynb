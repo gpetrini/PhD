{
 "cells": [
  {
   "cell_type": "markdown",
   "metadata": {
    "colab_type": "text",
    "id": "2G7N0ui7p51K"
   },
   "source": [
    "# Loading packages"
   ]
  },
  {
   "cell_type": "code",
   "execution_count": 1,
   "metadata": {
    "ExecuteTime": {
     "end_time": "2020-12-17T20:02:06.525484Z",
     "start_time": "2020-12-17T20:02:06.521548Z"
    },
    "colab": {
     "base_uri": "https://localhost:8080/",
     "height": 35
    },
    "colab_type": "code",
    "id": "P0zYkCqvI9wC",
    "outputId": "0b0d7057-0c60-4b97-925b-ab383f214310"
   },
   "outputs": [
    {
     "name": "stdout",
     "output_type": "stream",
     "text": [
      "Hora de início do script: 2020-12-17 17:02:06.523129\n"
     ]
    }
   ],
   "source": [
    "import datetime as dt\n",
    "t1 = dt.datetime.now()\n",
    "print(f\"Hora de início do script: {t1}\")"
   ]
  },
  {
   "cell_type": "markdown",
   "metadata": {
    "colab_type": "text",
    "id": "r4HI44UYnLvW"
   },
   "source": [
    "# Loading packages and downloading files"
   ]
  },
  {
   "cell_type": "code",
   "execution_count": 2,
   "metadata": {
    "ExecuteTime": {
     "end_time": "2020-12-17T20:02:16.058668Z",
     "start_time": "2020-12-17T20:02:06.533630Z"
    },
    "colab": {},
    "colab_type": "code",
    "id": "HU1_zMqJp51L"
   },
   "outputs": [],
   "source": [
    "%config InlineBackend.figure_format = 'retina'\n",
    "\n",
    "import pandas as pd\n",
    "import numpy as np\n",
    "import matplotlib.pyplot as plt\n",
    "from matplotlib.ticker import FuncFormatter\n",
    "import matplotlib.dates as mdates\n",
    "import seaborn as sns\n",
    "import datetime\n",
    "plt.style.use('seaborn-dark-palette')\n",
    "\n",
    "import matplotlib.image as image\n",
    "\n",
    "logo = \"../figs/Cecon_Logo.png\"\n",
    "logo = image.imread(logo)"
   ]
  },
  {
   "cell_type": "markdown",
   "metadata": {
    "colab_type": "text",
    "id": "ZxyW8bXkp51Z"
   },
   "source": [
    "## Getting data (using bash)"
   ]
  },
  {
   "cell_type": "code",
   "execution_count": 3,
   "metadata": {
    "ExecuteTime": {
     "end_time": "2020-12-17T20:02:18.312401Z",
     "start_time": "2020-12-17T20:02:16.060037Z"
    },
    "colab": {
     "base_uri": "https://localhost:8080/",
     "height": 534
    },
    "colab_type": "code",
    "id": "7b-aY3jmp51a",
    "outputId": "a02d8667-2f16-4c4c-d51f-dc84e0b0ec62",
    "scrolled": true
   },
   "outputs": [
    {
     "name": "stdout",
     "output_type": "stream",
     "text": [
      "--2020-12-17 17:02:16--  ftp://ftp.ibge.gov.br/Contas_Nacionais/Contas_Nacionais_Trimestrais/Tabelas_Completas/Tab_Compl_CNT.zip\n",
      "           => “.listing”\n",
      "Resolvendo ftp.ibge.gov.br (ftp.ibge.gov.br)... 170.84.40.44\n",
      "Conectando-se a ftp.ibge.gov.br (ftp.ibge.gov.br)|170.84.40.44|:21... conectado.\n",
      "Acessando como anonymous ... Acesso autorizado!\n",
      "==> SYST ... feito.    ==> PWD ... feito.\n",
      "==> TYPE I ... feito.  ==> CWD (1) /Contas_Nacionais/Contas_Nacionais_Trimestrais/Tabelas_Completas ... feito.\n",
      "==> PASV ... feito.    ==> LIST ... feito.\n",
      "Failed to rename .listing to .listing.1: (2) Arquivo ou diretório não encontrado\n",
      "\n",
      ".listing                [ <=>                ]     194  --.-KB/s    em 0,001s  \n",
      "\n",
      "2020-12-17 17:02:17 (138 KB/s) - “.listing” salvo [194]\n",
      "\n",
      "Removeu “.listing”.\n",
      "--2020-12-17 17:02:17--  ftp://ftp.ibge.gov.br/Contas_Nacionais/Contas_Nacionais_Trimestrais/Tabelas_Completas/Tab_Compl_CNT.zip\n",
      "           => “Tab_Compl_CNT.zip”\n",
      "==> CWD não exigido.\n",
      "==> PASV ... feito.    ==> RETR Tab_Compl_CNT.zip ... feito.\n",
      "Failed to rename Tab_Compl_CNT.zip to Tab_Compl_CNT.zip.1: (2) Arquivo ou diretório não encontrado\n",
      "Tamanho: 304598 (297K)\n",
      "\n",
      "Tab_Compl_CNT.zip   100%[===================>] 297,46K   911KB/s    em 0,3s    \n",
      "\n",
      "2020-12-17 17:02:17 (911 KB/s) - “Tab_Compl_CNT.zip” salvo [304598]\n",
      "\n",
      "Archive:  Tab_Compl_CNT.zip\n",
      "  inflating: Tab_Compl_CNT.xls       \n",
      "mv: não foi possível mover 'Tab_Compl_CNT.xls' para '../data/Tab_Compl_CNT.xlsx': Arquivo ou diretório não encontrado\n"
     ]
    }
   ],
   "source": [
    "! wget -N --backups=1 ftp://ftp.ibge.gov.br/Contas_Nacionais/Contas_Nacionais_Trimestrais/Tabelas_Completas/Tab_Compl_CNT.zip\n",
    "! unzip -o Tab_Compl_CNT.zip\n",
    "! mv *.xls ../raw/Tab_Compl_CNT.xlsx"
   ]
  },
  {
   "cell_type": "markdown",
   "metadata": {
    "colab_type": "text",
    "id": "vqzXCSo6p51d"
   },
   "source": [
    "## Nome das colunas\n",
    "\n",
    "Referente às planilhas 7,8 e 11"
   ]
  },
  {
   "cell_type": "code",
   "execution_count": 4,
   "metadata": {
    "ExecuteTime": {
     "end_time": "2020-12-17T20:02:18.332824Z",
     "start_time": "2020-12-17T20:02:18.318336Z"
    },
    "colab": {},
    "colab_type": "code",
    "id": "oGYAKBNBp51e"
   },
   "outputs": [],
   "source": [
    "Colunas = [\n",
    "    \"Agropecuaria\",\n",
    "    \"Industria Extrativa\",\n",
    "    \"Industria de Transformacao\",\n",
    "    \"Eletricidade e agua\",\n",
    "    \"Construcao\",\n",
    "    \"Total Industria\",\n",
    "    \"Comercio\",\n",
    "    \"Transporte, armazenagem e correio\",\n",
    "    \"Informacao e comunicacao\",\n",
    "    \"Atividades Financeiras\",\n",
    "    \"Atividades Imobiliarias\",\n",
    "    \"Outras atividades\",\n",
    "    \"ADM, defesa, etc\",\n",
    "    \"Total Servicos\",\n",
    "    \"VA\",\n",
    "    \"PIB\",\n",
    "    \"Consumo das Familias\",\n",
    "    \"Consumo do Governo\",\n",
    "    \"FBCF\",\n",
    "    \"Exportacao\",\n",
    "    \"Importacao\"\n",
    "]"
   ]
  },
  {
   "cell_type": "markdown",
   "metadata": {
    "colab_type": "text",
    "id": "CFvH05O2p51g"
   },
   "source": [
    "Criando vetores com setores"
   ]
  },
  {
   "cell_type": "code",
   "execution_count": 5,
   "metadata": {
    "ExecuteTime": {
     "end_time": "2020-12-17T20:02:18.427922Z",
     "start_time": "2020-12-17T20:02:18.338990Z"
    },
    "colab": {},
    "colab_type": "code",
    "id": "HsJmu5CIp51h"
   },
   "outputs": [],
   "source": [
    "Agropecuaria = ['Agropecuaria']\n",
    "\n",
    "Industria = [\n",
    "    \"Industria Extrativa\",\n",
    "    \"Industria de Transformacao\",\n",
    "    \"Eletricidade e agua\",\n",
    "    \"Construcao\",\n",
    "    \"Total Industria\"\n",
    "]\n",
    "\n",
    "Servicos = [\n",
    "    \"Comercio\",\n",
    "    \"Transporte, armazenagem e correio\",\n",
    "    \"Informacao e comunicacao\",\n",
    "    \"Atividades Financeiras\",\n",
    "    \"Atividades Imobiliarias\",\n",
    "    \"Outras atividades\",\n",
    "    \"ADM, defesa, etc\",\n",
    "    \"Total Servicos\",\n",
    "]\n",
    "\n",
    "Demanda = [\n",
    "    \"Consumo das Familias\",\n",
    "    \"Consumo do Governo\",\n",
    "    \"FBCF\",\n",
    "    \"Exportacao\",\n",
    "    \"Importacao\"\n",
    "]\n",
    "\n",
    "Oferta = [\n",
    "    'Agropecuaria',\n",
    "    \"Total Industria\",\n",
    "    \"Total Servicos\",\n",
    "]"
   ]
  },
  {
   "cell_type": "markdown",
   "metadata": {
    "colab_type": "text",
    "id": "kJbn9Rhzp51j"
   },
   "source": [
    "# Criando DataFrame"
   ]
  },
  {
   "cell_type": "code",
   "execution_count": 6,
   "metadata": {
    "ExecuteTime": {
     "end_time": "2020-12-17T20:02:19.274564Z",
     "start_time": "2020-12-17T20:02:18.437333Z"
    },
    "colab": {},
    "colab_type": "code",
    "id": "RN6_G5_Ip51k"
   },
   "outputs": [
    {
     "ename": "FileNotFoundError",
     "evalue": "[Errno 2] No such file or directory: '../data/Tab_Compl_CNT.xlsx'",
     "output_type": "error",
     "traceback": [
      "\u001b[0;31m---------------------------------------------------------------------------\u001b[0m",
      "\u001b[0;31mFileNotFoundError\u001b[0m                         Traceback (most recent call last)",
      "\u001b[0;32m<ipython-input-6-37d77cb3d86f>\u001b[0m in \u001b[0;36m<module>\u001b[0;34m\u001b[0m\n\u001b[0;32m----> 1\u001b[0;31m \u001b[0mdf\u001b[0m \u001b[0;34m=\u001b[0m \u001b[0mpd\u001b[0m\u001b[0;34m.\u001b[0m\u001b[0mread_excel\u001b[0m\u001b[0;34m(\u001b[0m\u001b[0;34m'../data/Tab_Compl_CNT.xlsx'\u001b[0m\u001b[0;34m,\u001b[0m \u001b[0mheader\u001b[0m\u001b[0;34m=\u001b[0m\u001b[0;36m3\u001b[0m\u001b[0;34m,\u001b[0m \u001b[0msheet_name\u001b[0m\u001b[0;34m=\u001b[0m\u001b[0;34m'Val encad preços 95 com ajuste'\u001b[0m\u001b[0;34m,\u001b[0m \u001b[0mindex_col\u001b[0m\u001b[0;34m=\u001b[0m\u001b[0;36m0\u001b[0m\u001b[0;34m)\u001b[0m\u001b[0;34m\u001b[0m\u001b[0;34m\u001b[0m\u001b[0m\n\u001b[0m\u001b[1;32m      2\u001b[0m \u001b[0mdf\u001b[0m\u001b[0;34m.\u001b[0m\u001b[0mindex\u001b[0m \u001b[0;34m=\u001b[0m \u001b[0mdf\u001b[0m\u001b[0;34m.\u001b[0m\u001b[0mindex\u001b[0m\u001b[0;34m.\u001b[0m\u001b[0mstr\u001b[0m\u001b[0;34m.\u001b[0m\u001b[0mreplace\u001b[0m\u001b[0;34m(\u001b[0m\u001b[0;34m'.'\u001b[0m\u001b[0;34m,\u001b[0m \u001b[0;34m'Q'\u001b[0m\u001b[0;34m)\u001b[0m\u001b[0;34m.\u001b[0m\u001b[0mstr\u001b[0m\u001b[0;34m.\u001b[0m\u001b[0mreplace\u001b[0m\u001b[0;34m(\u001b[0m\u001b[0;34m'IV'\u001b[0m\u001b[0;34m,\u001b[0m \u001b[0;34m'4'\u001b[0m\u001b[0;34m)\u001b[0m\u001b[0;34m.\u001b[0m\u001b[0mstr\u001b[0m\u001b[0;34m.\u001b[0m\u001b[0mreplace\u001b[0m\u001b[0;34m(\u001b[0m\u001b[0;34m'III'\u001b[0m\u001b[0;34m,\u001b[0m \u001b[0;34m'3'\u001b[0m\u001b[0;34m)\u001b[0m\u001b[0;34m.\u001b[0m\u001b[0mstr\u001b[0m\u001b[0;34m.\u001b[0m\u001b[0mreplace\u001b[0m\u001b[0;34m(\u001b[0m\u001b[0;34m'II'\u001b[0m\u001b[0;34m,\u001b[0m \u001b[0;34m'2'\u001b[0m\u001b[0;34m)\u001b[0m\u001b[0;34m.\u001b[0m\u001b[0mstr\u001b[0m\u001b[0;34m.\u001b[0m\u001b[0mreplace\u001b[0m\u001b[0;34m(\u001b[0m\u001b[0;34m'I'\u001b[0m\u001b[0;34m,\u001b[0m \u001b[0;34m'1'\u001b[0m\u001b[0;34m)\u001b[0m\u001b[0;34m\u001b[0m\u001b[0;34m\u001b[0m\u001b[0m\n\u001b[1;32m      3\u001b[0m \u001b[0mdf\u001b[0m\u001b[0;34m.\u001b[0m\u001b[0mindex\u001b[0m \u001b[0;34m=\u001b[0m \u001b[0mpd\u001b[0m\u001b[0;34m.\u001b[0m\u001b[0mPeriodIndex\u001b[0m\u001b[0;34m(\u001b[0m\u001b[0mdf\u001b[0m\u001b[0;34m.\u001b[0m\u001b[0mindex\u001b[0m\u001b[0;34m,\u001b[0m \u001b[0mfreq\u001b[0m\u001b[0;34m=\u001b[0m\u001b[0;34m'Q'\u001b[0m\u001b[0;34m)\u001b[0m\u001b[0;34m\u001b[0m\u001b[0;34m\u001b[0m\u001b[0m\n\u001b[1;32m      4\u001b[0m \u001b[0mdf\u001b[0m\u001b[0;34m.\u001b[0m\u001b[0mcolumns\u001b[0m \u001b[0;34m=\u001b[0m \u001b[0mColunas\u001b[0m\u001b[0;34m\u001b[0m\u001b[0;34m\u001b[0m\u001b[0m\n",
      "\u001b[0;32m~/.local/lib/python3.8/site-packages/pandas/util/_decorators.py\u001b[0m in \u001b[0;36mwrapper\u001b[0;34m(*args, **kwargs)\u001b[0m\n\u001b[1;32m    294\u001b[0m                 )\n\u001b[1;32m    295\u001b[0m                 \u001b[0mwarnings\u001b[0m\u001b[0;34m.\u001b[0m\u001b[0mwarn\u001b[0m\u001b[0;34m(\u001b[0m\u001b[0mmsg\u001b[0m\u001b[0;34m,\u001b[0m \u001b[0mFutureWarning\u001b[0m\u001b[0;34m,\u001b[0m \u001b[0mstacklevel\u001b[0m\u001b[0;34m=\u001b[0m\u001b[0mstacklevel\u001b[0m\u001b[0;34m)\u001b[0m\u001b[0;34m\u001b[0m\u001b[0;34m\u001b[0m\u001b[0m\n\u001b[0;32m--> 296\u001b[0;31m             \u001b[0;32mreturn\u001b[0m \u001b[0mfunc\u001b[0m\u001b[0;34m(\u001b[0m\u001b[0;34m*\u001b[0m\u001b[0margs\u001b[0m\u001b[0;34m,\u001b[0m \u001b[0;34m**\u001b[0m\u001b[0mkwargs\u001b[0m\u001b[0;34m)\u001b[0m\u001b[0;34m\u001b[0m\u001b[0;34m\u001b[0m\u001b[0m\n\u001b[0m\u001b[1;32m    297\u001b[0m \u001b[0;34m\u001b[0m\u001b[0m\n\u001b[1;32m    298\u001b[0m         \u001b[0;32mreturn\u001b[0m \u001b[0mwrapper\u001b[0m\u001b[0;34m\u001b[0m\u001b[0;34m\u001b[0m\u001b[0m\n",
      "\u001b[0;32m~/.local/lib/python3.8/site-packages/pandas/io/excel/_base.py\u001b[0m in \u001b[0;36mread_excel\u001b[0;34m(io, sheet_name, header, names, index_col, usecols, squeeze, dtype, engine, converters, true_values, false_values, skiprows, nrows, na_values, keep_default_na, na_filter, verbose, parse_dates, date_parser, thousands, comment, skipfooter, convert_float, mangle_dupe_cols)\u001b[0m\n\u001b[1;32m    302\u001b[0m \u001b[0;34m\u001b[0m\u001b[0m\n\u001b[1;32m    303\u001b[0m     \u001b[0;32mif\u001b[0m \u001b[0;32mnot\u001b[0m \u001b[0misinstance\u001b[0m\u001b[0;34m(\u001b[0m\u001b[0mio\u001b[0m\u001b[0;34m,\u001b[0m \u001b[0mExcelFile\u001b[0m\u001b[0;34m)\u001b[0m\u001b[0;34m:\u001b[0m\u001b[0;34m\u001b[0m\u001b[0;34m\u001b[0m\u001b[0m\n\u001b[0;32m--> 304\u001b[0;31m         \u001b[0mio\u001b[0m \u001b[0;34m=\u001b[0m \u001b[0mExcelFile\u001b[0m\u001b[0;34m(\u001b[0m\u001b[0mio\u001b[0m\u001b[0;34m,\u001b[0m \u001b[0mengine\u001b[0m\u001b[0;34m=\u001b[0m\u001b[0mengine\u001b[0m\u001b[0;34m)\u001b[0m\u001b[0;34m\u001b[0m\u001b[0;34m\u001b[0m\u001b[0m\n\u001b[0m\u001b[1;32m    305\u001b[0m     \u001b[0;32melif\u001b[0m \u001b[0mengine\u001b[0m \u001b[0;32mand\u001b[0m \u001b[0mengine\u001b[0m \u001b[0;34m!=\u001b[0m \u001b[0mio\u001b[0m\u001b[0;34m.\u001b[0m\u001b[0mengine\u001b[0m\u001b[0;34m:\u001b[0m\u001b[0;34m\u001b[0m\u001b[0;34m\u001b[0m\u001b[0m\n\u001b[1;32m    306\u001b[0m         raise ValueError(\n",
      "\u001b[0;32m~/.local/lib/python3.8/site-packages/pandas/io/excel/_base.py\u001b[0m in \u001b[0;36m__init__\u001b[0;34m(self, path_or_buffer, engine)\u001b[0m\n\u001b[1;32m    865\u001b[0m         \u001b[0mself\u001b[0m\u001b[0;34m.\u001b[0m\u001b[0m_io\u001b[0m \u001b[0;34m=\u001b[0m \u001b[0mstringify_path\u001b[0m\u001b[0;34m(\u001b[0m\u001b[0mpath_or_buffer\u001b[0m\u001b[0;34m)\u001b[0m\u001b[0;34m\u001b[0m\u001b[0;34m\u001b[0m\u001b[0m\n\u001b[1;32m    866\u001b[0m \u001b[0;34m\u001b[0m\u001b[0m\n\u001b[0;32m--> 867\u001b[0;31m         \u001b[0mself\u001b[0m\u001b[0;34m.\u001b[0m\u001b[0m_reader\u001b[0m \u001b[0;34m=\u001b[0m \u001b[0mself\u001b[0m\u001b[0;34m.\u001b[0m\u001b[0m_engines\u001b[0m\u001b[0;34m[\u001b[0m\u001b[0mengine\u001b[0m\u001b[0;34m]\u001b[0m\u001b[0;34m(\u001b[0m\u001b[0mself\u001b[0m\u001b[0;34m.\u001b[0m\u001b[0m_io\u001b[0m\u001b[0;34m)\u001b[0m\u001b[0;34m\u001b[0m\u001b[0;34m\u001b[0m\u001b[0m\n\u001b[0m\u001b[1;32m    868\u001b[0m \u001b[0;34m\u001b[0m\u001b[0m\n\u001b[1;32m    869\u001b[0m     \u001b[0;32mdef\u001b[0m \u001b[0m__fspath__\u001b[0m\u001b[0;34m(\u001b[0m\u001b[0mself\u001b[0m\u001b[0;34m)\u001b[0m\u001b[0;34m:\u001b[0m\u001b[0;34m\u001b[0m\u001b[0;34m\u001b[0m\u001b[0m\n",
      "\u001b[0;32m~/.local/lib/python3.8/site-packages/pandas/io/excel/_xlrd.py\u001b[0m in \u001b[0;36m__init__\u001b[0;34m(self, filepath_or_buffer)\u001b[0m\n\u001b[1;32m     20\u001b[0m         \u001b[0merr_msg\u001b[0m \u001b[0;34m=\u001b[0m \u001b[0;34m\"Install xlrd >= 1.0.0 for Excel support\"\u001b[0m\u001b[0;34m\u001b[0m\u001b[0;34m\u001b[0m\u001b[0m\n\u001b[1;32m     21\u001b[0m         \u001b[0mimport_optional_dependency\u001b[0m\u001b[0;34m(\u001b[0m\u001b[0;34m\"xlrd\"\u001b[0m\u001b[0;34m,\u001b[0m \u001b[0mextra\u001b[0m\u001b[0;34m=\u001b[0m\u001b[0merr_msg\u001b[0m\u001b[0;34m)\u001b[0m\u001b[0;34m\u001b[0m\u001b[0;34m\u001b[0m\u001b[0m\n\u001b[0;32m---> 22\u001b[0;31m         \u001b[0msuper\u001b[0m\u001b[0;34m(\u001b[0m\u001b[0;34m)\u001b[0m\u001b[0;34m.\u001b[0m\u001b[0m__init__\u001b[0m\u001b[0;34m(\u001b[0m\u001b[0mfilepath_or_buffer\u001b[0m\u001b[0;34m)\u001b[0m\u001b[0;34m\u001b[0m\u001b[0;34m\u001b[0m\u001b[0m\n\u001b[0m\u001b[1;32m     23\u001b[0m \u001b[0;34m\u001b[0m\u001b[0m\n\u001b[1;32m     24\u001b[0m     \u001b[0;34m@\u001b[0m\u001b[0mproperty\u001b[0m\u001b[0;34m\u001b[0m\u001b[0;34m\u001b[0m\u001b[0m\n",
      "\u001b[0;32m~/.local/lib/python3.8/site-packages/pandas/io/excel/_base.py\u001b[0m in \u001b[0;36m__init__\u001b[0;34m(self, filepath_or_buffer)\u001b[0m\n\u001b[1;32m    351\u001b[0m             \u001b[0mself\u001b[0m\u001b[0;34m.\u001b[0m\u001b[0mbook\u001b[0m \u001b[0;34m=\u001b[0m \u001b[0mself\u001b[0m\u001b[0;34m.\u001b[0m\u001b[0mload_workbook\u001b[0m\u001b[0;34m(\u001b[0m\u001b[0mfilepath_or_buffer\u001b[0m\u001b[0;34m)\u001b[0m\u001b[0;34m\u001b[0m\u001b[0;34m\u001b[0m\u001b[0m\n\u001b[1;32m    352\u001b[0m         \u001b[0;32melif\u001b[0m \u001b[0misinstance\u001b[0m\u001b[0;34m(\u001b[0m\u001b[0mfilepath_or_buffer\u001b[0m\u001b[0;34m,\u001b[0m \u001b[0mstr\u001b[0m\u001b[0;34m)\u001b[0m\u001b[0;34m:\u001b[0m\u001b[0;34m\u001b[0m\u001b[0;34m\u001b[0m\u001b[0m\n\u001b[0;32m--> 353\u001b[0;31m             \u001b[0mself\u001b[0m\u001b[0;34m.\u001b[0m\u001b[0mbook\u001b[0m \u001b[0;34m=\u001b[0m \u001b[0mself\u001b[0m\u001b[0;34m.\u001b[0m\u001b[0mload_workbook\u001b[0m\u001b[0;34m(\u001b[0m\u001b[0mfilepath_or_buffer\u001b[0m\u001b[0;34m)\u001b[0m\u001b[0;34m\u001b[0m\u001b[0;34m\u001b[0m\u001b[0m\n\u001b[0m\u001b[1;32m    354\u001b[0m         \u001b[0;32melif\u001b[0m \u001b[0misinstance\u001b[0m\u001b[0;34m(\u001b[0m\u001b[0mfilepath_or_buffer\u001b[0m\u001b[0;34m,\u001b[0m \u001b[0mbytes\u001b[0m\u001b[0;34m)\u001b[0m\u001b[0;34m:\u001b[0m\u001b[0;34m\u001b[0m\u001b[0;34m\u001b[0m\u001b[0m\n\u001b[1;32m    355\u001b[0m             \u001b[0mself\u001b[0m\u001b[0;34m.\u001b[0m\u001b[0mbook\u001b[0m \u001b[0;34m=\u001b[0m \u001b[0mself\u001b[0m\u001b[0;34m.\u001b[0m\u001b[0mload_workbook\u001b[0m\u001b[0;34m(\u001b[0m\u001b[0mBytesIO\u001b[0m\u001b[0;34m(\u001b[0m\u001b[0mfilepath_or_buffer\u001b[0m\u001b[0;34m)\u001b[0m\u001b[0;34m)\u001b[0m\u001b[0;34m\u001b[0m\u001b[0;34m\u001b[0m\u001b[0m\n",
      "\u001b[0;32m~/.local/lib/python3.8/site-packages/pandas/io/excel/_xlrd.py\u001b[0m in \u001b[0;36mload_workbook\u001b[0;34m(self, filepath_or_buffer)\u001b[0m\n\u001b[1;32m     35\u001b[0m             \u001b[0;32mreturn\u001b[0m \u001b[0mopen_workbook\u001b[0m\u001b[0;34m(\u001b[0m\u001b[0mfile_contents\u001b[0m\u001b[0;34m=\u001b[0m\u001b[0mdata\u001b[0m\u001b[0;34m)\u001b[0m\u001b[0;34m\u001b[0m\u001b[0;34m\u001b[0m\u001b[0m\n\u001b[1;32m     36\u001b[0m         \u001b[0;32melse\u001b[0m\u001b[0;34m:\u001b[0m\u001b[0;34m\u001b[0m\u001b[0;34m\u001b[0m\u001b[0m\n\u001b[0;32m---> 37\u001b[0;31m             \u001b[0;32mreturn\u001b[0m \u001b[0mopen_workbook\u001b[0m\u001b[0;34m(\u001b[0m\u001b[0mfilepath_or_buffer\u001b[0m\u001b[0;34m)\u001b[0m\u001b[0;34m\u001b[0m\u001b[0;34m\u001b[0m\u001b[0m\n\u001b[0m\u001b[1;32m     38\u001b[0m \u001b[0;34m\u001b[0m\u001b[0m\n\u001b[1;32m     39\u001b[0m     \u001b[0;34m@\u001b[0m\u001b[0mproperty\u001b[0m\u001b[0;34m\u001b[0m\u001b[0;34m\u001b[0m\u001b[0m\n",
      "\u001b[0;32m~/.local/lib/python3.8/site-packages/xlrd/__init__.py\u001b[0m in \u001b[0;36mopen_workbook\u001b[0;34m(filename, logfile, verbosity, use_mmap, file_contents, encoding_override, formatting_info, on_demand, ragged_rows)\u001b[0m\n\u001b[1;32m    109\u001b[0m     \u001b[0;32melse\u001b[0m\u001b[0;34m:\u001b[0m\u001b[0;34m\u001b[0m\u001b[0;34m\u001b[0m\u001b[0m\n\u001b[1;32m    110\u001b[0m         \u001b[0mfilename\u001b[0m \u001b[0;34m=\u001b[0m \u001b[0mos\u001b[0m\u001b[0;34m.\u001b[0m\u001b[0mpath\u001b[0m\u001b[0;34m.\u001b[0m\u001b[0mexpanduser\u001b[0m\u001b[0;34m(\u001b[0m\u001b[0mfilename\u001b[0m\u001b[0;34m)\u001b[0m\u001b[0;34m\u001b[0m\u001b[0;34m\u001b[0m\u001b[0m\n\u001b[0;32m--> 111\u001b[0;31m         \u001b[0;32mwith\u001b[0m \u001b[0mopen\u001b[0m\u001b[0;34m(\u001b[0m\u001b[0mfilename\u001b[0m\u001b[0;34m,\u001b[0m \u001b[0;34m\"rb\"\u001b[0m\u001b[0;34m)\u001b[0m \u001b[0;32mas\u001b[0m \u001b[0mf\u001b[0m\u001b[0;34m:\u001b[0m\u001b[0;34m\u001b[0m\u001b[0;34m\u001b[0m\u001b[0m\n\u001b[0m\u001b[1;32m    112\u001b[0m             \u001b[0mpeek\u001b[0m \u001b[0;34m=\u001b[0m \u001b[0mf\u001b[0m\u001b[0;34m.\u001b[0m\u001b[0mread\u001b[0m\u001b[0;34m(\u001b[0m\u001b[0mpeeksz\u001b[0m\u001b[0;34m)\u001b[0m\u001b[0;34m\u001b[0m\u001b[0;34m\u001b[0m\u001b[0m\n\u001b[1;32m    113\u001b[0m     \u001b[0;32mif\u001b[0m \u001b[0mpeek\u001b[0m \u001b[0;34m==\u001b[0m \u001b[0;34mb\"PK\\x03\\x04\"\u001b[0m\u001b[0;34m:\u001b[0m \u001b[0;31m# a ZIP file\u001b[0m\u001b[0;34m\u001b[0m\u001b[0;34m\u001b[0m\u001b[0m\n",
      "\u001b[0;31mFileNotFoundError\u001b[0m: [Errno 2] No such file or directory: '../data/Tab_Compl_CNT.xlsx'"
     ]
    }
   ],
   "source": [
    "df = pd.read_excel('../raw/Tab_Compl_CNT.xlsx', header=3, sheet_name='Val encad preços 95 com ajuste', index_col=0)\n",
    "df.index = df.index.str.replace('.', 'Q').str.replace('IV', '4').str.replace('III', '3').str.replace('II', '2').str.replace('I', '1')\n",
    "df.index = pd.PeriodIndex(df.index, freq='Q')\n",
    "df.columns = Colunas"
   ]
  },
  {
   "cell_type": "code",
   "execution_count": null,
   "metadata": {
    "ExecuteTime": {
     "end_time": "2020-12-17T20:02:19.279229Z",
     "start_time": "2020-12-17T20:02:06.567Z"
    },
    "colab": {
     "base_uri": "https://localhost:8080/",
     "height": 256
    },
    "colab_type": "code",
    "id": "oriGa2rGyloS",
    "outputId": "1aba8b5f-7642-4d89-a128-fc4706deb82c"
   },
   "outputs": [],
   "source": [
    "df[\"Importacao\"] = -df[\"Importacao\"]\n",
    "\n",
    "df.tail()"
   ]
  },
  {
   "cell_type": "markdown",
   "metadata": {
    "colab_type": "text",
    "id": "lg5Adv9tp51n"
   },
   "source": [
    "# Definindo padrões"
   ]
  },
  {
   "cell_type": "markdown",
   "metadata": {
    "colab_type": "text",
    "id": "bFTxTUfpp51r"
   },
   "source": [
    "# Trimestre contra trimestre imediatamente anterior"
   ]
  },
  {
   "cell_type": "code",
   "execution_count": null,
   "metadata": {
    "ExecuteTime": {
     "end_time": "2020-12-17T20:02:19.281773Z",
     "start_time": "2020-12-17T20:02:06.577Z"
    },
    "colab": {
     "base_uri": "https://localhost:8080/",
     "height": 413
    },
    "colab_type": "code",
    "id": "XdmjiWX2p51s",
    "outputId": "31535796-323b-42de-f329-d30a76965cb7"
   },
   "outputs": [],
   "source": [
    "fig = plt.figure(figsize=(9,4))\n",
    "ax = plt.axes()\n",
    "ax2 = plt.axes([0.15,0.6,0.2,0.2])\n",
    "\n",
    "suptitle = 'Taxa de crescimento'\n",
    "title = 'Trimestre contra trimestre anterior'\n",
    "\n",
    "\n",
    "df['PIB'].pct_change().tail(4).plot(kind='bar', ax=ax, color='darkblue')\n",
    "ax.axhline(y=0, ls='--', color='black')\n",
    "\n",
    "plt.suptitle(suptitle, color='black', weight = 'bold')\n",
    "ax.set_title(title, color='black')\n",
    "\n",
    "ax.text(0.95, -0.2, 'Fonte: IBGE',\n",
    "        verticalalignment='bottom', horizontalalignment='right',\n",
    "        transform=ax.transAxes,\n",
    "        color='black', fontsize=10)\n",
    "\n",
    "ax.text(0.6, -0.2, f'Atualizado em {datetime.datetime.now().strftime(\"%d/%m/%Y\")}. Último dado disponível: {df.index[-1]}',\n",
    "        verticalalignment='bottom', horizontalalignment='right',\n",
    "        transform=ax.transAxes,\n",
    "        color='black', fontsize=10)\n",
    "\n",
    "#sns.set_style(\"white\")\n",
    "sns.set_context('paper', font_scale=1.2)\n",
    "sns.despine()\n",
    "ax.tick_params(axis='x', colors='black')\n",
    "ax.tick_params(axis='y', colors='black')\n",
    "ax.yaxis.label.set_color('black')\n",
    "ax.xaxis.label.set_color('black')\n",
    "ax.yaxis.set_major_formatter(FuncFormatter(lambda y, _: '{:.1%}'.format(y))) \n",
    "ax.set_xticklabels(ax.get_xticklabels(), rotation=0)\n",
    "\n",
    "ax2.imshow(logo, aspect='auto', zorder=0, alpha=.5)\n",
    "ax2.axis('off')\n",
    "\n",
    "sns.despine()\n",
    "sns.set_style('white')\n",
    "fig.savefig(\n",
    "    '../figs/PIB/PIB_TrixTriAnterior.svg',\n",
    "    dpi = 300, \n",
    "    bbox_inches='tight',pad_inches=0\n",
    ")\n",
    "plt.show()\n",
    "\n",
    "df['PIB'].pct_change().tail(4)"
   ]
  },
  {
   "cell_type": "code",
   "execution_count": null,
   "metadata": {
    "ExecuteTime": {
     "end_time": "2020-12-17T20:02:19.284798Z",
     "start_time": "2020-12-17T20:02:06.579Z"
    }
   },
   "outputs": [],
   "source": [
    "fig = plt.figure(figsize=(9,4))\n",
    "ax = plt.axes()\n",
    "ax2 = plt.axes([0.15,0.6,0.2,0.2])\n",
    "\n",
    "suptitle = 'Taxa de crescimento'\n",
    "title = 'Trimestre contra mesmo trimestre do ano anterior'\n",
    "\n",
    "\n",
    "df['PIB'].pct_change(4).tail(4).plot(kind='bar', ax=ax, color='darkblue')\n",
    "ax.axhline(y=0, ls='--', color='black')\n",
    "\n",
    "plt.suptitle(suptitle, color='black', weight = 'bold')\n",
    "ax.set_title(title, color='black')\n",
    "\n",
    "ax.text(0.95, -0.2, 'Fonte: IBGE',\n",
    "        verticalalignment='bottom', horizontalalignment='right',\n",
    "        transform=ax.transAxes,\n",
    "        color='black', fontsize=10)\n",
    "\n",
    "ax.text(0.6, -0.2, f'Atualizado em {datetime.datetime.now().strftime(\"%d/%m/%Y\")}. Último dado disponível: {df.index[-1]}',\n",
    "        verticalalignment='bottom', horizontalalignment='right',\n",
    "        transform=ax.transAxes,\n",
    "        color='black', fontsize=10)\n",
    "\n",
    "#sns.set_style(\"white\")\n",
    "sns.set_context('paper', font_scale=1.2)\n",
    "sns.despine()\n",
    "ax.tick_params(axis='x', colors='black')\n",
    "ax.tick_params(axis='y', colors='black')\n",
    "ax.yaxis.label.set_color('black')\n",
    "ax.xaxis.label.set_color('black')\n",
    "ax.yaxis.set_major_formatter(FuncFormatter(lambda y, _: '{:.1%}'.format(y))) \n",
    "ax.set_xticklabels(ax.get_xticklabels(), rotation=0)\n",
    "\n",
    "ax2.imshow(logo, aspect='auto', zorder=0, alpha=.5)\n",
    "ax2.axis('off')\n",
    "\n",
    "sns.despine()\n",
    "sns.set_style('white')\n",
    "fig.savefig(\n",
    "    '../figs/PIB/PIB_TrixTriAnoAnterior.svg',\n",
    "    dpi = 300, \n",
    "    bbox_inches='tight',pad_inches=0\n",
    ")\n",
    "plt.show()\n",
    "\n",
    "df['PIB'].pct_change(4).tail(4)"
   ]
  },
  {
   "cell_type": "code",
   "execution_count": null,
   "metadata": {
    "ExecuteTime": {
     "end_time": "2020-12-17T20:02:19.287181Z",
     "start_time": "2020-12-17T20:02:06.581Z"
    },
    "colab": {
     "base_uri": "https://localhost:8080/",
     "height": 321
    },
    "colab_type": "code",
    "id": "FQth63AxrGPj",
    "outputId": "ca25155f-23ef-42b8-f8bd-c59bb43f603b"
   },
   "outputs": [],
   "source": [
    "fig = plt.figure(figsize=(9,4))\n",
    "ax = plt.axes()\n",
    "ax2 = plt.axes([0.15,0.6,0.2,0.2])\n",
    "\n",
    "suptitle = 'PIB'\n",
    "title = 'Série desazonalizada a preços constantes'\n",
    "\n",
    "\n",
    "df['PIB'][-12:].plot(kind='line', ax=ax, color='darkred')\n",
    "\n",
    "plt.suptitle(suptitle, color='black', weight = 'bold')\n",
    "ax.set_title(title, color='black')\n",
    "\n",
    "ax.text(0.95, -0.2, 'Fonte: IBGE',\n",
    "        verticalalignment='bottom', horizontalalignment='right',\n",
    "        transform=ax.transAxes,\n",
    "        color='black', fontsize=10)\n",
    "\n",
    "ax.text(0.6, -0.2, 'Atualizado em {}. Último dado disponível: {}'.format(datetime.datetime.now().strftime(\"%d/%m/%Y\"), df.index[-1]),\n",
    "        verticalalignment='bottom', horizontalalignment='right',\n",
    "        transform=ax.transAxes,\n",
    "        color='black', fontsize=10)\n",
    "\n",
    "#sns.set_style(\"white\")\n",
    "sns.set_context('paper', font_scale=1.2)\n",
    "sns.despine()\n",
    "ax.tick_params(axis='x', colors='black')\n",
    "ax.tick_params(axis='y', colors='black')\n",
    "ax.yaxis.label.set_color('black')\n",
    "ax.xaxis.label.set_color('black')\n",
    "\n",
    "ax2.imshow(logo, aspect='auto', zorder=0, alpha=.5)\n",
    "ax2.axis('off')\n",
    "fig.savefig(\n",
    "    '../figs/PIB/PIB_Nivel.svg',\n",
    "    dpi = 300, \n",
    "    bbox_inches='tight',pad_inches=0\n",
    ")\n",
    "\n",
    "sns.despine()\n",
    "sns.set_style('white')\n",
    "plt.show()"
   ]
  },
  {
   "cell_type": "code",
   "execution_count": null,
   "metadata": {
    "ExecuteTime": {
     "end_time": "2020-12-17T20:02:19.289383Z",
     "start_time": "2020-12-17T20:02:06.584Z"
    },
    "colab": {
     "base_uri": "https://localhost:8080/",
     "height": 321
    },
    "colab_type": "code",
    "id": "ba1982-sp51y",
    "outputId": "175302ec-4dca-42ab-9c0f-8676bb84dd9c",
    "scrolled": false
   },
   "outputs": [],
   "source": [
    "fig, ax = plt.subplots(figsize=(9,4))\n",
    "ax2 = fig.add_axes([0.15,0.6,0.2,0.2])\n",
    "\n",
    "\n",
    "df[Agropecuaria].pct_change().tail(4).plot(kind='bar', ax=ax, color='darkblue')\n",
    "\n",
    "plt.suptitle('Agricultura', color='black', weight = 'bold')\n",
    "ax.axhline(y=0, color='gray', linestyle='--', lw=2)\n",
    "\n",
    "ax.set_title('Trimestre contra trimestre anterior', color='black')\n",
    "\n",
    "ax.text(0.95, -0.2, 'Fonte: IBGE',\n",
    "        verticalalignment='bottom', horizontalalignment='right',\n",
    "        transform=ax.transAxes,\n",
    "        color='black', fontsize=10)\n",
    "\n",
    "ax.text(0.6, -0.2, 'Atualizado em {}. Último dado disponível: {}'.format(datetime.datetime.now().strftime(\"%d/%m/%Y\"), df.index[-1]),\n",
    "        verticalalignment='bottom', horizontalalignment='right',\n",
    "        transform=ax.transAxes,\n",
    "        color='black', fontsize=10)\n",
    "\n",
    "#sns.set_style(\"white\")\n",
    "sns.set_context('paper', font_scale=1.2)\n",
    "sns.despine()\n",
    "ax.tick_params(axis='x', colors='black')\n",
    "ax.tick_params(axis='y', colors='black')\n",
    "ax.yaxis.label.set_color('black')\n",
    "ax.xaxis.label.set_color('black')\n",
    "ax.yaxis.set_major_formatter(FuncFormatter(lambda y, _: '{:.1%}'.format(y))) \n",
    "ax.set_xticklabels(ax.get_xticklabels(), rotation=0)\n",
    "\n",
    "ax2.imshow(logo, aspect='auto', zorder=0, alpha=.5)\n",
    "ax2.axis('off')\n",
    "fig.savefig(\n",
    "    '../figs/PIB/Agro_TrixTriAnterior.svg',\n",
    "    dpi = 300, \n",
    "    bbox_inches='tight',pad_inches=0\n",
    ")\n",
    "\n",
    "plt.show()"
   ]
  },
  {
   "cell_type": "code",
   "execution_count": null,
   "metadata": {
    "ExecuteTime": {
     "end_time": "2020-12-17T20:02:19.291133Z",
     "start_time": "2020-12-17T20:02:06.587Z"
    },
    "colab": {
     "base_uri": "https://localhost:8080/",
     "height": 321
    },
    "colab_type": "code",
    "id": "dLT7OpYOp514",
    "outputId": "33c57a6b-aafa-48cf-eb79-4923cb585bf8"
   },
   "outputs": [],
   "source": [
    "fig, ax = plt.subplots(figsize=(9,4))\n",
    "ax2 = fig.add_axes([0.15,0.6,0.2,0.2])\n",
    "\n",
    "\n",
    "df[Agropecuaria].pct_change().rolling(4).mean().plot(ax=ax)\n",
    "\n",
    "plt.suptitle('Agricultura', color='black', weight = 'bold')\n",
    "ax.axhline(y=0, color='gray', linestyle='--', lw=2)\n",
    "\n",
    "ax.set_title('Trimestre contra trimestre anterior (Média Móvel)', color='black')\n",
    "\n",
    "ax.text(0.95, -0.2, 'Fonte: IBGE',\n",
    "        verticalalignment='bottom', horizontalalignment='right',\n",
    "        transform=ax.transAxes,\n",
    "        color='black', fontsize=10)\n",
    "\n",
    "ax.text(0.6, -0.2, 'Atualizado em {}. Último dado disponível: {}'.format(datetime.datetime.now().strftime(\"%d/%m/%Y\"), df.index[-1]),\n",
    "        verticalalignment='bottom', horizontalalignment='right',\n",
    "        transform=ax.transAxes,\n",
    "        color='black', fontsize=10)\n",
    "\n",
    "#sns.set_style(\"white\")\n",
    "sns.set_context('paper', font_scale=1.2)\n",
    "sns.despine()\n",
    "ax.tick_params(axis='x', colors='black')\n",
    "ax.tick_params(axis='y', colors='black')\n",
    "ax.yaxis.label.set_color('black')\n",
    "ax.xaxis.label.set_color('black')\n",
    "ax.yaxis.set_major_formatter(FuncFormatter(lambda y, _: '{:.1%}'.format(y))) \n",
    "ax.set_xticklabels(ax.get_xticklabels(), rotation=0)\n",
    "\n",
    "ax2.imshow(logo, aspect='auto', zorder=0, alpha=.5)\n",
    "ax2.axis('off')\n",
    "plt.show()"
   ]
  },
  {
   "cell_type": "code",
   "execution_count": null,
   "metadata": {
    "ExecuteTime": {
     "end_time": "2020-12-17T20:02:19.293085Z",
     "start_time": "2020-12-17T20:02:06.590Z"
    },
    "colab": {
     "base_uri": "https://localhost:8080/",
     "height": 475
    },
    "colab_type": "code",
    "id": "_jxwA3MLp517",
    "outputId": "f57b459f-8f7c-4579-bf1a-bd69745aee8e",
    "scrolled": true
   },
   "outputs": [],
   "source": [
    "fig, ax = plt.subplots(figsize=(9,4))\n",
    "ax2 = fig.add_axes([0.15,0.6,0.2,0.2])\n",
    "\n",
    "\n",
    "df[Industria].pct_change().tail(4).plot(kind='bar', ax=ax)\n",
    "\n",
    "plt.suptitle('Indústria', color='black', weight = 'bold')\n",
    "ax.axhline(y=0, color='gray', linestyle='--', lw=2)\n",
    "\n",
    "ax.set_title('Trimestre contra trimestre anterior', color='black')\n",
    "\n",
    "ax.text(0.95, -0.2, 'Fonte: IBGE',\n",
    "        verticalalignment='bottom', horizontalalignment='right',\n",
    "        transform=ax.transAxes,\n",
    "        color='black', fontsize=10)\n",
    "\n",
    "ax.text(0.6, -0.2, 'Atualizado em {}. Último dado disponível: {}'.format(datetime.datetime.now().strftime(\"%d/%m/%Y\"), df.index[-1]),\n",
    "        verticalalignment='bottom', horizontalalignment='right',\n",
    "        transform=ax.transAxes,\n",
    "        color='black', fontsize=10)\n",
    "\n",
    "#sns.set_style(\"white\")\n",
    "sns.set_context('paper', font_scale=1.2)\n",
    "sns.despine()\n",
    "ax.tick_params(axis='x', colors='black')\n",
    "ax.tick_params(axis='y', colors='black')\n",
    "ax.yaxis.label.set_color('black')\n",
    "ax.xaxis.label.set_color('black')\n",
    "ax.yaxis.set_major_formatter(FuncFormatter(lambda y, _: '{:.1%}'.format(y))) \n",
    "ax.set_xticklabels(ax.get_xticklabels(), rotation=0)\n",
    "\n",
    "ax2.imshow(logo, aspect='auto', zorder=0, alpha=.5)\n",
    "ax2.axis('off')\n",
    "plt.show()\n",
    "fig.savefig(\n",
    "    '../figs/PIB/Industria_TrixTriAnterior.svg',\n",
    "    dpi = 300, \n",
    "    bbox_inches='tight',pad_inches=0\n",
    ")\n",
    "\n",
    "df[Industria].pct_change().tail(4)"
   ]
  },
  {
   "cell_type": "code",
   "execution_count": null,
   "metadata": {
    "ExecuteTime": {
     "end_time": "2020-12-17T20:02:19.294755Z",
     "start_time": "2020-12-17T20:02:06.594Z"
    },
    "colab": {
     "base_uri": "https://localhost:8080/",
     "height": 737
    },
    "colab_type": "code",
    "id": "bAlNFoFkp51_",
    "outputId": "285d2713-e67b-4d21-e23d-7a4cb32a30b6"
   },
   "outputs": [],
   "source": [
    "fig, ax = plt.subplots(figsize=(9,4))\n",
    "ax2 = fig.add_axes([0.15,0.6,0.2,0.2])\n",
    "\n",
    "\n",
    "df[Servicos].pct_change().tail(4).plot(kind='bar', ax=ax)\n",
    "ax.legend(loc='center left', bbox_to_anchor=(1, 0.5))\n",
    "\n",
    "\n",
    "plt.suptitle('Serviços', color='black', weight = 'bold')\n",
    "\n",
    "ax.axhline(y=0, color='gray', linestyle='--', lw=2)\n",
    "\n",
    "ax.set_title('Trimestre contra trimestre anterior', color='black')\n",
    "\n",
    "ax.text(0.95, -0.2, 'Fonte: IBGE',\n",
    "        verticalalignment='bottom', horizontalalignment='right',\n",
    "        transform=ax.transAxes,\n",
    "        color='black', fontsize=10)\n",
    "\n",
    "ax.text(0.6, -0.2, 'Atualizado em {}. Último dado disponível: {}'.format(datetime.datetime.now().strftime(\"%d/%m/%Y\"), df.index[-1]),\n",
    "        verticalalignment='bottom', horizontalalignment='right',\n",
    "        transform=ax.transAxes,\n",
    "        color='black', fontsize=10)\n",
    "\n",
    "#sns.set_style(\"white\")\n",
    "sns.set_context('paper', font_scale=1.2)\n",
    "sns.despine()\n",
    "ax.tick_params(axis='x', colors='black')\n",
    "ax.tick_params(axis='y', colors='black')\n",
    "ax.yaxis.label.set_color('black')\n",
    "ax.xaxis.label.set_color('black')\n",
    "ax.yaxis.set_major_formatter(FuncFormatter(lambda y, _: '{:.1%}'.format(y))) \n",
    "ax.set_xticklabels(ax.get_xticklabels(), rotation=0)\n",
    "\n",
    "ax2.imshow(logo, aspect='auto', zorder=0, alpha=.5)\n",
    "ax2.axis('off')\n",
    "plt.show()\n",
    "fig.savefig(\n",
    "    '../figs/PIB/Servicos_TrixTriAnterior.svg',\n",
    "    dpi = 300, \n",
    "    bbox_inches='tight',pad_inches=0\n",
    ")\n",
    "\n",
    "df[Servicos].pct_change()"
   ]
  },
  {
   "cell_type": "code",
   "execution_count": null,
   "metadata": {
    "ExecuteTime": {
     "end_time": "2020-12-17T20:02:19.296149Z",
     "start_time": "2020-12-17T20:02:06.597Z"
    },
    "colab": {
     "base_uri": "https://localhost:8080/",
     "height": 475
    },
    "colab_type": "code",
    "id": "z4NCs2nyp52D",
    "outputId": "4417bfbf-3db7-4128-dc06-b084a8c92036",
    "scrolled": true
   },
   "outputs": [],
   "source": [
    "fig, ax = plt.subplots(figsize=(9,4))\n",
    "ax2 = fig.add_axes([0.15,0.6,0.2,0.2])\n",
    "\n",
    "\n",
    "df[Demanda + ['PIB']].pct_change().tail(4).plot(kind='bar', ax=ax)\n",
    "\n",
    "plt.suptitle('Demanda', color='black', weight = 'bold')\n",
    "ax.axhline(y=0, color='gray', linestyle='--', lw=2)\n",
    "ax.legend(loc='center left', bbox_to_anchor=(1, 0.5))\n",
    "\n",
    "\n",
    "ax.set_title('Trimestre contra trimestre anterior', color='black')\n",
    "\n",
    "ax.text(0.95, -0.2, 'Fonte: IBGE',\n",
    "        verticalalignment='bottom', horizontalalignment='right',\n",
    "        transform=ax.transAxes,\n",
    "        color='black', fontsize=10)\n",
    "\n",
    "ax.text(0.6, -0.2, 'Atualizado em {}. Último dado disponível: {}'.format(datetime.datetime.now().strftime(\"%d/%m/%Y\"), df.index[-1]),\n",
    "        verticalalignment='bottom', horizontalalignment='right',\n",
    "        transform=ax.transAxes,\n",
    "        color='black', fontsize=10)\n",
    "\n",
    "#sns.set_style(\"white\")\n",
    "sns.set_context('paper', font_scale=1.2)\n",
    "sns.despine()\n",
    "ax.tick_params(axis='x', colors='black')\n",
    "ax.tick_params(axis='y', colors='black')\n",
    "ax.yaxis.label.set_color('black')\n",
    "ax.xaxis.label.set_color('black')\n",
    "ax.yaxis.set_major_formatter(FuncFormatter(lambda y, _: '{:.1%}'.format(y))) \n",
    "ax.set_xticklabels(ax.get_xticklabels(), rotation=0)\n",
    "\n",
    "ax2.imshow(logo, aspect='auto', zorder=0, alpha=.5)\n",
    "ax2.axis('off')\n",
    "plt.show()\n",
    "fig.savefig(\n",
    "    '../figs/PIB/Demanda_TrixTriAnterior.svg',\n",
    "    dpi = 300, \n",
    "    bbox_inches='tight',pad_inches=0\n",
    ")\n",
    "\n",
    "df[Demanda + ['PIB']].pct_change().tail(4)"
   ]
  },
  {
   "cell_type": "code",
   "execution_count": null,
   "metadata": {
    "ExecuteTime": {
     "end_time": "2020-12-17T20:02:19.297344Z",
     "start_time": "2020-12-17T20:02:06.600Z"
    },
    "colab": {
     "base_uri": "https://localhost:8080/",
     "height": 475
    },
    "colab_type": "code",
    "id": "i865nrmMp52I",
    "outputId": "85c73a99-cfb3-48b7-99cf-e4ca6047d09c",
    "scrolled": true
   },
   "outputs": [],
   "source": [
    "fig, ax = plt.subplots(figsize=(9,4))\n",
    "ax2 = fig.add_axes([0.15,0.6,0.2,0.2])\n",
    "\n",
    "\n",
    "df[Oferta + ['PIB']].pct_change().tail(4).plot(kind='bar', ax=ax)\n",
    "\n",
    "plt.suptitle('Oferta', color='black', weight = 'bold')\n",
    "ax.axhline(y=0, color='gray', linestyle='--', lw=2)\n",
    "#ax.legend(loc='center left', bbox_to_anchor=(1, 0.5))\n",
    "\n",
    "\n",
    "ax.set_title('Trimestre contra trimestre anterior', color='black')\n",
    "\n",
    "ax.text(0.95, -0.2, 'Fonte: IBGE',\n",
    "        verticalalignment='bottom', horizontalalignment='right',\n",
    "        transform=ax.transAxes,\n",
    "        color='black', fontsize=10)\n",
    "\n",
    "ax.text(0.6, -0.2, 'Atualizado em {}. Último dado disponível: {}'.format(datetime.datetime.now().strftime(\"%d/%m/%Y\"), df.index[-1]),\n",
    "        verticalalignment='bottom', horizontalalignment='right',\n",
    "        transform=ax.transAxes,\n",
    "        color='black', fontsize=10)\n",
    "\n",
    "#sns.set_style(\"white\")\n",
    "sns.set_context('paper', font_scale=1.2)\n",
    "sns.despine()\n",
    "ax.tick_params(axis='x', colors='black')\n",
    "ax.tick_params(axis='y', colors='black')\n",
    "ax.yaxis.label.set_color('black')\n",
    "ax.xaxis.label.set_color('black')\n",
    "ax.yaxis.set_major_formatter(FuncFormatter(lambda y, _: '{:.1%}'.format(y))) \n",
    "ax.set_xticklabels(ax.get_xticklabels(), rotation=0)\n",
    "\n",
    "ax2.imshow(logo, aspect='auto', zorder=0, alpha=.5)\n",
    "ax2.axis('off')\n",
    "plt.show()\n",
    "fig.savefig(\n",
    "    '../figs/PIB/Oferta_TrixTriAnterior.svg',\n",
    "    dpi = 300, \n",
    "    bbox_inches='tight',pad_inches=0\n",
    ")\n",
    "\n",
    "df[Oferta + ['PIB']].pct_change().tail(4)"
   ]
  },
  {
   "cell_type": "code",
   "execution_count": null,
   "metadata": {
    "ExecuteTime": {
     "end_time": "2020-12-17T20:02:19.298584Z",
     "start_time": "2020-12-17T20:02:06.602Z"
    },
    "colab": {
     "base_uri": "https://localhost:8080/",
     "height": 171
    },
    "colab_type": "code",
    "id": "wx0n2PNKpjc3",
    "outputId": "6e12bc43-454b-406f-a5e2-95534c9ab038"
   },
   "outputs": [],
   "source": [
    "df[Demanda + [\"PIB\"]].pct_change().tail(4).round(4)*100"
   ]
  },
  {
   "cell_type": "code",
   "execution_count": null,
   "metadata": {
    "ExecuteTime": {
     "end_time": "2020-12-17T20:02:19.300029Z",
     "start_time": "2020-12-17T20:02:06.605Z"
    },
    "colab": {
     "base_uri": "https://localhost:8080/",
     "height": 171
    },
    "colab_type": "code",
    "id": "oETcmqBdqHHI",
    "outputId": "2a40b258-3e0d-4560-802a-e31a7a81223b"
   },
   "outputs": [],
   "source": [
    "df[Oferta + [\"PIB\"]].pct_change().tail(4).round(4)*100"
   ]
  },
  {
   "cell_type": "markdown",
   "metadata": {
    "colab_type": "text",
    "id": "iGY15gBvtQUb"
   },
   "source": [
    "# Decomposição\n"
   ]
  },
  {
   "cell_type": "markdown",
   "metadata": {
    "colab_type": "text",
    "id": "IgXKOJLqtRs9"
   },
   "source": [
    "## Demanda"
   ]
  },
  {
   "cell_type": "code",
   "execution_count": null,
   "metadata": {
    "ExecuteTime": {
     "end_time": "2020-12-17T20:02:19.301314Z",
     "start_time": "2020-12-17T20:02:06.618Z"
    },
    "colab": {
     "base_uri": "https://localhost:8080/",
     "height": 620
    },
    "colab_type": "code",
    "id": "X6YXv3kHtUCL",
    "outputId": "9eac1ef1-d179-4940-ca09-674ae16c6b50"
   },
   "outputs": [],
   "source": [
    "fig = plt.Figure()\n",
    "ax = plt.gca()\n",
    "ax2 = fig.add_axes([0.15,0.7,0.2,0.2])\n",
    "\n",
    "df[Demanda].diff().apply(lambda x: x/(df[\"PIB\"].shift())).tail(8).plot(\n",
    "    kind = 'bar', \n",
    "    stacked = True, \n",
    "    ax = ax,\n",
    "    color = (\n",
    "        \"tomato\",\n",
    "        \"darkred\",\n",
    "        \"darkslateblue\",\n",
    "        \"tan\",\n",
    "        \"khaki\"\n",
    "    ),\n",
    "    width = 0.75,\n",
    "    edgecolor='black'\n",
    ")\n",
    "plt.suptitle('Demanda', color='black', weight = 'bold')\n",
    "ax.axhline(y=0, color='black', linestyle='-', lw=2)\n",
    "#ax.legend(loc='center left', bbox_to_anchor=(1, 0.5))\n",
    "\n",
    "\n",
    "ax.set_title('Contribuição para variação do PIB', color='black')\n",
    "\n",
    "ax.text(0.95, -0.3, 'Fonte: IBGE',\n",
    "        verticalalignment='bottom', horizontalalignment='right',\n",
    "        transform=ax.transAxes,\n",
    "        color='black', fontsize=10)\n",
    "\n",
    "ax.text(0.6, -0.3, 'Atualizado em {}. Último dado disponível: {}'.format(datetime.datetime.now().strftime(\"%d/%m/%Y\"), df.index[-1]),\n",
    "        verticalalignment='bottom', horizontalalignment='right',\n",
    "        transform=ax.transAxes,\n",
    "        color='black', fontsize=10)\n",
    "\n",
    "#sns.set_style(\"white\")\n",
    "sns.set_context('paper', font_scale=1.2)\n",
    "sns.despine()\n",
    "ax.tick_params(axis='x', colors='black')\n",
    "ax.tick_params(axis='y', colors='black')\n",
    "ax.yaxis.label.set_color('black')\n",
    "ax.xaxis.label.set_color('black')\n",
    "ax.yaxis.set_major_formatter(FuncFormatter(lambda y, _: '{:.1%}'.format(y))) \n",
    "#ax.set_xticklabels(ax.get_xticklabels(), rotation=0)\n",
    "\n",
    "ax.legend(loc='center left', bbox_to_anchor=(1, 0.5))\n",
    "\n",
    "ax2.imshow(logo, aspect='auto', zorder=0, alpha=.5)\n",
    "ax2.axis('off')\n",
    "plt.show()\n",
    "fig.savefig(\n",
    "    '../figs/PIB/ContribVar_Demanda.svg',\n",
    "    dpi = 300, \n",
    "    bbox_inches='tight',pad_inches=0\n",
    ")\n",
    "\n",
    "df[Demanda].diff().apply(lambda x: x/(df[\"PIB\"].shift())).tail(8)"
   ]
  },
  {
   "cell_type": "markdown",
   "metadata": {
    "colab_type": "text",
    "id": "TL9ytfsXvZtf"
   },
   "source": [
    "## Oferta"
   ]
  },
  {
   "cell_type": "code",
   "execution_count": null,
   "metadata": {
    "ExecuteTime": {
     "end_time": "2020-12-17T20:02:19.302653Z",
     "start_time": "2020-12-17T20:02:06.623Z"
    },
    "colab": {
     "base_uri": "https://localhost:8080/",
     "height": 694
    },
    "colab_type": "code",
    "id": "Z6z8MqG0vZUS",
    "outputId": "bfe15bad-56eb-4946-bac0-97a6cca70441"
   },
   "outputs": [],
   "source": [
    "fig, ax = plt.subplots(1,1,figsize=(9,4))\n",
    "ax2 = fig.add_axes([0.15,0.6,0.2,0.2])\n",
    "\n",
    "\n",
    "#df[\"PIB\"].pct_change().tail(12).plot(ax = ax, kind = 'line', legend = True, color = 'black')\n",
    "df[Oferta].diff().apply(lambda x: x/(df[\"VA\"].shift())).tail(8).plot(\n",
    "    kind = 'bar', \n",
    "    stacked = True, \n",
    "    ax = ax,\n",
    "    color = (\n",
    "        \"green\",\n",
    "    #    \"darkred\",\n",
    "        \"darkslateblue\",\n",
    "        \"tan\",\n",
    "    #    \"khaki\"\n",
    "    ),\n",
    "    cmap=\"Set1\",\n",
    "    width = 0.75,\n",
    "    edgecolor='black'\n",
    ")\n",
    "\n",
    "plt.suptitle('Oferta', color='black', weight = 'bold')\n",
    "ax.axhline(y=0, color='black', linestyle='-', lw=2)\n",
    "#ax.legend(loc='center left', bbox_to_anchor=(1, 0.5))\n",
    "\n",
    "\n",
    "ax.set_title('Contribuição para variação do valor adicionado', color='black')\n",
    "\n",
    "ax.text(0.95, -0.3, 'Fonte: IBGE',\n",
    "        verticalalignment='bottom', horizontalalignment='right',\n",
    "        transform=ax.transAxes,\n",
    "        color='black', fontsize=10)\n",
    "\n",
    "ax.text(0.6, -0.3, 'Atualizado em {}. Último dado disponível: {}'.format(datetime.datetime.now().strftime(\"%d/%m/%Y\"), df.index[-1]),\n",
    "        verticalalignment='bottom', horizontalalignment='right',\n",
    "        transform=ax.transAxes,\n",
    "        color='black', fontsize=10)\n",
    "\n",
    "#sns.set_style(\"white\")\n",
    "sns.set_context('paper', font_scale=1.2)\n",
    "sns.despine()\n",
    "ax.tick_params(axis='x', colors='black')\n",
    "ax.tick_params(axis='y', colors='black')\n",
    "ax.yaxis.label.set_color('black')\n",
    "ax.xaxis.label.set_color('black')\n",
    "ax.yaxis.set_major_formatter(FuncFormatter(lambda y, _: '{:.1%}'.format(y))) \n",
    "#ax.set_xticklabels(ax.get_xticklabels(), rotation=0)\n",
    "\n",
    "ax2.imshow(logo, aspect='auto', zorder=0, alpha=.5)\n",
    "ax2.axis('off')\n",
    "plt.show()\n",
    "fig.savefig(\n",
    "    '../figs/PIB/ContribVar_Oferta.svg',\n",
    "    dpi = 300, \n",
    "    bbox_inches='tight',pad_inches=0\n",
    ")\n",
    "\n",
    "df[Oferta].diff().apply(lambda x: x/(df[\"VA\"].shift())).tail(8)"
   ]
  },
  {
   "cell_type": "code",
   "execution_count": null,
   "metadata": {
    "ExecuteTime": {
     "end_time": "2020-12-17T20:02:19.304024Z",
     "start_time": "2020-12-17T20:02:06.625Z"
    },
    "colab": {
     "base_uri": "https://localhost:8080/",
     "height": 110
    },
    "colab_type": "code",
    "id": "2blp-mxZeGSv",
    "outputId": "b37c09e5-d858-4a18-d09c-3ba2dd0cb653"
   },
   "outputs": [],
   "source": [
    "df[Oferta].diff().apply(lambda x: x/(df[\"VA\"].shift())).tail(2)"
   ]
  },
  {
   "cell_type": "markdown",
   "metadata": {},
   "source": [
    "# Carregamento estatístico"
   ]
  },
  {
   "cell_type": "code",
   "execution_count": null,
   "metadata": {
    "ExecuteTime": {
     "end_time": "2020-12-17T20:02:19.305471Z",
     "start_time": "2020-12-17T20:02:06.631Z"
    }
   },
   "outputs": [],
   "source": [
    "current_year = int(str(df.index[-1])[:4])\n",
    "#current_year=2020\n",
    "current_quarter = int(str(df.index[-1])[-1])\n",
    "#current_quarter = 1\n",
    "carregamento = df[[\"PIB\"]] # Check se com ajuste ou não"
   ]
  },
  {
   "cell_type": "code",
   "execution_count": null,
   "metadata": {
    "ExecuteTime": {
     "end_time": "2020-12-17T20:02:19.307005Z",
     "start_time": "2020-12-17T20:02:06.632Z"
    }
   },
   "outputs": [],
   "source": [
    "for rep in range(int(current_quarter)+1,5): # Check +1\n",
    "\n",
    "    carregamento.loc[f\"{current_year}Q{rep}\"] = df[\"PIB\"].iloc[-1]\n",
    "    \n",
    "\n",
    "carregamento_estat = (carregamento[[\"PIB\"]].iloc[-4:].mean())/(carregamento[[\"PIB\"]].iloc[-8:-4].mean()) - 1\n",
    "print(f\"O carregamento estatístico é de {carregamento_estat}\")"
   ]
  },
  {
   "cell_type": "markdown",
   "metadata": {},
   "source": [
    "## Crescimento esperado pelo FMI"
   ]
  },
  {
   "cell_type": "code",
   "execution_count": null,
   "metadata": {},
   "outputs": [],
   "source": []
  },
  {
   "cell_type": "markdown",
   "metadata": {
    "colab_type": "text",
    "id": "rRXLEdmsJOaG"
   },
   "source": [
    "# Encerrando"
   ]
  },
  {
   "cell_type": "code",
   "execution_count": null,
   "metadata": {
    "ExecuteTime": {
     "end_time": "2020-12-17T20:02:19.308191Z",
     "start_time": "2020-12-17T20:02:06.642Z"
    },
    "colab": {
     "base_uri": "https://localhost:8080/",
     "height": 54
    },
    "colab_type": "code",
    "id": "63ErckB0JPzx",
    "outputId": "dcbd8e82-9bf7-4eb3-fec8-4258a09ec16d"
   },
   "outputs": [],
   "source": [
    "t2 = dt.datetime.now()\n",
    "print(f\"Fim do script: {t2}\")\n",
    "print(f'Tempo de execução: {t2-t1}')"
   ]
  }
 ],
 "metadata": {
  "accelerator": "GPU",
  "colab": {
   "collapsed_sections": [],
   "name": "PIB.ipynb",
   "provenance": [],
   "toc_visible": true
  },
  "hide_input": false,
  "kernelspec": {
   "display_name": "Python 3",
   "language": "python",
   "name": "python3"
  },
  "language_info": {
   "codemirror_mode": {
    "name": "ipython",
    "version": 3
   },
   "file_extension": ".py",
   "mimetype": "text/x-python",
   "name": "python",
   "nbconvert_exporter": "python",
   "pygments_lexer": "ipython3",
   "version": "3.8.6"
  },
  "latex_envs": {
   "LaTeX_envs_menu_present": true,
   "autoclose": false,
   "autocomplete": true,
   "bibliofile": "biblio.bib",
   "cite_by": "apalike",
   "current_citInitial": 1,
   "eqLabelWithNumbers": true,
   "eqNumInitial": 1,
   "hotkeys": {
    "equation": "Ctrl-E",
    "itemize": "Ctrl-I"
   },
   "labels_anchors": false,
   "latex_user_defs": false,
   "report_style_numbering": false,
   "user_envs_cfg": false
  }
 },
 "nbformat": 4,
 "nbformat_minor": 1
}
