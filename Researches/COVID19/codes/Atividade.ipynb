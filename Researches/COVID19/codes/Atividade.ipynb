{
 "cells": [
  {
   "cell_type": "markdown",
   "metadata": {},
   "source": [
    "# Packages"
   ]
  },
  {
   "cell_type": "code",
   "execution_count": 1,
   "metadata": {
    "ExecuteTime": {
     "end_time": "2020-12-17T20:15:17.685574Z",
     "start_time": "2020-12-17T20:15:16.804980Z"
    }
   },
   "outputs": [],
   "source": [
    "%config InlineBackend.figure_format = 'retina'\n",
    "\n",
    "import pandas as pd\n",
    "import numpy as np\n",
    "from datetime import datetime as dt\n",
    "from datetime import timedelta\n",
    "import matplotlib.pyplot as plt\n",
    "import seaborn as sns\n",
    "import pandas_datareader.data as web\n",
    "import requests\n",
    "import json\n",
    "\n",
    "import country_converter as coco\n",
    "cc = coco.CountryConverter()"
   ]
  },
  {
   "cell_type": "markdown",
   "metadata": {},
   "source": [
    "# Composite Leading Indicators (MEI): OCDE"
   ]
  },
  {
   "cell_type": "markdown",
   "metadata": {},
   "source": [
    "## Data"
   ]
  },
  {
   "cell_type": "code",
   "execution_count": 2,
   "metadata": {
    "ExecuteTime": {
     "end_time": "2020-12-17T20:15:45.406721Z",
     "start_time": "2020-12-17T20:15:17.688030Z"
    }
   },
   "outputs": [
    {
     "name": "stderr",
     "output_type": "stream",
     "text": [
      "/home/gpetrini/.local/lib/python3.8/site-packages/pandas/core/indexing.py:873: PerformanceWarning: indexing past lexsort depth may impact performance.\n",
      "  return self._getitem_tuple(key)\n",
      "WARNING:root:OECD + Major Six NME not found in regex\n",
      "WARNING:root:Major Five Asia not found in regex\n",
      "WARNING:root:Four Big European not found in regex\n",
      "WARNING:root:G7 not found in ISO2\n",
      "WARNING:root:NAFTA not found in regex\n",
      "WARNING:root:OECD - Total not found in regex\n",
      "WARNING:root:OECD - Europe not found in regex\n",
      "WARNING:root:Euro area (19 countries) not found in regex\n",
      "WARNING:root:OECD total  not found in regex\n"
     ]
    },
    {
     "ename": "ValueError",
     "evalue": "could not convert string to Timestamp",
     "output_type": "error",
     "traceback": [
      "\u001b[0;31m---------------------------------------------------------------------------\u001b[0m",
      "\u001b[0;31mValueError\u001b[0m                                Traceback (most recent call last)",
      "\u001b[0;32m~/.local/lib/python3.8/site-packages/dateutil/parser/_parser.py\u001b[0m in \u001b[0;36mparse\u001b[0;34m(self, timestr, default, ignoretz, tzinfos, **kwargs)\u001b[0m\n\u001b[1;32m    654\u001b[0m         \u001b[0;32mtry\u001b[0m\u001b[0;34m:\u001b[0m\u001b[0;34m\u001b[0m\u001b[0;34m\u001b[0m\u001b[0m\n\u001b[0;32m--> 655\u001b[0;31m             \u001b[0mret\u001b[0m \u001b[0;34m=\u001b[0m \u001b[0mself\u001b[0m\u001b[0;34m.\u001b[0m\u001b[0m_build_naive\u001b[0m\u001b[0;34m(\u001b[0m\u001b[0mres\u001b[0m\u001b[0;34m,\u001b[0m \u001b[0mdefault\u001b[0m\u001b[0;34m)\u001b[0m\u001b[0;34m\u001b[0m\u001b[0;34m\u001b[0m\u001b[0m\n\u001b[0m\u001b[1;32m    656\u001b[0m         \u001b[0;32mexcept\u001b[0m \u001b[0mValueError\u001b[0m \u001b[0;32mas\u001b[0m \u001b[0me\u001b[0m\u001b[0;34m:\u001b[0m\u001b[0;34m\u001b[0m\u001b[0;34m\u001b[0m\u001b[0m\n",
      "\u001b[0;32m~/.local/lib/python3.8/site-packages/dateutil/parser/_parser.py\u001b[0m in \u001b[0;36m_build_naive\u001b[0;34m(self, res, default)\u001b[0m\n\u001b[1;32m   1240\u001b[0m \u001b[0;34m\u001b[0m\u001b[0m\n\u001b[0;32m-> 1241\u001b[0;31m         \u001b[0mnaive\u001b[0m \u001b[0;34m=\u001b[0m \u001b[0mdefault\u001b[0m\u001b[0;34m.\u001b[0m\u001b[0mreplace\u001b[0m\u001b[0;34m(\u001b[0m\u001b[0;34m**\u001b[0m\u001b[0mrepl\u001b[0m\u001b[0;34m)\u001b[0m\u001b[0;34m\u001b[0m\u001b[0;34m\u001b[0m\u001b[0m\n\u001b[0m\u001b[1;32m   1242\u001b[0m \u001b[0;34m\u001b[0m\u001b[0m\n",
      "\u001b[0;31mValueError\u001b[0m: month must be in 1..12",
      "\nThe above exception was the direct cause of the following exception:\n",
      "\u001b[0;31mParserError\u001b[0m                               Traceback (most recent call last)",
      "\u001b[0;32mpandas/_libs/tslibs/conversion.pyx\u001b[0m in \u001b[0;36mpandas._libs.tslibs.conversion._convert_str_to_tsobject\u001b[0;34m()\u001b[0m\n",
      "\u001b[0;32mpandas/_libs/tslibs/parsing.pyx\u001b[0m in \u001b[0;36mpandas._libs.tslibs.parsing.parse_datetime_string\u001b[0;34m()\u001b[0m\n",
      "\u001b[0;32m~/.local/lib/python3.8/site-packages/dateutil/parser/_parser.py\u001b[0m in \u001b[0;36mparse\u001b[0;34m(timestr, parserinfo, **kwargs)\u001b[0m\n\u001b[1;32m   1373\u001b[0m     \u001b[0;32melse\u001b[0m\u001b[0;34m:\u001b[0m\u001b[0;34m\u001b[0m\u001b[0;34m\u001b[0m\u001b[0m\n\u001b[0;32m-> 1374\u001b[0;31m         \u001b[0;32mreturn\u001b[0m \u001b[0mDEFAULTPARSER\u001b[0m\u001b[0;34m.\u001b[0m\u001b[0mparse\u001b[0m\u001b[0;34m(\u001b[0m\u001b[0mtimestr\u001b[0m\u001b[0;34m,\u001b[0m \u001b[0;34m**\u001b[0m\u001b[0mkwargs\u001b[0m\u001b[0;34m)\u001b[0m\u001b[0;34m\u001b[0m\u001b[0;34m\u001b[0m\u001b[0m\n\u001b[0m\u001b[1;32m   1375\u001b[0m \u001b[0;34m\u001b[0m\u001b[0m\n",
      "\u001b[0;32m~/.local/lib/python3.8/site-packages/dateutil/parser/_parser.py\u001b[0m in \u001b[0;36mparse\u001b[0;34m(self, timestr, default, ignoretz, tzinfos, **kwargs)\u001b[0m\n\u001b[1;32m    656\u001b[0m         \u001b[0;32mexcept\u001b[0m \u001b[0mValueError\u001b[0m \u001b[0;32mas\u001b[0m \u001b[0me\u001b[0m\u001b[0;34m:\u001b[0m\u001b[0;34m\u001b[0m\u001b[0;34m\u001b[0m\u001b[0m\n\u001b[0;32m--> 657\u001b[0;31m             \u001b[0msix\u001b[0m\u001b[0;34m.\u001b[0m\u001b[0mraise_from\u001b[0m\u001b[0;34m(\u001b[0m\u001b[0mParserError\u001b[0m\u001b[0;34m(\u001b[0m\u001b[0me\u001b[0m\u001b[0;34m.\u001b[0m\u001b[0margs\u001b[0m\u001b[0;34m[\u001b[0m\u001b[0;36m0\u001b[0m\u001b[0;34m]\u001b[0m \u001b[0;34m+\u001b[0m \u001b[0;34m\": %s\"\u001b[0m\u001b[0;34m,\u001b[0m \u001b[0mtimestr\u001b[0m\u001b[0;34m)\u001b[0m\u001b[0;34m,\u001b[0m \u001b[0me\u001b[0m\u001b[0;34m)\u001b[0m\u001b[0;34m\u001b[0m\u001b[0;34m\u001b[0m\u001b[0m\n\u001b[0m\u001b[1;32m    658\u001b[0m \u001b[0;34m\u001b[0m\u001b[0m\n",
      "\u001b[0;32m/usr/lib/python3/dist-packages/six.py\u001b[0m in \u001b[0;36mraise_from\u001b[0;34m(value, from_value)\u001b[0m\n",
      "\u001b[0;31mParserError\u001b[0m: month must be in 1..12: 2020-13-01 00:00:00",
      "\nDuring handling of the above exception, another exception occurred:\n",
      "\u001b[0;31mValueError\u001b[0m                                Traceback (most recent call last)",
      "\u001b[0;32m<ipython-input-2-e8b09d9a5709>\u001b[0m in \u001b[0;36m<module>\u001b[0;34m\u001b[0m\n\u001b[1;32m     17\u001b[0m \u001b[0mdf\u001b[0m\u001b[0;34m.\u001b[0m\u001b[0mdrop\u001b[0m\u001b[0;34m(\u001b[0m\u001b[0;34m[\u001b[0m\u001b[0;34m'Country'\u001b[0m\u001b[0;34m]\u001b[0m\u001b[0;34m,\u001b[0m \u001b[0minplace\u001b[0m\u001b[0;34m=\u001b[0m\u001b[0;32mTrue\u001b[0m\u001b[0;34m)\u001b[0m\u001b[0;34m\u001b[0m\u001b[0;34m\u001b[0m\u001b[0m\n\u001b[1;32m     18\u001b[0m \u001b[0mdf\u001b[0m\u001b[0;34m.\u001b[0m\u001b[0mindex\u001b[0m\u001b[0;34m.\u001b[0m\u001b[0mname\u001b[0m \u001b[0;34m=\u001b[0m \u001b[0;34m''\u001b[0m\u001b[0;34m\u001b[0m\u001b[0;34m\u001b[0m\u001b[0m\n\u001b[0;32m---> 19\u001b[0;31m df.index = pd.date_range(\n\u001b[0m\u001b[1;32m     20\u001b[0m     \u001b[0mstart\u001b[0m \u001b[0;34m=\u001b[0m \u001b[0mdf\u001b[0m\u001b[0;34m.\u001b[0m\u001b[0mindex\u001b[0m\u001b[0;34m[\u001b[0m\u001b[0;36m0\u001b[0m\u001b[0;34m]\u001b[0m\u001b[0;34m,\u001b[0m\u001b[0;34m\u001b[0m\u001b[0;34m\u001b[0m\u001b[0m\n\u001b[1;32m     21\u001b[0m     \u001b[0mend\u001b[0m \u001b[0;34m=\u001b[0m \u001b[0;34mf\"{str(df.index[-1])[:6]}{int(str(df.index[-1])[6])+1}{str(df.index[-1])[7:]}\"\u001b[0m\u001b[0;34m,\u001b[0m\u001b[0;34m\u001b[0m\u001b[0;34m\u001b[0m\u001b[0m\n",
      "\u001b[0;32m~/.local/lib/python3.8/site-packages/pandas/core/indexes/datetimes.py\u001b[0m in \u001b[0;36mdate_range\u001b[0;34m(start, end, periods, freq, tz, normalize, name, closed, **kwargs)\u001b[0m\n\u001b[1;32m    997\u001b[0m         \u001b[0mfreq\u001b[0m \u001b[0;34m=\u001b[0m \u001b[0;34m\"D\"\u001b[0m\u001b[0;34m\u001b[0m\u001b[0;34m\u001b[0m\u001b[0m\n\u001b[1;32m    998\u001b[0m \u001b[0;34m\u001b[0m\u001b[0m\n\u001b[0;32m--> 999\u001b[0;31m     dtarr = DatetimeArray._generate_range(\n\u001b[0m\u001b[1;32m   1000\u001b[0m         \u001b[0mstart\u001b[0m\u001b[0;34m=\u001b[0m\u001b[0mstart\u001b[0m\u001b[0;34m,\u001b[0m\u001b[0;34m\u001b[0m\u001b[0;34m\u001b[0m\u001b[0m\n\u001b[1;32m   1001\u001b[0m         \u001b[0mend\u001b[0m\u001b[0;34m=\u001b[0m\u001b[0mend\u001b[0m\u001b[0;34m,\u001b[0m\u001b[0;34m\u001b[0m\u001b[0;34m\u001b[0m\u001b[0m\n",
      "\u001b[0;32m~/.local/lib/python3.8/site-packages/pandas/core/arrays/datetimes.py\u001b[0m in \u001b[0;36m_generate_range\u001b[0;34m(cls, start, end, periods, freq, tz, normalize, ambiguous, nonexistent, closed)\u001b[0m\n\u001b[1;32m    371\u001b[0m \u001b[0;34m\u001b[0m\u001b[0m\n\u001b[1;32m    372\u001b[0m         \u001b[0;32mif\u001b[0m \u001b[0mend\u001b[0m \u001b[0;32mis\u001b[0m \u001b[0;32mnot\u001b[0m \u001b[0;32mNone\u001b[0m\u001b[0;34m:\u001b[0m\u001b[0;34m\u001b[0m\u001b[0;34m\u001b[0m\u001b[0m\n\u001b[0;32m--> 373\u001b[0;31m             \u001b[0mend\u001b[0m \u001b[0;34m=\u001b[0m \u001b[0mTimestamp\u001b[0m\u001b[0;34m(\u001b[0m\u001b[0mend\u001b[0m\u001b[0;34m)\u001b[0m\u001b[0;34m\u001b[0m\u001b[0;34m\u001b[0m\u001b[0m\n\u001b[0m\u001b[1;32m    374\u001b[0m \u001b[0;34m\u001b[0m\u001b[0m\n\u001b[1;32m    375\u001b[0m         \u001b[0;32mif\u001b[0m \u001b[0mstart\u001b[0m \u001b[0;32mis\u001b[0m \u001b[0mNaT\u001b[0m \u001b[0;32mor\u001b[0m \u001b[0mend\u001b[0m \u001b[0;32mis\u001b[0m \u001b[0mNaT\u001b[0m\u001b[0;34m:\u001b[0m\u001b[0;34m\u001b[0m\u001b[0;34m\u001b[0m\u001b[0m\n",
      "\u001b[0;32mpandas/_libs/tslibs/timestamps.pyx\u001b[0m in \u001b[0;36mpandas._libs.tslibs.timestamps.Timestamp.__new__\u001b[0;34m()\u001b[0m\n",
      "\u001b[0;32mpandas/_libs/tslibs/conversion.pyx\u001b[0m in \u001b[0;36mpandas._libs.tslibs.conversion.convert_to_tsobject\u001b[0;34m()\u001b[0m\n",
      "\u001b[0;32mpandas/_libs/tslibs/conversion.pyx\u001b[0m in \u001b[0;36mpandas._libs.tslibs.conversion._convert_str_to_tsobject\u001b[0;34m()\u001b[0m\n",
      "\u001b[0;31mValueError\u001b[0m: could not convert string to Timestamp"
     ]
    }
   ],
   "source": [
    "df = web.DataReader(\n",
    "    'MEI_CLI', # https://stats.oecd.org/Index.aspx?DataSetCode=MEI_CLI\n",
    "    'oecd', \n",
    "    start='2007-01-01'\n",
    ")\n",
    "df = df.transpose().loc[(\n",
    "    \"Amplitude adjusted (CLI)\",\n",
    "    #\"Normalised (CLI)\",\n",
    "    #\"Normalised (GDP)\",\n",
    "    #\"Trend restored (CLI)\",\n",
    "),:]\n",
    "df = df.reset_index()\n",
    "df = df[df[\"Frequency\"] == \"Monthly\"].drop([\"Frequency\"], axis='columns')\n",
    "df = df.transpose()\n",
    "df.columns = cc.convert(names = list(df.loc[\"Country\"]), to = 'ISO3', not_found=None) # To avoid string problems\n",
    "df.columns.name = ''\n",
    "df.drop(['Country'], inplace=True)\n",
    "df.index.name = ''\n",
    "df.index = pd.date_range(\n",
    "    start = df.index[0],\n",
    "    end = f\"{str(df.index[-1])[:6]}{int(str(df.index[-1])[6])+1}{str(df.index[-1])[7:]}\",\n",
    "    freq='M', \n",
    ")\n",
    "df.to_csv('../raw/CLI.csv')\n",
    "df.tail()"
   ]
  },
  {
   "cell_type": "markdown",
   "metadata": {},
   "source": [
    "## Visualization"
   ]
  },
  {
   "cell_type": "code",
   "execution_count": null,
   "metadata": {
    "ExecuteTime": {
     "end_time": "2020-12-17T20:15:45.409187Z",
     "start_time": "2020-12-17T20:15:16.817Z"
    }
   },
   "outputs": [],
   "source": [
    "cases = [\"USA\", \"ESP\", \"ITA\", \"G7\", \"OECD total \"]\n",
    "source = f\"Source: OECD\\nLast query: {dt.today():%d/%m/%y}\"\n",
    "\n",
    "fig, ax = plt.subplots(figsize=(8,5))\n",
    "\n",
    "df['2018':][cases].plot(ax=ax, lw=2)\n",
    "df['2018':][[\"BRA\"]].plot(ax=ax, lw=3, color='darkred',)\n",
    "ax.set_title(\"Composite Leading Indicators (MEI)\\nAmplitude adjusted\", fontweight='bold')\n",
    "fig.text(0.79, .28, source, ha='left')\n",
    "ax.axvline(x='2020-03-18', label='More than 60\\ncases in Brazil',\n",
    "           ls='--', color='black', lw=1.5, )\n",
    "ax.legend(loc='center left', bbox_to_anchor=(1, 0.5))\n",
    "\n",
    "plt.tight_layout()\n",
    "sns.despine()\n",
    "plt.show()"
   ]
  },
  {
   "cell_type": "markdown",
   "metadata": {},
   "source": [
    "# Consumer confidence index (CCI)"
   ]
  },
  {
   "cell_type": "code",
   "execution_count": null,
   "metadata": {
    "ExecuteTime": {
     "end_time": "2020-12-17T20:15:45.410344Z",
     "start_time": "2020-12-17T20:15:16.825Z"
    }
   },
   "outputs": [],
   "source": [
    "df = web.DataReader(\n",
    "    'MEI_CLI', # https://stats.oecd.org/Index.aspx?DataSetCode=MEI_CCI\n",
    "    'oecd', \n",
    "    start='2007-01-01'\n",
    ")\n",
    "df = df.transpose().loc[(\n",
    "    'OECD Standardised CCI, Amplitude adjusted (Long term average=100), sa',\n",
    "    #\"Normalised (CLI)\",\n",
    "    #\"Normalised (GDP)\",\n",
    "    #\"Trend restored (CLI)\",\n",
    "),:]\n",
    "df = df.reset_index()\n",
    "df = df[df[\"Frequency\"] == \"Monthly\"].drop([\"Frequency\"], axis='columns')\n",
    "df = df.transpose()\n",
    "df.columns = cc.convert(names = list(df.loc[\"Country\"]), to = 'ISO3', not_found=None) # To avoid string problems\n",
    "df.columns.name = ''\n",
    "df.drop(['Country'], inplace=True)\n",
    "df.index.name = ''\n",
    "df.index = pd.date_range(\n",
    "    start = df.index[0],\n",
    "    end = f\"{str(df.index[-1])[:6]}{int(str(df.index[-1])[6])+1}{str(df.index[-1])[7:]}\",\n",
    "    freq='M', \n",
    ")\n",
    "df.to_csv('../raw/CCI.csv')\n",
    "df.tail()"
   ]
  },
  {
   "cell_type": "markdown",
   "metadata": {},
   "source": [
    "## Visualization"
   ]
  },
  {
   "cell_type": "code",
   "execution_count": null,
   "metadata": {
    "ExecuteTime": {
     "end_time": "2020-12-17T20:15:45.411783Z",
     "start_time": "2020-12-17T20:15:16.833Z"
    }
   },
   "outputs": [],
   "source": [
    "cases = [\"USA\", \"ESP\", \"ITA\", \"G7\", \"OECD total \"]\n",
    "source = f\"Source: OECD\\nLast query: {dt.today():%d/%m/%y}\"\n",
    "\n",
    "fig, ax = plt.subplots(figsize=(8,5))\n",
    "\n",
    "df['2019':][cases].plot(ax=ax, lw=2)\n",
    "df['2019':][[\"BRA\"]].plot(ax=ax, lw=3, color='darkred',)\n",
    "ax.set_title(\"Índice de Confiança do Consumidor (CCI)\", fontweight='bold')\n",
    "fig.text(0.79, .28, source, ha='left')\n",
    "ax.axvline(x='2020-03-24', label='Início do Isolamento em SP',\n",
    "           ls='--', color='black', lw=1.5, )\n",
    "ax.legend(loc='center left', bbox_to_anchor=(1, 0.5))\n",
    "plt.tight_layout()\n",
    "sns.despine()\n",
    "plt.show()"
   ]
  },
  {
   "cell_type": "markdown",
   "metadata": {},
   "source": [
    "# GDP growth rates (QoQ)"
   ]
  },
  {
   "cell_type": "markdown",
   "metadata": {},
   "source": [
    "## Data"
   ]
  },
  {
   "cell_type": "code",
   "execution_count": null,
   "metadata": {
    "ExecuteTime": {
     "end_time": "2020-12-17T20:15:45.413036Z",
     "start_time": "2020-12-17T20:15:16.845Z"
    }
   },
   "outputs": [],
   "source": [
    "\n",
    "df = pd.read_csv(\n",
    "    '../raw/QNAraw.csv',\n",
    ")\n",
    "df = df[['Value', \"TIME\", \"LOCATION\"]]\n",
    "df = pd.pivot_table(\n",
    "    df, \n",
    "    values=\"Value\", \n",
    "    index=\"TIME\", \n",
    "    columns=\"LOCATION\"\n",
    ")\n",
    "df.index = pd.date_range(\n",
    "    start = \"31/03/2018\",\n",
    "    end = \"31/03/2020\",\n",
    "    freq='Q', \n",
    ")\n",
    "df.index.name=''\n",
    "df.columns.name=''\n",
    "df.to_csv('../raw/GDP_QoQ_Growth.csv')\n",
    "df"
   ]
  },
  {
   "cell_type": "markdown",
   "metadata": {},
   "source": [
    "## Visualization"
   ]
  },
  {
   "cell_type": "code",
   "execution_count": null,
   "metadata": {
    "ExecuteTime": {
     "end_time": "2020-12-17T20:15:45.414227Z",
     "start_time": "2020-12-17T20:15:16.853Z"
    }
   },
   "outputs": [],
   "source": [
    "cases = [\"USA\", \"ESP\", \"ITA\", ]\n",
    "source = f\"Source: OECD\\nLast query: {dt.today():%d/%m/%y}\"\n",
    "\n",
    "fig, ax = plt.subplots(figsize=(8,5))\n",
    "\n",
    "df[cases].plot(ax=ax, lw=2)\n",
    "df[[\"BRA\"]].plot(ax=ax, lw=3, color='darkred',)\n",
    "ax.set_title(\"GDP Growth rate QoQ\\nSeasonally adjusted\", fontweight='bold')\n",
    "fig.text(0.88, .35, source, ha='left')\n",
    "ax.legend(loc='center left', bbox_to_anchor=(1, 0.5))\n",
    "\n",
    "plt.tight_layout()\n",
    "sns.despine()\n",
    "plt.show()"
   ]
  },
  {
   "cell_type": "code",
   "execution_count": null,
   "metadata": {
    "ExecuteTime": {
     "end_time": "2020-12-17T20:15:45.414897Z",
     "start_time": "2020-12-17T20:15:16.855Z"
    }
   },
   "outputs": [],
   "source": [
    "# df = web.DataReader(\n",
    "#     'QNA', # https://stats.oecd.org/Index.aspx?DataSetCode=QNA\n",
    "#     'oecd', \n",
    "#     start=dt(2018,3,31),\n",
    "#     end=dt(2018,6,30)\n",
    "# )\n",
    "# df = df.transpose().loc[(\n",
    "#     'B1_GE: Gross domestic product - expenditure approach',\n",
    "#     'GPSA: Growth rate compared to previous quarter, seasonally adjusted',\n",
    "#     #'GYSA: Growth rate compared to the same of previous year, seasonally adjusted',\n",
    "#     'Quarterly'\n",
    "# ),:]\n",
    "# df = df.reset_index()\n",
    "# df = df[df[\"Frequency\"] == \"Quarterly\"].drop([\"Frequency\"], axis='columns')\n",
    "# df = df.transpose()\n",
    "# df"
   ]
  }
 ],
 "metadata": {
  "hide_input": false,
  "kernelspec": {
   "display_name": "Python 3",
   "language": "python",
   "name": "python3"
  },
  "language_info": {
   "codemirror_mode": {
    "name": "ipython",
    "version": 3
   },
   "file_extension": ".py",
   "mimetype": "text/x-python",
   "name": "python",
   "nbconvert_exporter": "python",
   "pygments_lexer": "ipython3",
   "version": "3.8.6"
  },
  "latex_envs": {
   "LaTeX_envs_menu_present": true,
   "autoclose": false,
   "autocomplete": true,
   "bibliofile": "biblio.bib",
   "cite_by": "apalike",
   "current_citInitial": 1,
   "eqLabelWithNumbers": true,
   "eqNumInitial": 1,
   "hotkeys": {
    "equation": "Ctrl-E",
    "itemize": "Ctrl-I"
   },
   "labels_anchors": false,
   "latex_user_defs": false,
   "report_style_numbering": false,
   "user_envs_cfg": false
  }
 },
 "nbformat": 4,
 "nbformat_minor": 4
}
