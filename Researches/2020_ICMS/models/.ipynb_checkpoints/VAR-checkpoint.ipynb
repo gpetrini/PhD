{
 "cells": [
  {
   "cell_type": "markdown",
   "metadata": {},
   "source": [
    "# Pacotes"
   ]
  },
  {
   "cell_type": "code",
   "execution_count": 1,
   "metadata": {
    "ExecuteTime": {
     "end_time": "2020-05-16T19:41:10.817959Z",
     "start_time": "2020-05-16T19:41:06.059600Z"
    }
   },
   "outputs": [],
   "source": [
    "%config InlineBackend.figure_format = 'retina'\n",
    "\n",
    "# Pacotes gerais\n",
    "import pandas as pd\n",
    "import numpy as np\n",
    "import matplotlib.pyplot as plt\n",
    "import seaborn as sns\n",
    "\n",
    "# Pacotes estatísticos\n",
    "from statsmodels.tsa.vector_ar.var_model import VAR\n",
    "from statsmodels.tsa.api import SVAR\n",
    "from statsmodels.stats.diagnostic import acorr_breusch_godfrey, acorr_ljungbox, het_arch, het_breuschpagan, het_white\n",
    "from statsmodels.tsa.stattools import adfuller, kpss, grangercausalitytests, q_stat, coint\n",
    "from statsmodels.graphics.tsaplots import plot_acf, plot_pacf"
   ]
  },
  {
   "cell_type": "code",
   "execution_count": 2,
   "metadata": {
    "ExecuteTime": {
     "end_time": "2020-05-16T19:42:12.041319Z",
     "start_time": "2020-05-16T19:42:12.016195Z"
    }
   },
   "outputs": [],
   "source": [
    "### Resíduos\n",
    "\n",
    "def LjungBox_Pierce(resid, signif = 0.05, boxpierce = False, k = 4):\n",
    "  \"\"\"\n",
    "  resid = residuals df\n",
    "  signif = signif. level\n",
    "  \"\"\"\n",
    "  var = len(resid.columns)\n",
    "  print(\"H0: autocorrelations up to lag k equal zero\")\n",
    "  print('H1: autocorrelations up to lag k not zero')\n",
    "  print(\"Box-Pierce: \", boxpierce)\n",
    "  \n",
    "  for i in range(var):\n",
    "    print(\"Testing for \", resid.columns[i].upper(), \". Considering a significance level of\",  signif*100,\"%\")\n",
    "    result = acorr_ljungbox(x = resid.iloc[:,i-1], lags = k, boxpierce = boxpierce)[i-1]\n",
    "    conclusion = result < signif\n",
    "    for j in range(k):\n",
    "      print(f'p-value = {result[j]}')\n",
    "      print(\"Reject H0 on lag \" ,j+1,\"? \", conclusion[j], \"\\n\")\n",
    "    print(\"\\n\")\n",
    "    \n",
    "def ARCH_LM(resid, signif = 0.05, autolag = 'bic'):\n",
    "  \"\"\"\n",
    "  df = residuals df\n",
    "  signif = signif. level\n",
    "  \"\"\"\n",
    "  var = len(resid.columns)\n",
    "  print(\"H0: Residuals are homoscedastic\")\n",
    "  print('H1: Residuals are heteroskedastic')\n",
    "  \n",
    "  for i in range(var):\n",
    "    print(\"Testing for \", resid.columns[i].upper())\n",
    "    result = het_arch(resid = resid.iloc[:,i], autolag = autolag)\n",
    "    print('LM statistic: ', result[0])\n",
    "    print('LM p-value: ', result[1])\n",
    "    print(\"Reject H0? \", result[1] < signif)\n",
    "    print('F statistic: ', result[2])\n",
    "    print('F p-value: ', result[3])\n",
    "    print(\"Reject H0? \", result[3] < signif)\n",
    "    print('\\n')\n",
    "    \n",
    "\n",
    "def analise_residuos(results, nmax=15):\n",
    "    \n",
    "    residuals = pd.DataFrame(results.resid, columns = results.names)\n",
    "    \n",
    "    residuals.plot()\n",
    "    sns.despine()\n",
    "    plt.show()\n",
    "    \n",
    "    for serie in residuals.columns:\n",
    "        sns.set_context('paper')\n",
    "        fig, ax = plt.subplots(1,2, figsize=(10,8))\n",
    "\n",
    "        plot_acf(residuals[serie], ax=ax[0], title=f'ACF Resíduo de {serie}', zero=False) \n",
    "        plot_pacf(residuals[serie], ax=ax[1], title=f'PACF Resíduo de {serie}', zero=False)\n",
    "        \n",
    "        plt.tight_layout()\n",
    "        sns.despine() \n",
    "        plt.show()\n",
    "\n",
    "    print('AUTOCORRELAÇÃO RESIDUAL: PORTMANTEAU\\n')\n",
    "    print(results.test_whiteness(nlags=nmax).summary())\n",
    "    print('\\nAUTOCORRELAÇÃO RESIDUAL: PORTMANTEAU AJUSTADO\\n')\n",
    "    print(results.test_whiteness(nlags=nmax, adjusted=True).summary())\n",
    "    print('\\nLJUNGBOX\\n')\n",
    "    LjungBox_Pierce(residuals, k = 12, boxpierce=False)\n",
    "    print('\\nBOXPIERCE\\n')\n",
    "    LjungBox_Pierce(residuals, k = 12, boxpierce=True)\n",
    "    print('\\nNORMALIDADE\\n')\n",
    "    print(results.test_normality().summary())\n",
    "    print('\\nHOMOCEDASTICIDADE\\n')\n",
    "    ARCH_LM(residuals)\n",
    "    \n",
    "    return residuals\n",
    "    "
   ]
  },
  {
   "cell_type": "code",
   "execution_count": null,
   "metadata": {},
   "outputs": [],
   "source": [
    "results = []\n",
    "def plot_lags(results = results, trimestres=[2, 5]):\n",
    "    series = results.names\n",
    "    sns.set_context('paper')\n",
    "    fig, ax = plt.subplots(len(trimestres),2, figsize = (16,10))\n",
    "    \n",
    "    for i in range(len(trimestres)):\n",
    "        sns.regplot(y = df[series[0]], x = df[series[1]].shift(-trimestres[i]), color = 'black', ax = ax[i,0], order = 2)\n",
    "        ax[i,0].set_xlabel(f'{series[1]} defasada em {trimestres[i]} trimestres')\n",
    "\n",
    "        sns.regplot(x = df[series[0]].shift(-trimestres[i]), y = df[series[1]], color = 'black', ax = ax[i,1], order = 2)\n",
    "        ax[i,1].set_xlabel(f'{series[0]} defasada em {trimestres[i]} trimestres')\n",
    "    \n",
    "    return fig"
   ]
  },
  {
   "cell_type": "markdown",
   "metadata": {},
   "source": [
    "# Dados"
   ]
  },
  {
   "cell_type": "code",
   "execution_count": null,
   "metadata": {},
   "outputs": [],
   "source": [
    "df = pd.read_csv(\n",
    "    '../data/raw_data.csv',\n",
    "    index_col=[0], \n",
    "    parse_dates=True\n",
    ")\n",
    "df = df[[\n",
    "    \"ICMS Nominal milhões de reais\", \n",
    "    \"Índice da Produção Física Industrial com ajuste sazonal (Média 2012 = 100)\",\n",
    "    \"Taxa de câmbio\",\n",
    "    \"Exportações FOB\",\n",
    "    \"Importações FOB\"\n",
    "]]\n",
    "df.columns = [\"ICMS\", \"Industrial\", \"Cambio\", \"Exportacoes\", \"Importacoes\"]\n",
    "df = df[[\"Exportacoes\", \"Cambio\", \"Importacoes\", \"Industrial\", \"ICMS\"]] ## Ordenação de Cholesky\n",
    "df = df.apply(pd.to_numeric, errors='coerce')\n",
    "df"
   ]
  }
 ],
 "metadata": {
  "hide_input": false,
  "kernelspec": {
   "display_name": "Python 3",
   "language": "python",
   "name": "python3"
  },
  "language_info": {
   "codemirror_mode": {
    "name": "ipython",
    "version": 3
   },
   "file_extension": ".py",
   "mimetype": "text/x-python",
   "name": "python",
   "nbconvert_exporter": "python",
   "pygments_lexer": "ipython3",
   "version": "3.8.2"
  },
  "latex_envs": {
   "LaTeX_envs_menu_present": true,
   "autoclose": false,
   "autocomplete": true,
   "bibliofile": "biblio.bib",
   "cite_by": "apalike",
   "current_citInitial": 1,
   "eqLabelWithNumbers": true,
   "eqNumInitial": 1,
   "hotkeys": {
    "equation": "Ctrl-E",
    "itemize": "Ctrl-I"
   },
   "labels_anchors": false,
   "latex_user_defs": false,
   "report_style_numbering": false,
   "user_envs_cfg": false
  }
 },
 "nbformat": 4,
 "nbformat_minor": 4
}
